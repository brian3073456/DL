{
  "nbformat": 4,
  "nbformat_minor": 0,
  "metadata": {
    "colab": {
      "name": "Untitled6.ipynb",
      "provenance": [],
      "collapsed_sections": [],
      "authorship_tag": "ABX9TyMGmc4f3va7ebiRNtNLt6sG",
      "include_colab_link": true
    },
    "kernelspec": {
      "name": "python3",
      "display_name": "Python 3"
    },
    "accelerator": "GPU"
  },
  "cells": [
    {
      "cell_type": "markdown",
      "metadata": {
        "id": "view-in-github",
        "colab_type": "text"
      },
      "source": [
        "<a href=\"https://colab.research.google.com/github/brian3073456/DL/blob/master/Untitled6.ipynb\" target=\"_parent\"><img src=\"https://colab.research.google.com/assets/colab-badge.svg\" alt=\"Open In Colab\"/></a>"
      ]
    },
    {
      "cell_type": "code",
      "metadata": {
        "id": "L_-9G9pAPJ7j",
        "colab_type": "code",
        "colab": {
          "base_uri": "https://localhost:8080/",
          "height": 34
        },
        "outputId": "266bb679-7117-4d53-aeb6-15e31b81a4bc"
      },
      "source": [
        "print (\"Hello, worold!\")"
      ],
      "execution_count": 1,
      "outputs": [
        {
          "output_type": "stream",
          "text": [
            "Hello, worold!\n"
          ],
          "name": "stdout"
        }
      ]
    },
    {
      "cell_type": "code",
      "metadata": {
        "id": "aQHz-klzStzp",
        "colab_type": "code",
        "colab": {
          "base_uri": "https://localhost:8080/",
          "height": 34
        },
        "outputId": "976b67f8-6a8b-49e8-b9ab-fbf1991fb938"
      },
      "source": [
        "list1=range(10)\n",
        "print(list1)"
      ],
      "execution_count": 1,
      "outputs": [
        {
          "output_type": "stream",
          "text": [
            "range(0, 10)\n"
          ],
          "name": "stdout"
        }
      ]
    },
    {
      "cell_type": "code",
      "metadata": {
        "id": "0BnnwNq6Tiho",
        "colab_type": "code",
        "colab": {
          "base_uri": "https://localhost:8080/",
          "height": 51
        },
        "outputId": "b2d4f4cb-98c7-4d5a-feac-96600fecaff3"
      },
      "source": [
        "x = input('Enter your name:')\n",
        "print('Hello, ' + x)"
      ],
      "execution_count": 2,
      "outputs": [
        {
          "output_type": "stream",
          "text": [
            "Enter your name:龍大大\n",
            "Hello, 龍大大\n"
          ],
          "name": "stdout"
        }
      ]
    },
    {
      "cell_type": "code",
      "metadata": {
        "id": "Y-P_nJAQToxB",
        "colab_type": "code",
        "colab": {
          "base_uri": "https://localhost:8080/",
          "height": 51
        },
        "outputId": "e790eb11-f3a4-41ee-d0d5-758bfc294d8a"
      },
      "source": [
        "x = input('Enter your name:')\n",
        "print('Hello, ' + x)"
      ],
      "execution_count": 3,
      "outputs": [
        {
          "output_type": "stream",
          "text": [
            "Enter your name:偉大授課恩師\n",
            "Hello, 偉大授課恩師\n"
          ],
          "name": "stdout"
        }
      ]
    },
    {
      "cell_type": "code",
      "metadata": {
        "id": "DgeZGSmmT5Wz",
        "colab_type": "code",
        "colab": {
          "base_uri": "https://localhost:8080/",
          "height": 51
        },
        "outputId": "5e741ce8-d53b-4f5b-c70e-224ce43730b0"
      },
      "source": [
        "a = input(\"請輸入：\")\n",
        "a"
      ],
      "execution_count": 4,
      "outputs": [
        {
          "output_type": "stream",
          "text": [
            "請輸入：100\n"
          ],
          "name": "stdout"
        },
        {
          "output_type": "execute_result",
          "data": {
            "text/plain": [
              "'100'"
            ]
          },
          "metadata": {
            "tags": []
          },
          "execution_count": 4
        }
      ]
    },
    {
      "cell_type": "code",
      "metadata": {
        "id": "Hjtzt6TdT-kq",
        "colab_type": "code",
        "colab": {
          "base_uri": "https://localhost:8080/",
          "height": 51
        },
        "outputId": "f050151b-3bb7-4dfe-e005-867f5094cca7"
      },
      "source": [
        "a = eval(input(\"請輸入：\"))\n",
        "a\n",
        "b=a+1\n",
        "b\n"
      ],
      "execution_count": 13,
      "outputs": [
        {
          "output_type": "stream",
          "text": [
            "請輸入：100\n"
          ],
          "name": "stdout"
        },
        {
          "output_type": "execute_result",
          "data": {
            "text/plain": [
              "101"
            ]
          },
          "metadata": {
            "tags": []
          },
          "execution_count": 13
        }
      ]
    },
    {
      "cell_type": "code",
      "metadata": {
        "id": "Ff2WT5ixWnXk",
        "colab_type": "code",
        "colab": {
          "base_uri": "https://localhost:8080/",
          "height": 51
        },
        "outputId": "5b9220ab-fb13-4522-ef1c-e6e04750e814"
      },
      "source": [
        "a,b = eval(input(\"請輸入兩個數位：\"))\n",
        "a,b"
      ],
      "execution_count": 16,
      "outputs": [
        {
          "output_type": "stream",
          "text": [
            "請輸入兩個數位：88,77\n"
          ],
          "name": "stdout"
        },
        {
          "output_type": "execute_result",
          "data": {
            "text/plain": [
              "(88, 77)"
            ]
          },
          "metadata": {
            "tags": []
          },
          "execution_count": 16
        }
      ]
    },
    {
      "cell_type": "code",
      "metadata": {
        "id": "3RfX-8aAW9dG",
        "colab_type": "code",
        "colab": {
          "base_uri": "https://localhost:8080/",
          "height": 51
        },
        "outputId": "fbd9bb9a-30fe-446c-ef8e-6abcf6bf2a24"
      },
      "source": [
        "var1 = 'Hello Python!'\n",
        " \n",
        "print(\"var1[0]: \", var1[0])\n",
        "print(\"var1[1:8]: \", var1[1:8])\n",
        "\n",
        "\n"
      ],
      "execution_count": 17,
      "outputs": [
        {
          "output_type": "stream",
          "text": [
            "var1[0]:  H\n",
            "var1[1:8]:  ello Py\n"
          ],
          "name": "stdout"
        }
      ]
    },
    {
      "cell_type": "code",
      "metadata": {
        "id": "lj3VJ8JjXbHv",
        "colab_type": "code",
        "colab": {
          "base_uri": "https://localhost:8080/",
          "height": 68
        },
        "outputId": "c53be86f-f093-4a45-9ef7-7c3b9dab876b"
      },
      "source": [
        "str1 = '這是字串'\n",
        "print(str1)\n",
        "\n",
        "str2 = \"這也是字串\"\n",
        "print(str2)\n",
        "\n",
        "str3 = 'allows embedded \"double\" quotes'\n",
        "print(str3)"
      ],
      "execution_count": 19,
      "outputs": [
        {
          "output_type": "stream",
          "text": [
            "這是字串\n",
            "這也是字串\n",
            "allows embedded \"double\" quotes\n"
          ],
          "name": "stdout"
        }
      ]
    },
    {
      "cell_type": "code",
      "metadata": {
        "id": "eLWppV-LXo_G",
        "colab_type": "code",
        "colab": {
          "base_uri": "https://localhost:8080/",
          "height": 68
        },
        "outputId": "f61775fa-a35a-449e-f69d-5f10dd9a8f47"
      },
      "source": [
        "#!/usr/bin/python\n",
        "# -*- coding: UTF-8 -*-\n",
        " \n",
        "str1 = 'Hello World!'\n",
        "\n",
        "print(\"更新前的字串-> \", str1[:])\n",
        "print(\"更新前的字串(也可以這樣寫)-> \", str1)\n",
        "print(\"更新後的字串-> \", str1[:6] + 'Python!')"
      ],
      "execution_count": 20,
      "outputs": [
        {
          "output_type": "stream",
          "text": [
            "更新前的字串->  Hello World!\n",
            "更新前的字串(也可以這樣寫)->  Hello World!\n",
            "更新後的字串->  Hello Python!\n"
          ],
          "name": "stdout"
        }
      ]
    },
    {
      "cell_type": "code",
      "metadata": {
        "id": "dea0y_4oXqZD",
        "colab_type": "code",
        "colab": {
          "base_uri": "https://localhost:8080/",
          "height": 34
        },
        "outputId": "2e5e2f2c-b9e8-4506-c189-107b0866b03f"
      },
      "source": [
        "str4=str1 + str2\n",
        "print(str4)"
      ],
      "execution_count": 21,
      "outputs": [
        {
          "output_type": "stream",
          "text": [
            "Hello World!這也是字串\n"
          ],
          "name": "stdout"
        }
      ]
    },
    {
      "cell_type": "code",
      "metadata": {
        "id": "YOV7vIGGX6V_",
        "colab_type": "code",
        "colab": {
          "base_uri": "https://localhost:8080/",
          "height": 34
        },
        "outputId": "117c8420-285d-441f-de3e-20aabe34e5ae"
      },
      "source": [
        "import torch\n",
        "torch. version"
      ],
      "execution_count": 26,
      "outputs": [
        {
          "output_type": "execute_result",
          "data": {
            "text/plain": [
              "<module 'torch.version' from '/usr/local/lib/python3.6/dist-packages/torch/version.py'>"
            ]
          },
          "metadata": {
            "tags": []
          },
          "execution_count": 26
        }
      ]
    },
    {
      "cell_type": "code",
      "metadata": {
        "id": "2GTxwUq-Ybno",
        "colab_type": "code",
        "colab": {
          "base_uri": "https://localhost:8080/",
          "height": 250
        },
        "outputId": "bed7db5b-78d2-4a49-8754-3efe184587f0"
      },
      "source": [
        "str1='happy python day'\n",
        "str2='    Oh!   '\n",
        "str4=str1 + str2\n",
        "print(str4.capitalize())\n",
        "\n",
        "mystr = 'python'\n",
        "str4.find(pyth, beg=0, end=len(str4))\n",
        "\n",
        "print(str4.encode('base64'))"
      ],
      "execution_count": 27,
      "outputs": [
        {
          "output_type": "stream",
          "text": [
            "Happy python day    oh!   \n"
          ],
          "name": "stdout"
        },
        {
          "output_type": "error",
          "ename": "NameError",
          "evalue": "ignored",
          "traceback": [
            "\u001b[0;31m---------------------------------------------------------------------------\u001b[0m",
            "\u001b[0;31mNameError\u001b[0m                                 Traceback (most recent call last)",
            "\u001b[0;32m<ipython-input-27-549824ffb15c>\u001b[0m in \u001b[0;36m<module>\u001b[0;34m()\u001b[0m\n\u001b[1;32m      5\u001b[0m \u001b[0;34m\u001b[0m\u001b[0m\n\u001b[1;32m      6\u001b[0m \u001b[0mmystr\u001b[0m \u001b[0;34m=\u001b[0m \u001b[0;34m'python'\u001b[0m\u001b[0;34m\u001b[0m\u001b[0;34m\u001b[0m\u001b[0m\n\u001b[0;32m----> 7\u001b[0;31m \u001b[0mstr4\u001b[0m\u001b[0;34m.\u001b[0m\u001b[0mfind\u001b[0m\u001b[0;34m(\u001b[0m\u001b[0mpyth\u001b[0m\u001b[0;34m,\u001b[0m \u001b[0mbeg\u001b[0m\u001b[0;34m=\u001b[0m\u001b[0;36m0\u001b[0m\u001b[0;34m,\u001b[0m \u001b[0mend\u001b[0m\u001b[0;34m=\u001b[0m\u001b[0mlen\u001b[0m\u001b[0;34m(\u001b[0m\u001b[0mstr4\u001b[0m\u001b[0;34m)\u001b[0m\u001b[0;34m)\u001b[0m\u001b[0;34m\u001b[0m\u001b[0;34m\u001b[0m\u001b[0m\n\u001b[0m\u001b[1;32m      8\u001b[0m \u001b[0;34m\u001b[0m\u001b[0m\n\u001b[1;32m      9\u001b[0m \u001b[0mprint\u001b[0m\u001b[0;34m(\u001b[0m\u001b[0mstr4\u001b[0m\u001b[0;34m.\u001b[0m\u001b[0mencode\u001b[0m\u001b[0;34m(\u001b[0m\u001b[0;34m'base64'\u001b[0m\u001b[0;34m)\u001b[0m\u001b[0;34m)\u001b[0m\u001b[0;34m\u001b[0m\u001b[0;34m\u001b[0m\u001b[0m\n",
            "\u001b[0;31mNameError\u001b[0m: name 'pyth' is not defined"
          ]
        }
      ]
    },
    {
      "cell_type": "code",
      "metadata": {
        "id": "qTqJAmBbYyl_",
        "colab_type": "code",
        "colab": {
          "base_uri": "https://localhost:8080/",
          "height": 85
        },
        "outputId": "25fb876d-7f9c-4b36-c561-03c8545d9fd2"
      },
      "source": [
        "#!/usr/bin/python\n",
        "# -*- coding: UTF-8 -*-\n",
        " \n",
        "str = \"Python2019\"\n",
        "print(str.isalnum())\n",
        "\n",
        "str = \"Python\"\n",
        "print(str.isalnum())\n",
        "\n",
        "str = \"2019\"\n",
        "print(str.isalnum())\n",
        "\n",
        "str = \"Python 2019\"\n",
        "print(str.isalnum())"
      ],
      "execution_count": 30,
      "outputs": [
        {
          "output_type": "stream",
          "text": [
            "True\n",
            "True\n",
            "True\n",
            "False\n"
          ],
          "name": "stdout"
        }
      ]
    },
    {
      "cell_type": "code",
      "metadata": {
        "id": "6VkofO8kYicu",
        "colab_type": "code",
        "colab": {
          "base_uri": "https://localhost:8080/",
          "height": 51
        },
        "outputId": "3b999456-7ea3-4d1e-8f7b-fb0f65b636a8"
      },
      "source": [
        "#!/usr/bin/python\n",
        "# -*- coding: UTF-8 -*-\n",
        " \n",
        "str = \"Python2019\"\n",
        "print(str.isalpha())\n",
        "\n",
        "#!/usr/bin/python\n",
        "# -*- coding: UTF-8 -*-\n",
        " \n",
        "str = \"Python\"\n",
        "print(str.isalpha())"
      ],
      "execution_count": 29,
      "outputs": [
        {
          "output_type": "stream",
          "text": [
            "False\n",
            "True\n"
          ],
          "name": "stdout"
        }
      ]
    },
    {
      "cell_type": "code",
      "metadata": {
        "id": "qsPiKPfnY3vn",
        "colab_type": "code",
        "colab": {
          "base_uri": "https://localhost:8080/",
          "height": 34
        },
        "outputId": "e97f9a8f-3779-4aa4-9cc0-2f8eb1f6b027"
      },
      "source": [
        "a = 17 / 3\n",
        "b = 17 // 3\n",
        "c = 17 % 3\n",
        "\n",
        "a,b,c"
      ],
      "execution_count": 31,
      "outputs": [
        {
          "output_type": "execute_result",
          "data": {
            "text/plain": [
              "(5.666666666666667, 5, 2)"
            ]
          },
          "metadata": {
            "tags": []
          },
          "execution_count": 31
        }
      ]
    },
    {
      "cell_type": "code",
      "metadata": {
        "id": "aibAicqtY6xo",
        "colab_type": "code",
        "colab": {
          "base_uri": "https://localhost:8080/",
          "height": 51
        },
        "outputId": "83501446-6825-4a5e-a806-d17b747f6b94"
      },
      "source": [
        "var1 = 'Hello Python!'\n",
        " \n",
        "print(\"var1[0]: \", var1[0])\n",
        "print(\"var1[1:8]: \", var1[1:8])\n"
      ],
      "execution_count": 32,
      "outputs": [
        {
          "output_type": "stream",
          "text": [
            "var1[0]:  H\n",
            "var1[1:8]:  ello Py\n"
          ],
          "name": "stdout"
        }
      ]
    },
    {
      "cell_type": "code",
      "metadata": {
        "id": "1sMDe5g6Y9c4",
        "colab_type": "code",
        "colab": {
          "base_uri": "https://localhost:8080/",
          "height": 34
        },
        "outputId": "2bc13d35-fd74-4737-ea24-e237d8f40557"
      },
      "source": [
        "list1 = [21, 33, 14, 12, 32,98]\n",
        "\n",
        "list1[1]\n",
        "len(list1)\n",
        "max(list1)\n",
        "min(list1)\n",
        "sum(list1)"
      ],
      "execution_count": 33,
      "outputs": [
        {
          "output_type": "execute_result",
          "data": {
            "text/plain": [
              "210"
            ]
          },
          "metadata": {
            "tags": []
          },
          "execution_count": 33
        }
      ]
    },
    {
      "cell_type": "code",
      "metadata": {
        "id": "6q6Obu_oY_T6",
        "colab_type": "code",
        "colab": {
          "base_uri": "https://localhost:8080/",
          "height": 51
        },
        "outputId": "a9c1c34f-58df-4717-a581-e6c4c9a7367d"
      },
      "source": [
        "dict = {'Name': 'DaDaLong', 'Age': 17, 'Class': 'First'}\n",
        " \n",
        "print(\"dict['Name']: \", dict['Name'])\n",
        "print(\"dict['Age']: \", dict['Age'])"
      ],
      "execution_count": 34,
      "outputs": [
        {
          "output_type": "stream",
          "text": [
            "dict['Name']:  DaDaLong\n",
            "dict['Age']:  17\n"
          ],
          "name": "stdout"
        }
      ]
    },
    {
      "cell_type": "code",
      "metadata": {
        "id": "Zs0Z7AN9ZBT3",
        "colab_type": "code",
        "colab": {
          "base_uri": "https://localhost:8080/",
          "height": 34
        },
        "outputId": "b8c06c5f-63e4-44bc-fbdb-faaa14d87593"
      },
      "source": [
        "-3%2"
      ],
      "execution_count": 38,
      "outputs": [
        {
          "output_type": "execute_result",
          "data": {
            "text/plain": [
              "1"
            ]
          },
          "metadata": {
            "tags": []
          },
          "execution_count": 38
        }
      ]
    },
    {
      "cell_type": "code",
      "metadata": {
        "id": "wQm1QN2vZJIw",
        "colab_type": "code",
        "colab": {
          "base_uri": "https://localhost:8080/",
          "height": 34
        },
        "outputId": "8ca2e0dd-74b9-4aea-f3fa-5cbbf09b8d32"
      },
      "source": [
        "5 ** 2"
      ],
      "execution_count": 39,
      "outputs": [
        {
          "output_type": "execute_result",
          "data": {
            "text/plain": [
              "25"
            ]
          },
          "metadata": {
            "tags": []
          },
          "execution_count": 39
        }
      ]
    },
    {
      "cell_type": "code",
      "metadata": {
        "id": "Od3HeLGGZLdf",
        "colab_type": "code",
        "colab": {
          "base_uri": "https://localhost:8080/",
          "height": 34
        },
        "outputId": "b7caee5e-4b3d-48a1-fbaa-599e9b52fed5"
      },
      "source": [
        "x = 5\n",
        "\n",
        "print(x > 3 and x < 10)"
      ],
      "execution_count": 40,
      "outputs": [
        {
          "output_type": "stream",
          "text": [
            "True\n"
          ],
          "name": "stdout"
        }
      ]
    },
    {
      "cell_type": "code",
      "metadata": {
        "id": "nYC5SrKxZMfb",
        "colab_type": "code",
        "colab": {
          "base_uri": "https://localhost:8080/",
          "height": 34
        },
        "outputId": "ad145348-c833-49d5-9965-c13ea7e97690"
      },
      "source": [
        "x = 5\n",
        "\n",
        "print(x > 3 or x < 4)"
      ],
      "execution_count": 41,
      "outputs": [
        {
          "output_type": "stream",
          "text": [
            "True\n"
          ],
          "name": "stdout"
        }
      ]
    },
    {
      "cell_type": "code",
      "metadata": {
        "id": "txLZPdHEZPDI",
        "colab_type": "code",
        "colab": {
          "base_uri": "https://localhost:8080/",
          "height": 34
        },
        "outputId": "f19e8524-80d9-461e-8b30-31f08c9787a1"
      },
      "source": [
        "x = 5\n",
        "\n",
        "print(not(x > 3 and x < 10))"
      ],
      "execution_count": 42,
      "outputs": [
        {
          "output_type": "stream",
          "text": [
            "False\n"
          ],
          "name": "stdout"
        }
      ]
    },
    {
      "cell_type": "code",
      "metadata": {
        "id": "5aeZrVkVZQCb",
        "colab_type": "code",
        "colab": {
          "base_uri": "https://localhost:8080/",
          "height": 153
        },
        "outputId": "b817c566-66f5-4735-974a-823e96aa7157"
      },
      "source": [
        "a = 60            # 60 = 0011 1100 \n",
        "b = 13            # 13 = 0000 1101 \n",
        "c = 0\n",
        "\n",
        "print (\"0 - a =  60 = 0011 1100(二進位) \")\n",
        "print (\"0 - b =  13 = 0000 1101(二進位) \")\n",
        "c = a & b;        # 12 = 0000 1100\n",
        "print (\"1 - c = a & b的值為：\", c)\n",
        " \n",
        "c = a | b;        # 61 = 0011 1101 \n",
        "print (\"2 - c = a | b的值為：\", c)\n",
        " \n",
        "c = a ^ b;        # 49 = 0011 0001\n",
        "print (\"3 - c= a ^ b 的值為：\", c)\n",
        " \n",
        "c = ~a;           # -61 = 1100 0011\n",
        "print (\"4 - c = ~a的值為：\", c)\n",
        " \n",
        "c = a << 2;       # 240 = 1111 0000\n",
        "print (\"5 - c = a << 2的值為：\", c)\n",
        " \n",
        "c = a >> 2;       # 15 = 0000 1111\n",
        "print (\"6 - c = a >> 2的值為：\", c)\n"
      ],
      "execution_count": 43,
      "outputs": [
        {
          "output_type": "stream",
          "text": [
            "0 - a =  60 = 0011 1100(二進位) \n",
            "0 - b =  13 = 0000 1101(二進位) \n",
            "1 - c = a & b的值為： 12\n",
            "2 - c = a | b的值為： 61\n",
            "3 - c= a ^ b 的值為： 49\n",
            "4 - c = ~a的值為： -61\n",
            "5 - c = a << 2的值為： 240\n",
            "6 - c = a >> 2的值為： 15\n"
          ],
          "name": "stdout"
        }
      ]
    },
    {
      "cell_type": "code",
      "metadata": {
        "id": "Oui02YIsZTnp",
        "colab_type": "code",
        "colab": {
          "base_uri": "https://localhost:8080/",
          "height": 34
        },
        "outputId": "a086d18b-4611-4737-b741-2518b6b6381d"
      },
      "source": [
        "x = bin(36)\n",
        "x\n"
      ],
      "execution_count": 44,
      "outputs": [
        {
          "output_type": "execute_result",
          "data": {
            "text/plain": [
              "'0b100100'"
            ]
          },
          "metadata": {
            "tags": []
          },
          "execution_count": 44
        }
      ]
    },
    {
      "cell_type": "code",
      "metadata": {
        "id": "re3h8_X8ZXI3",
        "colab_type": "code",
        "colab": {
          "base_uri": "https://localhost:8080/",
          "height": 34
        },
        "outputId": "dcd157cc-4878-44cc-97ec-eacba8a0f22c"
      },
      "source": [
        "x = oct(36)\n",
        "x"
      ],
      "execution_count": 45,
      "outputs": [
        {
          "output_type": "execute_result",
          "data": {
            "text/plain": [
              "'0o44'"
            ]
          },
          "metadata": {
            "tags": []
          },
          "execution_count": 45
        }
      ]
    },
    {
      "cell_type": "code",
      "metadata": {
        "id": "wITHoeWLZY5z",
        "colab_type": "code",
        "colab": {
          "base_uri": "https://localhost:8080/",
          "height": 34
        },
        "outputId": "06b3f3dc-464b-4af9-deda-9c8807e583c6"
      },
      "source": [
        "x = hex(255)\n",
        "x"
      ],
      "execution_count": 46,
      "outputs": [
        {
          "output_type": "execute_result",
          "data": {
            "text/plain": [
              "'0xff'"
            ]
          },
          "metadata": {
            "tags": []
          },
          "execution_count": 46
        }
      ]
    },
    {
      "cell_type": "code",
      "metadata": {
        "id": "jkGE3YkcZbI5",
        "colab_type": "code",
        "colab": {
          "base_uri": "https://localhost:8080/",
          "height": 34
        },
        "outputId": "1c02063a-80f9-4232-a28e-d4e28b98a978"
      },
      "source": [
        "x=int('10',2)\n",
        "x\n",
        "\n",
        "x=int('10',16)\n",
        "x\n",
        "\n",
        "x=int('10',8)\n",
        "x"
      ],
      "execution_count": 47,
      "outputs": [
        {
          "output_type": "execute_result",
          "data": {
            "text/plain": [
              "8"
            ]
          },
          "metadata": {
            "tags": []
          },
          "execution_count": 47
        }
      ]
    },
    {
      "cell_type": "code",
      "metadata": {
        "id": "pVrdRtAoZfDn",
        "colab_type": "code",
        "colab": {
          "base_uri": "https://localhost:8080/",
          "height": 51
        },
        "outputId": "4784c5dd-bf6d-4321-b28e-36c217b7c52b"
      },
      "source": [
        "#Round a number to only two decimals:\n",
        "\n",
        "x = round(5.76543, 2)\n",
        "print(x)\n",
        "\n",
        "# Round to the nearest integer:\n",
        "\n",
        "x = round(5.76543)\n",
        "print(x)"
      ],
      "execution_count": 48,
      "outputs": [
        {
          "output_type": "stream",
          "text": [
            "5.77\n",
            "6\n"
          ],
          "name": "stdout"
        }
      ]
    },
    {
      "cell_type": "code",
      "metadata": {
        "id": "xGjH30z2Zi5Y",
        "colab_type": "code",
        "colab": {
          "base_uri": "https://localhost:8080/",
          "height": 34
        },
        "outputId": "5f452884-74e4-43c6-83b6-0e89ee06428d"
      },
      "source": [
        "a = 1.0004\n",
        "int(a)\n",
        "\n",
        "b = 0.9999\n",
        "int(a)"
      ],
      "execution_count": 49,
      "outputs": [
        {
          "output_type": "execute_result",
          "data": {
            "text/plain": [
              "1"
            ]
          },
          "metadata": {
            "tags": []
          },
          "execution_count": 49
        }
      ]
    },
    {
      "cell_type": "code",
      "metadata": {
        "id": "tvlKX60NZo7R",
        "colab_type": "code",
        "colab": {
          "base_uri": "https://localhost:8080/",
          "height": 34
        },
        "outputId": "99dcb2e6-8d94-4ed0-df9e-141610f4c38b"
      },
      "source": [
        "import time\n",
        "\n",
        "date = time.localtime()\t\t#取得目前的日期時間\n",
        "year = date[0]\n",
        "month = date[1]\n",
        "day = date[2]\n",
        "\n",
        "day_month = [31, 28, 31, 30, 31, 30, 31, 31, 30, 31, 30, 31]\n",
        "\n",
        "if year%400==0 or (year%4==0 and year%100!=0):\t#判斷是否為閏年\n",
        "  day_month[1] = 29\n",
        "\n",
        "if month==1:\n",
        "    print(day)\n",
        "else:\n",
        "    print(sum(day_month[:month-1])+day)"
      ],
      "execution_count": 50,
      "outputs": [
        {
          "output_type": "stream",
          "text": [
            "65\n"
          ],
          "name": "stdout"
        }
      ]
    },
    {
      "cell_type": "code",
      "metadata": {
        "id": "kQyI3ZppZtwO",
        "colab_type": "code",
        "colab": {
          "base_uri": "https://localhost:8080/",
          "height": 51
        },
        "outputId": "17bb675c-b11f-4fff-d3a2-50d170dae30a"
      },
      "source": [
        "money = int(input(\"請輸入購物金額：\"))\n",
        "\n",
        "if(money >= 10000):\n",
        "    if(money >= 100000):\n",
        "        print(money * 0.8, end=\" 元\\n\")  #八折\n",
        "    elif(money >= 50000):\n",
        "        print(money * 0.85, end=\" 元\\n\")  #八五折\n",
        "    elif(money >= 30000):\n",
        "        print(money * 0.9, end=\" 元\\n\")  #九折\n",
        "    else:\n",
        "        print(money * 0.95, end=\" 元\\n\")  #九五折\n",
        "else:\n",
        "    print(money, end=\" 元\\n\")  #未打折"
      ],
      "execution_count": 51,
      "outputs": [
        {
          "output_type": "stream",
          "text": [
            "請輸入購物金額：111111\n",
            "88888.8 元\n"
          ],
          "name": "stdout"
        }
      ]
    },
    {
      "cell_type": "code",
      "metadata": {
        "id": "HuPMj3zHZzVX",
        "colab_type": "code",
        "colab": {
          "base_uri": "https://localhost:8080/",
          "height": 238
        },
        "outputId": "5912a3e6-d668-4e9d-f33d-0c44053bf848"
      },
      "source": [
        "for n in range(5):\n",
        "  print(n)\n",
        "\n",
        "for n in range(10):\n",
        "    print(n, end='@')\n",
        "\n",
        "    #print(n, end='%%%%')\n",
        "\n",
        "mysum = 0\n",
        "\n",
        "for n in range(5):\n",
        "  mysum += n\n",
        "  print(mysum)\n",
        "\n",
        "mysum = 0\n",
        "\n",
        "for n in range(5):\n",
        "  mysum += n\n",
        "\n",
        "print(mysum)\n",
        "\n",
        "x = int(input(\"請輸入一個正整數:\"))\n",
        "mysum = 0\n",
        "\n",
        "for n in range(x):\n",
        "  mysum += n\n",
        "\n",
        "print(mysum)"
      ],
      "execution_count": 54,
      "outputs": [
        {
          "output_type": "stream",
          "text": [
            "0\n",
            "1\n",
            "2\n",
            "3\n",
            "4\n",
            "0@1@2@3@4@5@6@7@8@9@0\n",
            "1\n",
            "3\n",
            "6\n",
            "10\n",
            "10\n",
            "請輸入一個正整數:87\n",
            "3741\n"
          ],
          "name": "stdout"
        }
      ]
    },
    {
      "cell_type": "code",
      "metadata": {
        "id": "nrd-kVBMZ_7J",
        "colab_type": "code",
        "colab": {
          "base_uri": "https://localhost:8080/",
          "height": 1000
        },
        "outputId": "0c95637d-57d8-4cff-f3e9-2c0058946b1d"
      },
      "source": [
        "#!/usr/bin/python\n",
        "# -*- coding: UTF-8 -*-\n",
        " \n",
        "for i in range(1,6):\n",
        "    for j in range(1,5):\n",
        "        for k in range(1,7):\n",
        "            if( i != k ) and (i != j) and (j != k):\n",
        "                print(i,j,k)"
      ],
      "execution_count": 55,
      "outputs": [
        {
          "output_type": "stream",
          "text": [
            "1 2 3\n",
            "1 2 4\n",
            "1 2 5\n",
            "1 2 6\n",
            "1 3 2\n",
            "1 3 4\n",
            "1 3 5\n",
            "1 3 6\n",
            "1 4 2\n",
            "1 4 3\n",
            "1 4 5\n",
            "1 4 6\n",
            "2 1 3\n",
            "2 1 4\n",
            "2 1 5\n",
            "2 1 6\n",
            "2 3 1\n",
            "2 3 4\n",
            "2 3 5\n",
            "2 3 6\n",
            "2 4 1\n",
            "2 4 3\n",
            "2 4 5\n",
            "2 4 6\n",
            "3 1 2\n",
            "3 1 4\n",
            "3 1 5\n",
            "3 1 6\n",
            "3 2 1\n",
            "3 2 4\n",
            "3 2 5\n",
            "3 2 6\n",
            "3 4 1\n",
            "3 4 2\n",
            "3 4 5\n",
            "3 4 6\n",
            "4 1 2\n",
            "4 1 3\n",
            "4 1 5\n",
            "4 1 6\n",
            "4 2 1\n",
            "4 2 3\n",
            "4 2 5\n",
            "4 2 6\n",
            "4 3 1\n",
            "4 3 2\n",
            "4 3 5\n",
            "4 3 6\n",
            "5 1 2\n",
            "5 1 3\n",
            "5 1 4\n",
            "5 1 6\n",
            "5 2 1\n",
            "5 2 3\n",
            "5 2 4\n",
            "5 2 6\n",
            "5 3 1\n",
            "5 3 2\n",
            "5 3 4\n",
            "5 3 6\n",
            "5 4 1\n",
            "5 4 2\n",
            "5 4 3\n",
            "5 4 6\n"
          ],
          "name": "stdout"
        }
      ]
    },
    {
      "cell_type": "code",
      "metadata": {
        "id": "tTtIrYkWaBu7",
        "colab_type": "code",
        "colab": {
          "base_uri": "https://localhost:8080/",
          "height": 68
        },
        "outputId": "47faf721-0149-43b6-b933-a18190f3c632"
      },
      "source": [
        "#!/usr/bin/python\n",
        "# -*- coding: UTF-8 -*-\n",
        " \n",
        "i = int(input('淨利潤:'))\n",
        "\n",
        "arr = [1000000,600000,400000,200000,100000,0]\n",
        "rat = [0.01,0.015,0.03,0.05,0.075,0.1]\n",
        "r = 0\n",
        "\n",
        "for idx in range(0,6):\n",
        "    if i>arr[idx]:\n",
        "        r+=(i-arr[idx])*rat[idx]\n",
        "        print((i-arr[idx])*rat[idx])\n",
        "        i=arr[idx]\n",
        "\n",
        "print(r)"
      ],
      "execution_count": 56,
      "outputs": [
        {
          "output_type": "stream",
          "text": [
            "淨利潤:8787\n",
            "878.7\n",
            "878.7\n"
          ],
          "name": "stdout"
        }
      ]
    },
    {
      "cell_type": "code",
      "metadata": {
        "id": "lxbgz3aPaF-w",
        "colab_type": "code",
        "colab": {
          "base_uri": "https://localhost:8080/",
          "height": 71
        },
        "outputId": "71a369cc-3b19-46b6-c633-72a70f40637b"
      },
      "source": [
        "total = i = 1\n",
        "\n",
        "n = int(input(\"請輸入正整數 n 的值：\"))\n",
        "\n",
        "while(i<=n):\n",
        "    total *= i  \n",
        "    i+=1      \n",
        "\n",
        "print(\"%d!=%d\" % (n, total))"
      ],
      "execution_count": 58,
      "outputs": [
        {
          "output_type": "stream",
          "text": [
            "請輸入正整數 n 的值：48949\n",
            "48949!=5417528104671223999929936989893357312132221482365690906623468536225948581015844793440828185441941806222901715455003058409666901938105758529696433639891125056417939304384702371410232869554873707557286600958124809781069146159155024163851192794619249815851564788990325632274571108024560139167632193289796285141664482677250916075902186642203176335959740316789383802107505371045233766400243894709769483822298109849292588178946728545908633986580213186343367166962948427496817180307117506344254784286026383130574778433824999854992503587354994425858803164194257558583361984831770851700289470176317469769128891465672299212518159821918276110482535725823666345391342623194227214921390395360863208797995925946357091723044565326198013332713349800068142419856760248181438323008684436991147156311054495874958208374211269837449535559062884884857177720460917650057373405222198703994493144912179339971471086892073024894755952726071789808757505497359148562011683389293458986780487514148341299200451056237135405450672823257245945512038324808607101004235345893134968663585721161159777121134503702935354238733171355413066912230474648159567675276152274614502732736350740307029937269294105430344117931208184881078108091467174225073806460831751237089519275578800575873644522659465447351980364321506673013481509574603824687819177648307520141202746280586521620926098222439868053911208707956574795397783871878315311928710428127403709881401715192288184232087434694289547059085819360821592833700593868671133034123228925423618576877191903349753143718384191093885978595446821435811417808227964664645061705214670066727141148432449058788396839267360585256354780935988203291722421435060406417448400487809247564065716753687177624277897944343208327281268967261580083413733423782344997115603715278115765424223524386220003129657447841409906703828057781476512780568534259173777367851631040706244505105307251686246307010699262690640236106438594481438409808666048876232272532343412616852778049847225339051579834718751253936081795224768433274709404355215215070353667158224402412194992413062841419216865750131026627499868800780212669178738033053714401393698991889105689260521468445165896258847847145495001372605207068778530224426045024385450947710170752340064041955465669764546499165021546402516828971168113659755253542377174827647532308433341705101293102838267553473587463986828685520847505367481607814608923043170923777081564675747344595345274224303481577026957847214612506121116813096008376180472684711028012420572517465883096909092055187690559361974221402805157988386400750344924058310307026531113698092380565335001143849960342228872157176023958855784920423423501750826126271917805066456576696908985471374846571467593200170932025837053907444506830742626459685133381362691418274957445089458425325211708410453035125232240029347848332852070518506404739094245432338616627281558627253530808609777069590234977814213824194437528666822416475952763550803647609482653644023523351960295052657983471389494524202007884172316322462491771637148453726051439975848833918492426710768772522658080842526672831304496340013536479691009476975085163194756172088429057852817883749159486768177299671063867169588378344849136854618268697005456749392039316385421954964289014585336143817071901129262322019941509992264271010983612328678966364716358305394492664031952235314439224230845199694730773019300753210612063560106029810060895376809406175138190492780777070185550211710076607500816726281052315653059166803603081867349996727506752659827037298230022862512494507280638429913491642361408506907758997670472340701176167222837338000872619218231280071564360150447661549399007766460019029853755083053724042213357915034030465161528470083848489855031037745252651777325116263697384392469899893997364388164255902288706551597091463119380248092144466243047733018368863088031508837925061257337200605321609002846069246819850651918354269989147486985234273048362240701967346438539237302321960160272885435360073604443111405653788049284291061682896318256615706977379927992713343408835508561256984770534863393382733539749728206518758736004612661476830845577678275969862537585233136460400697734398371523293326089540094041475298203258310349733643908046974451725257564457923401765876897445764754688201187131960557989213774731385257468862753408996708477991467994448420816573502856180505081524110749527249360538503828244492534370489399074979019616107651121352974191921412107182455566660687602382509559798315368552901164526007831564269363472236195941496293261376360097369048290917096812761684525818839865266566745127774453075594389638574221580334494432049947870893110010327261775154969457951136573480412604813022393874414160426036875618344273276156260765942189984369718933636302433695318777646957325706385330257167266144191265280621219457098727752031947288437718529682510523612573921084285632120454846329981373776017081981148091137658250010040892455455963288940592149036923729472108706813312178201929139004528754448187712414539457971031456507292090238223985115466733860784663502474677400725594827282593622962627574642690489279275049012305995817004600347884999072120696090868783271271386148638346666104382106140314775970219331698702500038308035537340413838284936833858430156346316158744437120669164719236989427909163636884661622251995222698196727782261729721283351585457272207224800383564730354056699076243347662493917904928686113756438363604050589243335219388224189223975525837785935212357126638427422283923820052661780743117693082394728079920374617911514515681664737387235160144356440586115847151215646653740558636842561036808656830168217078477140112941430939241998175660627488377043702274880733507084879946812050193251310798519774095191684147242849334473940611976418150919607504821279947664643363880988150526727100032149578669745564242760806947813950297104807680173329343716887524629128546073737577566967378524530734656948191733680723497665716427104354426994289324399358670555410426852891394780494390347332999418601285359620355379474450151910901767596727236237175151476462379110215083330377131321687800544681196876042236621179301421657377590606452222158410281258357641806576073958218412504533189704935852484924000522877577485955626753665431771523056349237448946335219941370628645897395257730099575995831818042596784229657083921347616174720877296042289143003316635604094531071237615642626226760572909168294046848084453876806769925786027475910573330875743765610064657649913022171573804729987388471560908291601774879606389983454424647250442041647413023243563921191871981776869885503988273650318701593647438931395233910558810853951508788744867984403825933945735417749098963571724155822349630549208196854852911761794887030709577589573482808712195491330124016557520914484755571866847655458806112521754151654313023475949935866996986364005815421961942214014139007832673896500312232363743471264260384380778118772056398034447431688547777235425618851453654446418616629715290930674876714103495667890816906608705610444480655135802923910312465162528002347276551684936809671694616360363017696064945121206122846362818157799106526644989797507907345061233003619343002805721460346746463666499961949458649987335020383021388402658627214654653750551897819015728420515856625380643854422022523631084750378316275973675360630065205264410586841589409240496831400139539382962058923316035655437058109356525754654268075202001738781720656660982274142671070979658453318720980949858821597166851187062897313357869658528599777471691566345751949021094278918232895425229236714780965477140212729342697620341562625370766465357503226056749832776071331909372037791059148159187711871917346023830620841932247018247617835828567742482656416175559807998620607972353949012951209964708038514482819191118895659248562928382259435019319409582813596938336704853281424019893728723349135576794528490722018634760132647673910321338585865946275153054907849833421289603283755881608200611258103882514750884050139467967546298351819315334470893713862049168354393583633560204345626403464985452773656875814915024354800689701509325646736053189083559956389113806768654555163975550546834925635804812782820284849415270971200193432413575132383519410666058826633249992333128655725253023386312465986527146578385978027814752077838600483404582368925075804712976350459563420058133298775624554837799239692096085778477540140089755767504710294338720139889843283846201076383052141121905336091059155078594702016632141511863039241168622669835177425195846085596905221367823979071225616748872948040228374838305932610107904327644288000118255836982492376649565199875458193301499833641335940668415342551367382106159929357739398931808267252443096099303873009683287019500498120259873841444607055535478996574586185198302947137151687632205271757921072574877768046284379241357825037813719228020797956793595707965136359974241888763400545862629610199305459755281322715581012390978170626306305139798541044646525982230594764464474469245927606437162376838851001870100493675151656974719806507486004482949266892675502393812639089832905226251642410957979775482224278298915913433193148524434611188017416999174134126371015969857444075733975630074062827026342535894732100348684449754097532465220097034919158274861091212593994084109325044016782986611042337950802205186238109566920797103965515861319620824057422762775957577933281514912729315593512174494004237442446390785360157922149041518752974090253076569520971147461053802927996978837077090907202035153876248199603486519197035597288983158094277916911396455576480247772957067252635960830632291339833093187848293042125551741488797067753183421680680701473551534060884161563086568579269036735175506372501807438105316886313671826680141395669286773704758835402289583316322702712684453674249089481513621626496178845492013518927784526784341689583746925856500321777509820227491807733995086348080351486578375652648579246129640559931765370454881199870984750769595057035879525855847072002958788606644183976979117029688570015455142639522384974393959823571756058049061521773511249444072740858392556765075770670083713497615339920346562521231701013584909030661078435407782470084733493219251727579575446530779524038960050696941848995096505067849380839111803589577672830696986092314264569867749305289620194374406573665361579472100154849247285399531480022566396636919958090733624266598607061375864440442802950324359373384662969300854186982013435373084823251307426222099265137750004242799348599474533921044351498401672675475366315766532258339370569597089215280055596593525765004445093987345730746540722714015150840794302421140484959046314474238753318824546027292098079878950639774325793906196362937847779409889916313019537284052912596269491939189606497721253503696878084158911030281658236472872672487126673991944221757467172355972400839705863279283488298122027931374077778868602021908869953272612649127450587887755218753042660159087395078046603861431891558977647298206311179218385412522927855976466818670570508583869067426410700763096097133789057121742025445972239127683058109329623346334929630146046757313158283915965243787862969236641015006111064238446396164119002186964764910885574276305696825528657026006416422037809352933924756551235052456713795625031111940995579522391666844098584995740510617630781225246506696810930765080759494953195098309141894601116702842225575186925359497969138918600390430324083598215566309914297945620434633631499785726155500408546740593179736939643919755799556026352188360667988856372869081309327928500740414717043998095438432921269621439104555268810605485830757331927326560886077229652897552320083508233103521295349112836885434784649966012219714139331731617783966518883191756768581793102935588163467338306637590853131633581613372545437205001276957316060318272129600120830895152361699763647831211945626120221068816676002453958697528835752803832939744867046033303393706076415016679226208146354686292739222974699387420460285923055470226628126499012647067204090194796884607071581609727510182750013786363124265385975950468527261611261948321157099532308528143969136239157041874384175571847037227397075090992150202363928680433041578991737042233865558617589473364459554171044072677869613549330949084035368694017385315386821201375670606359762648863514096572658571630139775351774801591602958103589280867071604804308210271206156069267034656332440600300678988980060015148047280487538627889342411469079552537784758758659423051149738573428426464520153386475276036721268586681799659333538733627220034214930575219430404059896260091789607516077549582342286860260785638874008340132024927115836051401648912638202525745813868474460210930021470726878112340821985385326432693026867769501231691562544151759168628480728269913206897373152710238512867568453997252640717408592119924126865584038072714175687152653877379321367554213231144015103843015500477156151072614015760543494357937558545159415324745517437277991490516301642564892279354480737401655216371628115405263012227989137975798442091165379458964335830349394480987343286373285763758970228914983743780534288970089683021254555543251679299274020582343624563708381443913246139770017485984445675184096154129219058522659130751766917618359116223678687963217907939300032347705163533102769328290475080165507009224670023473599207993116079667746945957617708470954249961099159060468871389776717545423035486266634376197616766760439667175114306063264781185889000039518830885516396397843330548369328180173940614402830279151015766333811501831764303995613455887757489727602167023549692486450540207345158272211395491508548110895511949624428361255532968145829664004453710139460553352212813182445353783357794204568937929278379740618726918000978542394498777141409371287624538888604911883656882861944018438634324291851269148073500952446899830899332444336534663096809471411222621173691225528485940134757812277650804571577987931301988707335139545777672549964138518469966030512961832588934140805615818910023768828470559965405205166451297326580378097075629232097811129233313891039168059772311286820231063717429100644061844995949951200920968564400294994080064305096572972461238223116860916035363806178890828911645117791452917071468578863481016291844506383944399422358349521797972393152789655619071412507669361201230977139629170992392825314272695076387797093633060407169412083763729299495350371168230558104998662635023484554345521196046342742671347595891516232612309594142646675045015960030203221186741365441262711738973482341814484757352038803136483261619337821112574833185852415947657527190412493628871503368804974502346702928343678031266731535466665850924777956652884669165301373112744472081084559557524530526450482328430093802858328949605106097717757378075672696308931236573781093333441415965487289044054213871351203370862663725987582806360185270730387053118752923321116848257793162220070469684990753973647230408583954467486382759362033199303068613091754271655876518532979005376545431178221432864683306132360067531990981378504227843423772232034317385442587188574686110109061162828250086444877654411620784358471235285026134969094653166001066307326798663861504366370360333389307088880645640352529015233774448166210760863054652331418505040753603185501563443135103894189409783790801698952243380410704021894898058078803185885179351851572343594633618650625024031387198482646034963793756008612659505027363848312195259524646395336174891854970677753412190612852032587270251238608423565424458638628063733034621349978385168897474557646424630191656844704563302438443614217410343075898116061475581650661225475722123958161424946419606294516402132173904399338717844440781895109232247297715622727771262169443838145431169526014286038995226485666564422939019743557728606951776329746351391103792963124067815796988899654135103598960152464389419340308774373494602381587461862030061542976513814967333649555542531969798498232498057495292595901845867849630210340912782739750069463180273503409293332140099537331069359057798754258251176413325431166809694064543900209818100915895288710603611916666632135561275788072200825960001073576034343837622329731443678829011679243096619176688522944949374478191513916677318772497536780738766250217238093277564985232217621108861484587852494978060021998014344486939754560165812994788488725623826560998393750736671353563396210413407276492618626163387195698320569629007810893559667739312124992534004668148168895999725648006448350229033992133908788374121939312082391450758991996370751603914032193406841201465882956064930483729059850202118726165834754980727377948628615999258862870283116183954978103264572443331038094535911488950882679755968761415490382842052459496131054201661213962519401616650912709304292759295919722448278789224252827248658172103262970362557870801360115249629071461356785036135907141551938251305880442386083369026715874783140295192894813897100448419543276545860338526883178700185164510062292638327346163764363852789033264056103041471175098373159430714178524615428036615329297865445104337391632322876348279597811987428549180382850623661435642682251160613113102441132471592625880390155783839335292821702305880427378902215857611088218164684043309085282526553800411204931772037223819124081453593538299771768668208307138832752306194798999608270724652722420888679103860469941917009059201224550780378627307519517936434001993497735277560654400725136623028271340292238702151262470356172650672453067417813212090803807989000394601513048174068249880134314334744838081744302351552151691184002139922414740054838475083566918728276749708379079566645989604965679895584716660004111676449871292501472983357543218968151794585342041658267258265330042772459076508825001096399635315890016557317048963601044835143088095850413202465578340867372342693009091254791638464753676735681818741782025499550105956286053259653138296044379565227186076833141627512731870449498199019122843626399622388985999120076899253457376409809266744855556859973027047914780393960480270332660745314591992712271635278701128752584874300714623378824840577993301045273878005248801456732859185624878309891885098457089697566567410708312466692503535545225887195029682987251276282863230916488443544984961316990783103113423582731283615329183177561176657223747252404234123308237104477746551439282679694847806986543886644485338666644647256685978744393741030427362305734694215057590092876422303612076532520057052197254402819300266592501230541447904992340532503510308045027131669278592410166658177150606494292030873541412657662700492916902976632186988660880467483277863743940304385316149654790434018036430185134568207483573987229236145529339329877935021465581801401239267909696901638145766858313374056593417197479988760994583977684819653690388309252337084575759796044842265264400115054363445892794112041486425963597585923249636870548484918037207933947747504186155993075464199641363792541559786476573052747868290360587902441224527658017294921737328329770120388161555435162475822251590646398030180171970724446915752968699861971024879399003042951375008894753865938856842084910907532395613277910076643274921297886713328361975997339540821890895307952684935123718581554863569288088892660128277917710330593660190921908306803773428036353460942295185686064348952114869148876630707067670393585990388281563338078297357976791900250480185582879946506891094790545932443200400498685527096269307189736074475823324331501661677784785070547039987277460192037802824026133371166256298097339159032930947896877127762765286237098642647897833677506869613540964362368070711279991594186544716815508392712722823567869006889013566610362775459514490148646563385110290660294363304671201640784197249719721968698063298306239324156374605997811574005717886568747795618828246944467540845161475491021151636009610311129881068363934979411095039906799025094616224119926629174959381086879193739875510855415913026855144104132748648656379042651505252785613177506550994936191952867620898630928804211697017258113573268809938651065526217339099650765429507177765079159979366974493633860038896095334215714211456188681462221030062578172475303773108775732620134991710707190103215681691460562446020927068786667906647705005584916556210972886106132265871353088973404635306803938306550019442135671100416628256801802703267681173129147193189858807899848818443028586154117915992455157853774466125579142691882412624298625896532388004608964450352041251187542421925418462548367065885164072297607019881379332299267364062099583228331414202977126719539903045981872308439045798077207370389034332701555904970475900056938586067071507516051246765478186489887536827091352202850234633881728973408402046992154699058991781772769575499787375151683195587294287645555981666947241379443333699406025417103356696290113720176161650392855929003716412575060463546842009984795640727973369267547831854582157370794015564700847348482749309186889392886775423153894971342856333293412441908619332233069700166915195501812186829632710565557152425893231276489485660926119154887476176034298897766397153847131675718230815088095431008633218859019701005565656279204873310265481334305539271139995566621176551977710214699003683770589458497697557102981813660339460874767641125040515727833924485472671536246203857308647650103132614007966223294627371192565755832261695090664466411207665287852945914830915526491271036070589670884508695914549024993962318211847950789243339074895627578886490487786410313527661103645658788086078443904918722062282037231384316119316184483243837708098752584893255740390939910103258925540265033667463048289827303478202667138109046698709371395199642075003686367355308236442187876182983336186506971205616336826973674084484247251006978920819849485981582372348447184947680811034995548488657756931587119245734939904153328079511131958048841945105115929831532209490856004658706708411032017536354861438586110395463974115754512457006402578619324591319344577975311734288007788553248829253215510241926669997430924819060995519354650560408101635109448874337139599790080091583792764915539967663698780661447840136616381524829654549265519265378560006824660045659340149131929705686451689139537224812957038309203335639781765993170852987162143587138123470124958355889992763346139096604356245260132028990393026881101403451295166769659758225409432836202641665308867402857361831590465382325354172008875280436954512470632853672274810357859658767577648984230802005590311363221375526021852304620902205232055990862256364395224869876985481741713014085666282783066350015235180288534639541926643632559071595083448677704398355994697702513016878347136589825724450223834191414231421989198177575309962577085932070847386436907642938976028748652629136782179920937678244785241434752029371673474807195485315425501579150699949265085065226280710150542410681420000407835805941360142176676282284500298787692043339146909870783132421322122144169087212240942598828898976446993406215583403872435498093337377662473868913707362112444235193676641774758024570410771108969892286595856326135245800727670853733550172213501273856997824030722217124323764678421635565730811643631667743628463414882982178485931439650334050742956930086338653630712287816071054107501789716627371173614942498059197366467118398154986164344272750342091928366751774244416505560663017039887296445679913484541292933078058148838790713023230534726460131068855393448645511854059974831500068115316896261582098363413136629214659723623718412699698562602253613893854972382336365702563639033676082262804961635241935711402445425038270947008973021658148538825755189395619233197864413858936776917347033104309784647158660982094964361754787814911033422641067295900161883081831741646027519535469775418149250299355149814859656804311445296651169178875409107190397490218332518722223360732772135918706420915244884531762438352457902756217785988912569613702533193490413638743759257321654029358191509510959460134824488795783639396247750404366221127745768786631822036634098751211945872290083215103188659395331472952138281348030021297194806929408676634272785740789948957663255317005097893355884758433600051936412684306617741435501220290757392367107615338652820755477755046186040689110891460815495842750584526202133166466679346300830567594769411286679655186317542761815514083988279984661086875473132720723038254774459302025973781677414998633860326776605946361630497317753900860677949618056661573890264740317756031128098583681860591764071607184047434717293340931403931422488019019453518741691073516186186271606522653310460148476491255066016245744779794482468690088412145780214525882804268904757021392414972591109597044196624884425296915621455283737215834725963342980296321302580293585539706059688924722490573631661463523413074082957435207511594004369367461230403756940697506454774774708876644362404269624960924354674566293100010423621478425163267566354766301019962207405355915145428353093272638924256411517249990331135574392630187104398544671015493699898367868059084829341884715695874107382654394383822636599896566472247848226094438566276779269075073638075503179738106418231490739385790483223067049601040024709672309965930324356842978681830860664004424443880145990952457907390325334068371289562486942668594303559841556510662713017292179511341999242040595681233586571214243533894125335007821302365716556790691345334986803167468381933322506367113863809024979530664077969149350716826236660012250476552596239190670532485684154642386063934823233780770656366337314702670559916746119011831960219830429149310130160282816383510453689963937407730674141106824341866437541795060629866223174454814926613734910222090916955124667430877142895514259680293578882986567408029474637516171332531197338022440603635801054942004617214342022658136816082350122265816933853825208577031241653041322082417877414805941872356534415891618655473843918905555400852918369302483422079890805004918512266190296222934927392371006937004040450360537078658630723343229985474571797791767584695969587125074068497742081774123298785103655092094192646121847278793579141764953228000862638266488065530283231723876982208372169784792544917344209639120222447494390992336878565200826914027231469316227451552233449732341185531864050001613198436622488721603704113623658337871504911448289269279820638262590736770317068535062411560776146165355985023717438678684074354005331443759137554810050555528374340051747402248930043036454619665640244933704049955782707958043214886014573333825396813252533464157412456184363691669667977585417280970384476247490373098360741178059948929186106574361947531508093587637633631166541983880637363949530998067718301922291411715394603091848966097412728365847628018257266660430507594756491768975577606184902109600462033341223652885668421687521602386047322581863084037856812295314103086708004695767298131832935087278740316024189446453007028503252040073316181617711648226768269136874383359683285698712799374258283271614104833374981966651950500367518762658455002685463349946090455463073000452863645578984091737444019896220745213254937507160297242812666418895333023224638682737329179400940498989550782092906001621692248423543765722882222341519769250521262170860793880590226770704514821258669435379524887944580165332884453681404634963804662153512925179585169395448688198980346402630141577214499138227107652079110311736130065084962077025601287786180102134214775137415426392128445227874192222101030048862891612891807997147990112784960329607249480503595238863897258719733313492252785403205067426491159366417959134112490231933785380256702844614271217574488540712943369982050933356923624189691986808376991062897457722624115260177475631619191225811636991373742196583373486462538546366873751070871753692421760827835960434167183655062951387225177208243780509880593582262454535971450545035614749717999867636468713681657250094720742150658882950330430985863648001608459444650235723599582649053623244921010106880750914067530686663708975942262674496099222754010177333370065768656765249275558391944856176041047988487870315550744794350289433028627560757376429602925593754525971573914662426451833781668788223958555834699554563753789157460523055725050931142873269117469165551672753435253095502187278433453042953989838100997325989855204734575967544792859783100860189107152851513086826699549676332002157785925907582149285768100678432506554925015975832527789689542764702164041678939222531576500235103379297732922401538008166601527726487324868336452731801220082707834527995329993315714352366215150689059988861243593282278224081519788595211767944001326417239925129034617466440917521689908001593693437598935825414113262181263991272270150247829436677495505304995116422468115349624756855127896548896990683618610706412664733049586751966669261102486294676343114429684306221401156610131846512041476964872301509208563707095194602996532894344667757481287150612200748083403241772663600010888590893777252885848006020106384739476728918594480929610623447546696112084051163212433174596322656860779660376883525902199326258659439691849708265623513844897148525900271299506793454093111906517129308800299407989385009050397414696070952002186874296258404252668570278609719033830905331834514609973055905887535715331111318518116283116802693930323229466324513468372138916478038182402010662675102987322061074500552719474456742372895948184831719084034042246978197006819254557840695570714238813857148819025701798855692262392942088374461480022906147668814734614286291774191805179268214922877218629728533818078324853627726666757609255276345636723892454563802508158272991481265228766257231787677349357489359521762116961699314038522997364930957879828160224721686630085420710829600405163591715522303758951697421533720972405148330785743193959047196834001887991536744554354021632918543024188674351521021415729696540578619854512580100440934608624266364056202263702273211545509511137185727815511308598073983837090185471781792284276330784361713245538014707151518448856169632193432499556822826445144429524947825707685141226129010826429898007466215282456057471727500606397816191083831233302080191847192104258592090385554005628614629127436723128111647087602592339078587644609758150757982182260252449202172087619682554794386882241366340573845265843134580490365298038537570730300295309762887185565467750321107249087383910462047456317363490970617773570366316101086289630967577021061158643035204216986835674734522227598011060322226525303269509285573035546218740991653598775315620369299252837823999558843810333428799407459929255051614952668814474629840819658267268713383347327945675694979998329768436151795616870452128870146025309301477130493277827464121227161067802367872787519769711892026930070251966121789409646003030249528605958643976228873021902045084040412754485692420285192538385493086009458757453289988561017999834508400416114986824136487479281222855025769092886456722611121152758870032062052567939327772265189236314452426481458827074514791874437816857737810247027219723941675353640855208328234444368914271261058488873807926090738887584521801604711216942266029858000754604563838160762883154101557656973441743068413389454465733005067612200715696560259917959904366500647437509158161463593933875962139620638625405262397170966074582398462729637063130191732207386530477624370592801748656488938902839884968088539775645213770997408355778669377469024374732393524752256370176937746460502080757978791377897175884999610592935119269947224083271432571194027401724562130689285765477769670069168736628140290717819116597147038189887356920366574375897593705674543800928224958876080151150195310538065107134106565354633337884821040569885236742713956822837252561436410817732091277528662489000454403540722003451710299277880154958626761628149835444149502953469665351914114263840279013173282926618503514924791041342469736548810309493570964074867800687500373837404937988354232676898131849751715698165208381074941853084975470498846269903905724487081150693306976781876992144627782514631152395181189048086264180359668364926934219416572257638682359477197400177446728762934782872752979237316080182460191221882705385903045922205595040242133871984879860871932139384842621070092643955138982288311422996878444980817564696623121898032901281513684346970993709806733503957109396518562516805108711842251983600997324201219249198077440439642398090075811524000575297244678641823557532371299365629962065839126350152978238698361972276139810647616513566244788076408318696729466303809352163437354322693317055823374070285094979083081999071706677408666210567967842124648289493452845092846281887197590595468755450657748542427763846538408445612748299293409631642231329946677079973510687655698282946582719543894835572878387827035084680506666937279753617395847292142481797638833404635893724347039330018155532682938974628239141537529365410971028699734195485863941850025344774872152563773981356855476848596283889920626128998708874435627218338158915404911237478317757424503914176860236899804953181993916071484468190076927291435986041697207966216468549947434483245842881471708115263266738292625200082623594650962800694137354168429773967408775741968408155101467448693048214216308347671291755218948434351859846094097750206033631248791350053822677996187725329316016889590417457232084696497454195988923804247028727346618794836287383516250612486868926465775803503303302631188424482456156699213039832951770215816358971531556133215949379635360937303186017246984948737381953362456248847390763061644298596989707686403509327598554364038019643921300150466033747791856834149886213016951431279617640572473254705104518004539960883640842763862220359386994633074292709494879433327214257418736922953093251104010419356971757533499026841680347542203443346816529267207633668989244812820711597056119176515636137677519342604110448751790350107476141055536641742339430570220975037205026033109562494666370772857119966741632159297647032238350821227671191587637028116111884613306090061432943208011978784740260849023608383602418555226664024843659589937388191468500295430784899317553051762705459060703643683627251377387506223593133116232317445540761694405947228554245669597394505857569918947323177860402008787481014748471057307008515343278833640646518444105046273175259701261523564055900317305210193112858995129663675187921816732383731475000742083526098892431618696964710892866806214393976953612270954547666006646919313110883987164658191403190387670861500305736555761435854736699246114081660488114164323291260351445013419353575422225350300445627970967915955555505820925193672748108757309594550491195645797853076628967306776691786766959553050749248501248085680840268565869916237024348699085315277905528379650413870817093035730588704912705885428373008777832340126900606975853458772500826383189617793474277200207089293436784352924013002828855791732226433961187280593444035814797690055548162099459344024997791985946109519871432983932499608564652903157223360687133380197172790975087211743687047647993892849713986902667865950896764070136722021927630674257143829043517200737516851819990059200261118684038057071350675632093342410071477784683294716422498637915274358932062386562848562548742154195255314292766421471767293505561391886801087317483882174060556389557954992488071515270004998802849083216394879444642405460174193037669849344480955641744597159792841583899872158157750562306829887043722177807035574521715341677992786861569067469127363514335204269966830338010673883720746134999563549820382489307495854680927328084390079295382853976774941308898606670652823455108167351217337454397891825879862632928136843657678101225110101299873571520176859188666115237708745180911162178434789013464944717586674458779853128847015858898030677951051479255106441307876632990644802986192701832787444350358836397866013245648060960043248847909028586743183206021824145371508793810674360487016556449303026779926278777851221919993575381429687200585701639871991485849406670423510845098420495709182844908141707141498694473607085176414241173695166035926406778770234916932284304270116883525266739947193808936880235397313961605575914918935378085736243661631125888477262639518291907947012369247275366359741247905081659080240797586786867722968974661000638773198067370015483009867400259753346537271122982630526409077411494450080882864314662030492387229242281304614744826904926078356916272430167309933458429201002696910319755424403011339928317760372904136469178406727781267452040882195708777537977765625313407617922095024203363805040398544520552066105249906255017820655496648466905459289757009501841286938214180312150652267047748529846895141267499687328547460164630367376123309874181954906765683903908566648785307310668721151461061104372409441138204863157264665247348247153504380633192951234389387614295318938227270366460553434889409230412599812604391776175829668826770823289295438769605003712211151106752020861762673061623876498972447599285788574377878457850177195285666973288492255055694178637907975678406389101488822300629136119180017678132517187578839422062338509792304025819277150737508136516894380093398063397556025537233408760031851013279870992457190970955894192723196513085365605406588499507695095418674539452056942354839118035972306997301225523176075231381560821942932516163288229483463848541882558553887975949677757314205609953484832257150429229009038781402562321221269707246562114916360632835998507857703479150594458293009669282933936056806911650274173050920883555468807188911121621075171334459979465315348469114638950977074807606608208661608217633326524129701462046791664161858534370205128110719718665312040372133162279331797978522892939004280535790305901126371564790302888975022620151734554313539146511702144611137296171508315573505141336943171702626158981788187502220422054781769830802787833114481599629762601033531667826702898808063405274564315741306970196784134900636173499833153917446505090719463037978733306832098310096818871054397525944588072381285840335311978950857793087545397218632026799029810913008782879822793120308046360105383567296181250280377993190847095920789211569094862904659201830339765396996199324543460182813492146514075498164112995468263645767470991153349723682526186923474993020977267387966263042149579583482431988733104642045112104780297106706418694828524430216741802714563466333950065721369110064408615344071333616389511206861488344131230814615860508552107954904537190141504866621597544017031549125855812069372779492782787653218803545126670152871895648224898074703248317073084294230388744695377877304424755103579577777971201728874411242000223811819866276834517599588309541852400757930461507299082684815120731185578597885607219152986175043746860669082552677449996054640581127473182203998395460373064739939963137089439091211041728108370964176932784477504269984060023158894676251285848158350696805926464926115165592747266541449072272029050647263733175803021978376360313752773730036109177529284396894320623822385356818664372618313852525648676404970198008701602152199352712113236816697097371551796938775637343944667107366584095965740424478978023496498305634059018528992450419227640908496602404794811389177228255754458690435722547902666120443314148985419004542928108023150972004983806745683497131899291356910591369410550444210187116083742926176347265195239481769886969200213157356355909412097247297129787740017286938776950368486255430896503107223885963181050955911198327237822201316603392366774949692978589680869214447596291186066275194507656296482959711542898422326523713955809408436278042455735155470256097021089151914333321816734549416853233798241999882044164551993324218445978863921892748479213556262596215439600730290372586591441448019573366338856917512273467495227805391171391512194437494245351804216062703567256855639563744997888436041057338200553089413725708303593610238343187119192236151901951253263061092474834575610987298042888584675620539793062154048110197380692992969422929615011489770885955849986629506973116424345267364008230753086911718211851519216874497403560400804667267985172831827284169825528273087869791727710880284389626433453041424580529842649912516126146577895846721504621089653606023417317170012566398544709160431924429288248624458596229447859173409166781040377118051141153104715839268063239296013390650847297054071874377434672461854989021493525547437371097026847633653791528579540444564309118003855080140792716739530818620204773172259256660706812918952073969693330164048678258475163862408848678020693258149327919543859841840282476180968075201442460305033065390963512570290173159937806887209681323470577397994239298577937625297750242052183863391153950799779689999512795327428512734213997707605838876276521736486202601971591277339491095950018272903599413537412215109493142524237709487096145183309772419716336481460727978521788053096512727088152195996276456127698568808452538420788169299776515017635813860725853820515144608911130507174070976721203098497355079437583548849209071710755161267999463861243531978031800225832337475066892023982111772034565855300636887972746761068471334101972711792267411959026822543034795718158653840398298036333415375684862496857069512768988667712123672465065232941202596096496130495480331581205690422862133641660784371817121151816106435132796236877139172601778077622962966395150870121417872798725768898302221401235542467402175127849034956518258686856679117438823848632119089567406493569503307757336091452691396469595814922392166076996374425733021641604573148866125164454877037323391795001043480701799846899162489124898449657477493082790444923844450476117144313874760725384827014349438303187462121037666655765849906954419157643452155459678208704122870395550386961944122038883901329069842901497092010985685317232547415861271888941563050212135958411722767271486861184374186562294391634976102083575589613825388303173496834705981372888940790008239101441125488270143187765763723154925177432465196567151686466419230694750699777005324827230021437437647205122369846220163496800875236752555777471803434321688252564132810136994847752747766603235218676673682207271103634652192095131974593605012627636785338718757999522256308865588596800328927641717376560108673206400227346412642236662354099798320439051941144759813696501940811605252486671363794576482238689548369847415454953850656161745735883628659710431549218140077744817965707839964580980875957771019282954619219741236661770071955810448504131740572821693858036394591912238077611905118735682160616466509563452931033681503723604388666036550287173747586598332613027757564815973705968572411323081352134109196903473348123179439545337364064612612142415279357663665642318885072936862757203523597129941800158600825077912219743470770806263190400619625907968942289573571777132836592324402193570897402567764526080029811463633840586287081616890365557447302172634222302339185489940003808714318180108006834177513272062220864962823053045218779969825743650163400338156513611804166603355642713994923251745334399534124293584356620179733499385105272733297452663897078503437594824738563976020826830328603794065147167049328898430027205449856830002961961757788246289155781570005309119583105172266950056940637005798417734527216016911740904369989912281169824276537943690917706748521957081904143291206609603564176010325075437424412053687607145720585568708199815092898196140234757705550847624377395871849855369192301664583044812821090207367164204984567817320283422931854362941212801422887223584002882208110353900683545477946780854892613919446759405597008809945468530079966808499835204353167801671205860786560055038469453487394914362413013981526031675832067019111545644016061403573601799973590829615933285614121165327888762555113548418613878313529243460932118298591192963807659308915511282482308169105989382791137579520805162299878630878117040822863672962553135898021179812213177105277841243603845743678585373524465542511702981292484554838460763931781027311816633632413078571438957983177446547703054901510263299339515285448056431649410449037501400106294312308806396395771254340328645643917468470290794169201204159804130013020429736599621719885101475018994408754547983395297206406847948289499558213131286965523299844967926245914948835444554516744596649700519217851222083334615843806506932528923744417967085184439199149683111966682052245904300310170264416578791799837915265925141569695534238078830853087392825465149077196218656663089729622053272013821613843171776632089895281133446391369226875352029617844843105907369803828370434060357856880884596285872447665453312109593852684102677172258506999198031195840503461299895170315485441066346537285511051735150930100957746874033105005930012673907049109168030367904862787547485999304122691896812525634391521720458233511016087056604941131964920444624116602151261646999653331345180733167274136634423809220883803104135305443311788397105195387605232268511441729774318929111415167732292714980215136918984402148333284040487549851483307580907671514185069949877113431005573934134308913172463501923827083756816898436576770030904655544310196871999879278159917411435116438816861736575681297900421880893825057105696240018216460249808555183285248313663771232528161965913592190654353296110170212602892401086034638557256563359115692638314275739528656785226634497238435324877867587678601414721054514455559960224212461529730163649006401734999289872425638994642973482760537216094999638249020764263867844763839332792526854251183169134901681848439869733554378161118360411990117242979496765157288455690594562922771092216160379154966073864281268225065472443392843613937696149429977303469262453720356941770790855725941419857822568681021902091014535999154952511600931046846979883118940605245602832036092010563623829907592818312579262750967177060462791569820984281362673766409752413988527712611966648489399087016470700286956841836444116044142142112357428892327463999655993360337772388889731319743315818353139397762740717579132180245137881522426491348732000141177874699125979871714622415209477250801189225744442344182581623148539573290937215420106724468008958761627900973619272159729044958286846121701385361214648729840926741108707012075890105843517822080741549605826761590907267252332770353423752591704556346302239159024225825469406774087792169342767986993086169818852018162310193271816224755793127944894985510763607595637525760226881268308815522240075807406662275840618909113321126720478630681179112168355169373908296604624239115932797487168858652191304285638598098061345350258699080210421031597964979515500245669072232357422241259896312206208423541563346945365112491205399025440190412338993641053457977160260364717715905274403903528204027305483099954605839927941546166083668145828566990298040944261686520255420270694373934464972642442990101686312371508690541333699189237510253806562137250498334298832878558979613784067651708189554760667260599863140259670499050336059092130311604585586325705124874499504592421507110880565861682859464282691854187760751459581665679511901853243910370049750881866733479345615172934055009143131781641520485496133945420254490936403000035881190829857812603205261514346945765183707147089182758460615033733504312442055323633375846823385718924942959462423960695068417717630234765693968560588386834953608626766467099095730612051613688645165199600867625232244009817854020962465239016132416945841002569233790986157869306571477004497396284582895382279793552377396554665593941231730252904903093336772230366466666459397300686943573538476070406998734188930712998792373013889518310019434192858192930732624246630359761270021959267717280829485822986219608054306757875775745202158997737511583966399846977418568323607102748577233233466781127998766123523300271451220797061018488733550356100180209851368539591728303590470632634927546821084110093724590216693491623739587996379289268913402367303506975411483354916730000291409455286338259465422523820158969968692037913072574488512608618106041906171394361529031969445040791623469877468121550419845895582986890650434607818525630016217963721575596046965052356031787839276700109756417124155737257406930642131858950279443553558658265447350115122409993654855118526620683046558011740962628128336478393414485628076062162733977817194275418568153157870564728628260211005935241330950708952424518909941712751706818927829280803274699733062504201401502529901175378449406995992013475080548130501620687505375780924037938009301857729638280102098821518996307231083391034737613797688199289691429937590816805402791231000304969542552073445338710434747467079173275501023822076408409826079414226832991235850777791468447364764367930540803222257846189533179463067244738097163785411620314667672840312916316677279502820438795045986309644895034830146438415798918319493973506819008743849879466754791794793485081051748671167245474434008734491607947188718712227695638780839642284826698435520422065937548310567082850246478606435248968511287394593114619743869963605320412462171548508976492830843819011472192141979403571074503076013754531679073412000797743246504006732331232389357041296337450001801364692766708616221912925376166815701449349362596385703574764152067897191383921215370978851925409531054476530796561411793151304356495279297617449827704906808354412601603065063450317772023848048966504179911041374457739255878007995568477762024055931378152412939405567120631724183472285316901164645511745448685884127467391141230925601296065748054060653243865597938197798241617942295453297307403406299937553774424095722668165925697777462024791499211345553400463575350169990848526737778970443934565964029313599551503626813378473094188933205871480663847455325548766424250691986638657479390317068412597577316415373674473097214835498323624811568103310037246159504913274827804955881703332519273413009453900825512459283502594149554195890967854497961353130946212309081161821024385163173656035579291124299789060271582458785768346601545756389327244693312525886765970586081751070634176521022127688328614946030486483985796259851593960052460619131747856946512065977183134827032884173413641816726705765848746467500277695919528593346383075824416902843922657005845320815895869970934775959263514124214678037195207351402549082538229495707548521115509612414030870988437057916285562640635814778796286929898273804625518310749381385739987398814187579810932110769085461793949867852505494196761859956566532798869794484415562303902144473776201765211991119144355457399284854129177853983660922956798223663569291276385676042927135075242902201667663756246330191599438130249651896431235918890122990470373751538170526850279436973490863769735097032728807633815901960325810925751134424465092730433443306689803755770386698961612564633768429003650171016853565597655741119175161156809932661667026728072852211423238510643668733292909769778240709085432793508434771302986970190980917421506813074223965366564778551937409544737236825246686875337475078720809429015661606844019819417358448701974278407468267082761009174253850367922122431582910500427849468324229241035960693199169627841536839231473580975895707344547700884774561846308750592114088913909507242891613787287668507556653558864335925321705844893098240356850099639983353453645246279528565162449677043581250511739010330841993173442868281258219370418283843730723909968292248726047470900391721193462741101919545189481279052616039452743097265585140392027625741341609726716606223448627324425411492314563292771645320842641467287936845697729124583752541291223406399217851744066149099635201588367445509667382667557138190435252874429526735389053781899124260836124225729446552083108961017999484666428272467322741682003755926308138184698048393432252329903846839455782906749765757123571745422911763306028632970792512792448980242481879643024382506133838534530301568791524388653498249901859977547342164560414285946230142794021590947648421293452855899735341606256044334326467266634388946823694042542854392647180930386559924575010097675604262596424009174959115969728426103226397129643763157767788323282520388103888428311116500095660077447870724599655532739770320284617761975803786521238998058849548315793937474482251961725040685308331608676818865603948244188091515341873470495309566034738574446305883744331092367282207683936886502829682163369095965492908298630082594725261937306376056517173463750555294890789592088923485117611955505611961367144471400094859531593761082547025557319086566341588129379607042542259336256502510019705664823514594354269601840802182859738759200835748031125620633889673635558283854547282647100672749447997328813818465958776028197192000880979082119682354105667794146120874340423181117434065837414121392790879058708007647083065472790619164634681733298415670682958115540985864214832524012628993506597125398423394197331056850090178150307482168176717292407539987561659942346019510399668358505087741938923227222624214568929706974398928459296974521057427766167499839191034643150189224062979744379857282929919666335033339955043926590027900380373275296721941555881794302954402047722040827574043068044899191521565730476210173257298965193294356568073981332493550152698696662865770749590995978490079848400792911798423664034940733724440340455522901211566536037949308248823314635136428956479568566380546810283198347803474721487855592432896477098309921289817520989171896829570377422356970987259119418027108706599203389832320890668135213860306436015654615596875981869602996640127321732866070299142496303529961031579305132082235494605337695647921858964177803217506238096243972225792043595707656232915365513425869794195679148973908792916585615961924252217032841121891793580914609687219406242225824143003824809855770378596147388100451739193500104109807502018533898195873687539916216175796394319688042312531702766505805209421069862884229232294742391826175209439241213234566127431826271660021427501811367610517392378855163546692598697869255591032271026618521389792044400919059081604503193047730334736923053568651139995513719795265769323106665773839531321168807581934064715549324443481157487887917143028165129831155826450139168743123019685005897769179776577829473813067630528255963506334828241840667620183167765953291607279195436917190430779170730570662676556023827403152425137536519071833294833440409893827491930619906859376599158445166666269171264215301895689510805912113965585336343796637635966884051958336076161194131792183247769296918372384402481391541103819701582248092450719185873231420206512246368815035601609019809239894042265509645500121562298422349908939150106562216626703802762300103587813143264891770734491337448429568969138007374148962562433395489504149772654406926884913644982357182816621710048107949964998063091839827485422566507576546702763663184839882834144240325369111378615363603020019222639612670220448385916510183653620624750362703235437166526613521635554193457770255885821156024209739646093356647187001471201582914129268623773397890335498493430684427699510778566387258077472096418169491621095780068503000973723565364703885238583097596779371256491432450989022567342164199483960629136391636599313996066481983428028400581656777039320304685505838066244283887904130528509691851944633432423646991147132012261307493050806537072874130661033953404746867002818764146735208318399359578743733550707979875301358626704833323674654508045184048788909701149704291040100705237366275625187714764525018695725688086813702024126242172122909851025702127241944595665501508295859325398868493169999704607358963249979418714350034623455847071875734196415710542855583806899497753803775542537604171149276326848001688816712575522667204390226635322671997980548194062967974182171892492118661432931091015271285617384492707686318728364141597139667487764288464213564126056097637218108563705520539781037964526475515251085467024437308962588816596981437698639179279543640549198383952710939051393528816443511916209536262377995088080860654341646309800197171102291264008342507865426726885788159893979585698968738960751446676054323816993327654364747344712870231357704071242737603346576463211125365380983627090048753923863116823846389399951710493101080664326170888917325548995659351462178626330190899612968798490387906147055558947397711366915693419766485005874013927601064712803800295917722194880406326421801325293822248407148779055605776540747091683553256745129222097651677898538601910726028313886952028212109561670103122886088148865827507065526895960772685234780815813462969121391549211337220592190547566510442897939750557550637107521638495846973940554179778390866213424416142076628024880328815887137778429412820362207769125013375948006612334965231320030122485996388209843067668592625416688884016940526946557776318302676606375899574415893926995287348865394018978449801613939431793287628521212520094278443486887573024092837483061727382771422658986780337781411912369654959339974370961811768776355322946590733833139690293073467796816843895730976437337954837365533079218448108497393411344048072662869058346480786901902356198081781080533331478690781841116212993554135763304338548324521711334306651099603840407991419263336232963138767397571380380792186729038249058790805393525377530119028805816040340566100971760467628279479680501662047168516973179469196444727314817330184218260292281198237577355638425893429154986378779018598378683524078791113534307048590526042223838576639858743159749871508450596608591626885582832781998170463420211246563904533406472399631320229382368112938932970004534094503761360327090408531557123612279388871525386311319095475389082984226094930232842070497319464741326380818879988076711629094006103378480608281953262883208725375234709025612617370671639385743344251823466234533449592894269570001847092292024222433601789302028851151853264386479828148150384946576396103515652203933202648173741561965004017032552212547024587806686758048372619199287316824428540328937245857306851346948970735187157423416318182534348849001737504063175063366109077299071391276984516370436867626867387086741569384293306848860587510801347219507762137132923794016424491859504124920515364202247144500709724366110091827372952312909477545305387705561382741049895952675455137273130353970924245307705706513488079592286471779841618892211259669682462401867646904500463871364006212444687117958228425162107540613245781774090294690988564237106628174653094873366594427510197342924766256422212719296027518109087895212506840525880395964869358756472032331916816583425594944197689699707145805881630586323526184759680850186362850651117805927226069517199432584012432854094498958224732238657473703657075595201588652489026055073780375784072019086257782550231470329919209866267368634039054221274406566707075769025864302869448857953844395726974331048344112138138644045844412313709565089672684130910548504697095419273112653736867075881604717299487288235330843840532376913892755693645005658656337955700819458301063334468787203565247581345918113369541306366359687183556483639362274831525830189376504848894787927301298835003097557716832447243654247042753344607429738198616291406550514501612728941714887547011188555189023358916480172951565423831478721219910291062077866067813387654578689627254869295684029136522439212086642831809095817737162910604509520322414701109538011895381962012500483550889502723372626720981530009152137843059653852908307848371671583769650789693910484995092205105791022256558039477041029715961166705609247763935552536449512237876887561269619388898695107402483505800806349223845519895852516903096770927682698278084242999103134804252669190274641241767249226764242805091183172292851552462833702287358085284660740386640794360263301941530687955030366830607394044398437709528406677815147935254880714382870156765734266981738078980343781138444307132448763200184517821719601971720938728712920267283402503524569722011619283393677498373807978081496019411140991559054765523663442873425085848577704278514815479749854864543766566394051110300447671190497381823238736395605157515797646632712743787135659987879894716507785646695396514947315892906232797167512175345243406708058780269903961200525582114983406907271407235428432931574355823914997733664343386148691925000857830602556535318579363189341888927661676964806125522931796157993026471731859991917517770420670387333929835850184484456240317104790256974002840613430461398093821857614048608987011666926898609338660164835105785408489903786851490134449402908815284026032915300541659912194499429118753447934768872537148828318439718537357984349726177131225115502813824205157271556277388543194039930836526854890371270353450856423168453360752862272720823848271843528758328067395638693656482353783950383008332742015628258181672412050767171815198322306716798027137276442801504340494022387980921090307362525650835444864129995867962690293737077191467816193487381820907696333718131560654002745832610416375113621352457217328498709303022238158591080690249219765070138034006321595625299918697463625999247375554350430375458401872886378737404615775208481123749994587312551866059096485784813967875889499712521498083965021830204142684450353421571612481938338387983479028302795142829190332618790660789541926542550779489392585233207286708480051510694296065572819078723284811115598252067180276015637578721829499573034913570786547284110612812051537779043139508957931022694333895079180529970613759276902858530871507246375070729730444962108784001013519187512338129670800212177940015513968442498580233365683820032314445977370781987250748458266281962246908572174770833311983985859374821376119095466053174223954169727689445375141543157448965584897934292909539449633007330447766670010808701524777671214757958566557033289625401093553786186369207498961320036673683016970395013207076303463239099828788995238393309319892228213406717229561949105659573679920620763004686656453629908667203772173464634249981864967054612674660477001352420377738601743377178214553668927157173477468911813696597649167537211914754432273889301801567521623092291804100118660940449940784858291963257761982141980771649352477438953265360370196342053689435990022784232324021977181803115082004195314877836117429958627486718489284253928862944876046015851701708592739713934406031296950568500644493439528886691196342305787260043482742943872142127681729314173459114977565785186664235829651486729484103366018885109989561337530793187243099168030766951710201778623284758498481602421828907295323140643952374743645079939633791707754579612980941089044175903735554703855821015227527724446512664658815986182529580663767725788175071226304886518246755369366193516478343318910229711166153015323599219800465876355668738453499508803543049356431245279600404018467048412526919729394741456262564581623581920014420435307697703861887768184290425045756713639918606452413744482075450587698801837716477957383565757642650896332402990665830217058665994102573703509299802696310547528404143927553908733010346691556461659022826450824766710971044070237828655069331126767916653517121870323871529224778946240111633806323430692831105722966898974615288801245771890565728372274836521390159098099844939206978667678960378591840438690278873712679866276765222093169842405824903094985814449325167716853715233658748909533484147231735668303645681737347598452669818191884386810987335011956668016857313657471031549223007551293093786133560804833677161701189044311635327161732578632730411119107995965793187290834163884456642061040231873220487964086016035046915094355530760917204523012405931687325161069556171298297813260978294200900098534363696591714802701845015132674319341382508578491538113323155412692283301092774838451657464615989874198595095231628444175138384216439037533643257942612104465087214426647013973217101749592590129200531941789957246930448140560802577543199620279832412847824374518909852801050096592524487315216082465139639530783980363448980496641989664757997390246893998384933506236169713925643695430034216111036120493345915920580264953168381203030461103632072281200210001087907256213786540197894811626992607986187635339087157839396133524349576391170983841917915904165059626303886878910776817787494485184488336744808501098768931983524619969865202102921416448094754111681127578668697207602659554549638757561988822055915236571994677977324114196883338829586726565322647131425332118222788299496036949246072175933331461459613576393203881359228359407796736689828219080237565176655949914076443115406505978113901918767114651325197574667241732537983619474672250658254045514676503184868825669944334553357033375794215316745315550589866566886870767713442962882494737549701724344384429588615054801847895525517697341008654616236332171286880836493031330621223995538725204099931830088239281266341292010438224050116926162801768040650354870081463747870637943535683924089136362773506626572961837019250301642380199180173424531645173231941611284379229040288822586076282718987097673643927342578178913253228876742027153338058139386489505989125617106660351896745824688109027926942311914930820917141077892916367334188008330856054000266448516982991808125761251515284171130688647146563383279079228191515606196925620831660985945348273862273098854008861317737721429289932103756169234158184888898520180260300747155720333775434533898991354541734472632529557264756326082962555769979792143142174512696646964865019508831795335221453894194383379455179565080251061567377884304675749540263455622692659771315859261515270304844310903501325387546450134021853313288367459711395442498684087845265513066999073936303144191823573353473474831785511660514440808665447548217369768271027453875214060026796418166813941005312901879280160068136206521516703195910839972061675009577648622367583019969056623492384014541963455268791673218382214272223101287577056989759184811137348015458876000550386717663867795412703697635961905518597333544875576200691363419426532799584458590235810105229578668430448216319001245785953613484562804479587031564196450205170813044930268087308917922676763383301030097407252727951952590112615977606613805042793911671381731656544889093328806801363550861234401061624266184687419072420983803476646804038321551682502181453867131788521218373569963681096451681586885536709587406704349210377743898160781926134762558290684033047237019749029183317973953766802926724437286085001815590435162300141360975675556813445737398301024437352986471652210367557121215069483390613240707077874226038460699500014274324757469151064382530693811979158834545533996914709626947098568464084614595981386372572568502912164041766708177641257968780553798817897253397184888134751337950365123382447732866550259230777576117991679270782816083445317017252637743618443780605809570058974326968446644165140178077318064210094737395643750330466687389983552782440999306923080317536579940209853928825247630250780664449856284726177672392251026405559234242009074245172873217064994615601902900822895178236654009697243038918706512078267530986147081571423269854935408461579912034511654041985517563025611560953117100766926772996053788607954203501527999607923818403046100448121775696666692352830719461688084975973439814183081820983855121309511438566750348435565938483726419304379989656431274168345090163561120866784323902374098242597348296018644273963316142816948615148984460422078906527014631170845561898969073376696334181121820445098871372198963918017928365279577722434001878809748310205533588581000416339330298200887822093598082798917291455156890723287899070579785240187457599498788178581137392599115801312500415244329094981503259704289761340999142579351867476425603956569622532563381715168088856195296665997086653965988635949763868784607998913418324379768394401517235749391148475021791210806221529564030925212713016931806990209037077278063806089795964184117659406430976085091542791806546132278074823694138896966109322449767356181256956044659683829802967482844330092555560935675539831776579774492532715056327888728140001316740422084020988572970561523308223146453878156006025804670003674494166564978296969240758141005735468202254367616715882746667563653108594780906350865631107521728620055017118373314931546871413317160163051455523807561542503394795247538849892890638164169494879769648336372516400049894691720302332289798166469487416391735574039320275419292583752426866554491489541062605771094921146257471189192647886523743223747857643961754867432029176868936258130851730358516784915731479533733329748018079963809105583879038842626920701599274205124346629532184031279890516328399055101416809996205021273183573227899095718629796040827897475365322143750054223027341980510449425876410749108375701809436906224669549572807746569635506398179519076580714025094537701328755739951231953965678560869181442327817590703250953858096180613091880997128605780604320828392397197545778973650573843205000036510848308790542504155836037302050056488407625350704979846269525926430307333967490652294635486812660211763345738360827372532844773521621787425913503006993902897613696194868084625779170122201689020662377750508052556704186148781844620438839483501257730860697575804558163079053120360350825120224376875798819619408394486422878519511083192669973587906300425055951650931351192977170240374172250419247623118871651132157732933264935766056331289177343349794975952562751266477064572946096549071639026177776127968703996824740569700682029744530799383557495000393038551519629657921456329537185789022740566711829651029803182575256239642817103423512908296540319767969214106420499705857336084254196829788668768866023127395744361630164771767570637443884436507684763642067614891705908731047270231519903083758825485120067684910913349524194301790990031576768803021074265148985440862737309013370119784419739514684728027369371824839200929840419749796959538402891975689505027561735606580000521383997768706489367752377729312072231479037997501060737485408692625755233889211456350565583598147375671321024057851620471903820942406140911794300554543744105050466115028020063269671855629421299997571661623546319077934539421580460658300261139855682932926304849355747794333715530660657052263823399725223351569520865856278636419993057382169857986508612165233881348547484261306800851621054756164004705892975567314270139015189587630221308541834154138760275869998664377291224881363692385190684991265221531110006416889448306859506181893533979910335166648782461436941779416574008528048404399496480899870532294430882997006271617369422750992730651046651543338311323136359728047503222386499280907662921726880929552933543967529126692683883307200970351895227475286327676161052802759379596950079924176644888056178137367906862649431539929564033759430529067970870666413448439129468595214138871774239336065491224506688423491703875051495603614010763201349326191495864696934248784036208729882804971680795525774228924168888174750141298133500576172562767970923192784355519661695003830764364076521754446374512258816768874165539357493768333766349034045408354802913651708723185062306284910654072974241084398470746227132762287717114677384620422677646616261738960044611494087676922471738268069360697843054791680456708552049039892638203282778128545655951511123967035916671392781791223053864980614307020660802317371164904484680394677884523927307021836302157204255589581557531933329364590493429506592925614479113284571718597497589448904956373223493030886794990574742528047595576862684427361415572354191972976494149799157568199385512646349611038608961321015226619568330991034055253534346620344417286582203027831536201125794897514482106132441212063463889035062533725490740913814310574464758771882640727338109402097968314218938643390532650089682367534848978416690711350419439931638582629099803598447656789099607802317408864152422879230470952760399310784669888040258025285253519787475368609939880186221764502814800867581149700461055092659629867100163898352391744476485788621608590481006523183127031338630734859434556301845206732868193729522264172600484465236722676134269646407932045638663070083831182266898986778579335918021249344991422960693094292447127364628553151389267291984664285376416267757349967184926455453164100395512581850089694863617016370379679683492832260670950335805821131808171636931180090850992546726931011092132956884643801960507242349795793252735345888696139588186791208682558596733383657028722621252602413036644402594011940818185187349589693183010791524518524777705858600191406837667843302578690708182632549338360688447377419161097209431833266192572961896796125608796431775000549088991460348053815669985142913032956094667332146828263037960793888588944006735132918404156651448168213960441203357792612986080729709853955568577292035193384525393653609232222664755402885918844115085784763765342358319589711539022985722615181356717861062794373866474881621301206686148330666707187865680570000016698383662227978942777106168433351334663127917281656541448316402467662805869453807945132670860476667044309496379554372497695477534701749016682545517139812375425372122615700023345421465707282499307645288735709599654883212904653374466749917225428892426280182120341100819756170138599130912699572594562369918401145999374508127117591632534764697902556504080209327496816459405023822063200902282567426051347263073563151793626046596149808966599549227039247425817213585389262087169202209892571057539442268930398261109401117548722739136764579282170017079028476683681531370096470106433113539158806982353278554629881500132991798783557864474317281567201743486569343225448666722049061998422071969381206694309717817749752771459228154274463828684044582092324159357292001236943587320790965468050577753900772210406074474404622764309659809872452540413082243174694267436708561068634374123928345682658877439588725205987859650253160788360096332350047319190575913165196026293978498358091089781667953628018297037131153685965572551434333710227875376034599123186314486503245344712272894119772981271623199937640721094539184498654403328971344544416802236124529056456095961625830208600442038234212180127497116680004908902243764109787196973180283937567114985739421277660811402436413273215150444387559016454849826279823611899921795881316089770333821408653177919103256613149528919988697925272913460442006006013300721118389367476980740275697548803450762210517473482356294985080395882031773126160330930848039563630544277757569549340496081403171457074207377799031798428811490815661811955824004222021349052683839300533676255026784728688813627042950984569047133697965674510300329670048124381617209907351653564370637179641912622938941615851132287159639600776640084134994241189133373114490079735852957050820123639405951678057824310410661673950268182253763934313009849616688960104292436117179220724153973202759024424095662911683718481014559382154357894285540086829314545340121840246800851303060260701427157805228198439878309072271638536423408578066871961972053577117620874476174386015093819964912440702728661244511633612713742355733062856403111882432271817922565740828607286072725813254053408911632186940554430635317751797592489541254509446343932916173231559040857452383208224886164238505660586763609169387929695958376996130788664918998694829871577170422707717075879755063813530725855091749381414750739271903258852290207837291414361081957135616945473593728040454314006560333644802446133189295161835241752179467290572284291967952151099348730214819430100790337323169703904443639828328153357247773688672838585578125819619497667478338283567322552921055493053324036614369143371828948615675630718130468934134528686321608699296202524228037310877974369744731304533184811387959884885029412438763454316302977206516986418149532678016550778211103346810381424032004751517233480589961594498044121436396451695276532252151768360108292566167144272590910174366390641554091640229395901931760660737357795293576840779079640995539666053367256424178691691014940973890566256863317747086781306179083761387526934622021887650991803962179221352879334402856980462825000247004912763119363916869958041003310018196096952068268561594230366802520332610531286936505887102814754878638731104076764655168602401541805098593375069583757009633351722328639338195862591594983302063173466175546155621051187283328377949684691913019535655937607310533782559919223734317207614951360401275195791137897615627361936472586022497419339440975257255528103782447899096642436725443139152350870580209826986836173614321973239316775681836492530622577908848821164109018899678669985145639428953948855167488090508702593732512126504103633716648816800977324869384866837006513898805566518721949206426734217150611954416616051315910051503665613098972256809671069223267288699908964731791039272412704539074487328036562164506310567024709122782863723936417946014668975966510878995178620856043970588091492693365646353515419164760688326345503837014388750340975792611114601080175082314852842865102558353010447901996710473810200931965808417068926260738969675305350765291468298038688491137652643708752167993481365251902167621099234297320312104749773699416032657201126758272268269426551091699022988625567037410411134814129947931891392914387035567006073032658411356304592138267315852725275877395800625719411764278440951275420622664714507231631279824540677791703197621976099091001515294034649292561333524082355997639802292087892486174918550453670510322812549976681772134292038989049179210695276569539138745442419718069937662859849850026093730602741676919887707645152697659652419881073112158983688826524637934949301816811261224206452159024542828917372842206694060207260335613532367213994408400190261262309688280749146688576384117442990924590723504974007077525018989234057241319237983295694666574971552900604180557906960325749859537372757360682043394361255576039358215914006695511505643174685730921534439152985709941307204369094170194714219971189844331204424100169165097399690169426921110383564921452100475490794005144541571892775243246606915642469618343096073714128376566084365977903961970143128018692934950363969935704105646977439522357370434952997816315106972570808165669066875044608687632981813218944464624314160468220009802906961198256973098196346528393936484646213655070655528263363428390281025260905254330178803791220535645019631385795393013036279358208427662734891732860115979870742775064709498050420148791515477347861432561988898363791561566559057083929243933473151144511284303191411731081436316184768629850515954155767520899988546442821663089215154105388010237233269401578183370098320294242201560501364839919218366289525047410113492235411074795297668716595720765407936748787604878646337319106111444741867921990863396232117046324678683672519996218172692323240356215459773608256053152190893171556822905315395821591457278313369058592253511100732086397246995394691607011148029345003354990652031448751192681914958146277627623954715013399778452317084430821644066979130468659483808783881207807075160213607558857741943583182890837775747555566748668993817604678835243579711573721097295409148889965120331765006003213550858790416811503055038522422275574106607788572978157357064311653632111726216605217396991853401272336114347550966406400078055003039738998338309427923717849581674453658912483212648575530883512402721590702119503734631326384781829011730800821880726694982452079985986069450666976937669755275280013835301914909011763275519780556335764186645809501200486387980740241028901010972955435031988054195302639319036473060292909225755733877546576185168465511889287348586700324821420442014139624602759686959222073768295493897575115887663942486400510188688960995980138365344659029951899088751782861108456765869917838420546503605561679384660939603222897491581941260576454346347866429969362665502730694171202326989295389326434990091077957266724961551081273105044930694602764110124908832200715977809595475344616015297559919536693830789797460690009266090423428265510965027983500041091157217363444601803050133520474803476205576248641799912391278476434240258940478928684628952570936573437570946850953944842573563494555607646041552129532141200914256599881763974104781281977120594907597969022842916125282038020688417655751495971088571157274605096889521247088538044330176744829980462824200610170494348321200353720377910525450385465306701822565487178316979325919666945670193240797378888265709448271436639615089769818587307673073401257556930388335664125235178653396814389939766443746012407376879534000493581388889651133299790192047919647732109833738345000043817617381782390103530336636853836334780326327703373113544188510074677362549240466386035292611750768737728260396907453658961613831029629857097461536530317270101894444851897771654519908276876616802535056876224856957458736249096405880224741146385856266817656274990838122333046608230771421631453504074926580475525344267044871163050640776638514083306053415314546801441528139076590180293225152017249048590629996153488784148211374140085472408246002394951061258155928575913019474747381716125653629782363096113518553128405633843113104077445454181021186056728011477381655086022462721915660568465139067715213031305326649183064372267922094714502234162309477180542597314280251086396188123981102988444375962763518762679943545554421106334221923951883794806067099707867785709663015317703235801736119583310156514940439357944306008129762725666542406944822028098219436477745546929816385286389017967844518937448296240626190411571827831296063721747735701376580187547600575925472127208005264241345108191876715822071743994232675893720421663709626272966996561206081386988702692470545269757700591259416653758169725961813760599113215545647591194156559732335749130464667510193667617956677836102794146378839549046724212426022273460355520086300254249110038165784463389102089975007608438255066783463212756253395517309903930171147101984347390344826093515535715429281123661518714343792173378955294823736737142471709254084324868658214436425975795421154614429118897235352849828162252596004377064904164632496460274264552557029890110140786405962506277607676726167593949108948574981028885522502517677512669455002115248642063510453306487410140204038079831030854940554818211230659270948410275327524611833663905813677310753434729863248476913102774828605171926996853993686677564202280714706812327547437257365848917458076204392622633586193452920051666504984012997705412807732502434327355753429410849285156353015322255975281374842128144517863810413574008367799962386165226934666449875835032649688269405156964561691334670325691521666991670800385762285546712513207802629831166281500720498257246928004120962973083961737867712276996122632180192223273140626362117585059785350899853187105591630868997407232687983579291046551628653812643089679903409980891855894972354850595638894979548340935259055932298496222129176941135476533368839112217612310269349690006994975279288874272256977796979007426056239489879681227911079478261319737661005612219234614134195163424910757982317670808412184223039207835825335822675322353440553074331620543973169174043248705728236276196303368385978471412101840298532960697921260252138875150292974568269271024779404305005778001069588214853350744050147884570346306909549771531907701276208976583767644824596571038799028777477691318394770931357569798823247195791952914789363449532515587828950904399635070681091853808286127627785565518164494446756588400119307847799168662298685808536167854939330663244751222077357858105195164828741643004206951682112471527059786202868737699905879196408222344292338725962960517893441471608180167424769121360997682346021096676578676587822272661336770147411842070020962666877437039399098618446874462623767647971570787635546250916243948399650832507743902159646399078235965492513539493467566747788124119278118577787864781816397329068128398450124783075073031198997764498482998036736841884341205944031425166811963524019367025404351006592535719544683428514792521085909656215254211082747907756967905804756689205047419596884659853452451964834894016255810566787622572327938815028498067532477434747301843177329109775811624247218285757231228915701468565594226343624416446014733130577475612621210530189118410389334875111764373135836330221173349954188245011396120190856016033475329717476276865556876343141246867392264475331117380989672804171315649109369785855661693860666820714693298943151424054134030130717982191292711128563867425203767293966595871920114006629940569313614149774129742812186306960692841120905340996503886959227153522843897237095747310429705995658396378641630115753147176539940062937706670568105919531571436125462851184135075559167231322989125404340043044865351728301284932296945178859685286319536788591469270584811093465500665164791907084803325351090548132798981635781255006206866288433789491817255088712238328848345579970108951962279106435534633396282064796078932526232848746384973578093518026691312685166606941458849644814159567536952669768419067487697985982424921065982463757818159586946370088314914385623807951146135286897768745571198208269687980249074183949655814202718647443646768849068197299165053894316133619074858031425737099021014484366735135500589474387731305119600811092780080595700282016285312748781615313619880885218051672359304258457374021096174945621543874130010200516070654824091546411660353979631460159358464288283601593613191263622951982303845120479869963710342153536964444770257779449723569747422386618909672621939158172786128525612186378055681343795293279025680601774387219934580025925684325603905537338642914358060825354062319685575437602753096534888873706277452907884048144256802232113405951615794927246937988643450828198676759088690335262417650549799628514044954443835716664442038681989033845223202248350435480878531517874816947750632270334329977535687554476277899240054253385467253113623439387551436715855260149191662942902753053067059678734445977026721573518525762570341226845385137385194778361982890741417783767393727450314109292565838085220155621752823587990968089928008165010082424127856928486856520653378074873497054480479507366672459148418208708036450849615299069581616112967775368413346549551683866832424654613598468159049667683172401680956749001333671091002641120821134307485389613362066464258633224796940201903996638119822980248138811795922373635414498363505503085426334825344991003383155920433074285466122383154976886625851460021159766963069352403430263503462678090383610809098823625741614335872447242870337230426624387063045484908256110642485819962827874122992838492954689872917261448487041756495465546179466144938360651972142349581988836512522803453402620524029280328109479859557416849919209047329958319052678885772771407665839679190317466995581211795300068892563369781835216145441306446032266392762573305331782494910249731380250681428069402458892794002704489999925565954576799155705748711684769857020905762950120556291995224689289568048100048834143305636573780547454498667659838530330536919481576951729975307063066808964323326052296354208454617657270795615485693699369710135733674349859288796086382320879239321944159353767061401297284439772701563074600793714081386412519485130387865409331812146828764042029970533445236754533413122753782781222609502775096979613650441166635528194910899465509616380547923289908338730240791743917463079160642820960368592978607465880699170604159569452374337415704153597499427699009250121664360909305722736044077901188503631625674665929315832214854905703133253246770304369551657068075000614406792822710324712314358439187860973213510460437635170818000921899467159796738092868051919910523381005129943321935760389991584093226348221855557871280983206309985741227758506586559678304568661430491391844049869946825453536269497647816468433085751450123966800035198108008137185611986438420993431676628967016852091754730220339286209133065817213387973953524975503510458413578655317550610608565820724631031788936018453323598218498960471797454317583188512036262126683870364330489383891000252909764959827073849424161254803968559444103919299704953576548085936200807719937570801447842433081340140862342645529068516613956009951461721259978446139168194333045246532078963144704979213287555692624220602984848145869896866864066560154989243768421012700641366204927967605484035523900087672748287025699993191179475547240450980778495251870371472144419788791902703159919147664528689246381542962641608580514383734512629969036947633551640801954195905851001142709715599686226389361097119142948462742076528502484699951816920329975692695464382009813238590874764646156719712218805962181659873721397686949920400481525221356652077874984952137581847178030610725095047459602960536548122627269494498301061414700246344792555350371442525210103115086581969872150542744800771901885258750657229656064092664024990093418358180981161579647050387193239152669804696580421461667235530028685077728540045438970468470976552643655898532217652051426259786425804364734513374626801891996867853022479072842801273317785382481594361013137848411671822343611830652676449777411011837294272043664778320022939664845407687913742701429897720421376137648259106642206118561757401466797667544431057644923135202057467478099421786288361889524826442485874044457224050129918884369345747096056998528456231696149706083511830378110488670768722313273456818020824653836776750719201444672422987242177448997202609747457822479688149931447787086157877288111595274259152515944044983954923500590673482234137256107211502185470252360809877793624546643330140546384445307401494327503287350435026622461081283692766025573871945933713021478476975558491935409375301089507161762025860503318436487159238275768654627448157391814320052815547022749946172997282554911378200272720937819709947785187398381455190965062290423485021667682002822194199918292305381695762362590776114837986617752706011680856995350954573082266244314842519560197669918321085901448204926305848796170726455584814937735917827379736579213646945496190907836888799959441959399884971174859968507623347011118858821127554672652783136341944945710942439195964196213947776879652526600071662268118980306956837272148675929385598563964627465957592599484629312535160436643370503891638980393274080633254671590194914737927993584401910177327603769849079086459229745769894618421287731364026209874950169299482079539689201852173786931814819661667160100656664505471748643426436841121796752583850714448783355509075191896382742457615329367605211424161770556445298471004730073095571173247779175383719041718110003928702309625997920517107601903452348930956254263529675791267795971927026855440450928843559703518221793090161868161053782458557823742911820813330640899292306811261321834789171727269214267253138840848630299427596249662916525100878183270128577548491429382089639715596376747940087326012637326202758987296754095663163123062270331438951252659011921338588950929977177831708597017229125851957111603821934995766433852492539786543437488650744226711631924002302632809390698853508600237998653344414751749831771284923105633802828991671447726963575387155083125333742144122582292584684541761967710909447201015104485174559011444694530953005597538928009973802002792434687538616799569824601953028456904375373216002331780630536683789043509204546495904011386635665117767023032918435542896342257174815041768545850053368989176673304129671667329320944145626962019802101171144315546109975995517922955216174722457018056616131756401480081106572858895538579648784758173123150095098238256960755337652960989324057333009876371453100870478725466118752075856691236902328463793284982276496924019230529530202179754993036450419281545470905022817268987214060569108925984255987477235592445670820560075960521133513774631374287953651200029034070333396669558626380502865431073777197059049439563895116594899349229292398069544201987294591065172038860771808663913057157273421397935294571723965210714191402102792322619567585523434335917927100915081726176292805013219015699047030967811534391682051332195275180052161385961179602794032925767713142088783039829668549101161607979816405047797632764961683790187447651365700512997798943983619116881639744618459175247124882268026683891061218022273343050464530502678561139089426986083830862753293035021276849863762923454056384758530413142971386205680531865646269371056500046391924802539361061688087249234319571030197230485979485560928979308534152831576742765860241696198527176688485557545025357726045497711714793815343868964489600269672010181565348493162173415879147998606560985001274988672826194404761022501252155638954543606705700165906685761059858990986990366493059448829212956921360140767142074741439821524931489860660341387003190845300540447931160250293016110652574680978185969584482535118099481176821155612594827553085030811406309658977882168841209676560690848848750938580805629668186831873025707689700600030466581637555558598908849467507502493740781990990873280453549144071964560671861563055638975324863873891789430196852316927391536712758084216843124528101987552874694873061685173367805718040362425484242432250518452169088355905937677652310314114539737260769655512012677306428861261701645108295634653156198688593523815936920558173128228498840031414049226247473777215851809017920605665972001721824745724067238830213921649392374337906564116196848450190780083946560433755901717645273928937841481774260581660014404081606224466703138809742450968414410116537651255777126702172566932958903329909151319613708715590159703395465008960699856619598455022000820875894718477887950206375355268766878584420546312767449487975830177739689072291811500557520584137333613576345049525661655665968903761881497772022157732087887177074663790678469793761351411020213893377171440855386924310866898362438954855476467749444458051514443762758605080368407337763323106743004598994074442705854238965427737340289805037351270996061384791636802584770461623673641569311563288980943174158062052582524124337571735606413314703467239433001161959145072846007679092681971904257311922998934831061014818968371095976490991127501251131038034168941325310083324384727734844342740978397446918904392720163638283575921802351993825353691657271253724000094807056588261787403068408867039804467880885015628697991041046322370888304577371629459693773761171815809346226176552342709426076368265803496845258885258279362590145119467698980510443024725179755987920691459269690907210300326548528810720142391036038762108888454136378531195962599114300958235970343380326506038412914843649000585059698550284207176654820479671500784997875188174864696163564114636189474503165741240733105364218288050646276784555105670280464574920691354310679295113038151435053114893902240251024991014952575386443014061952557839604180534767249150138946184194744530807962459953987409727273873537355597173466671511462792762710544057219043522698549078274663848498671709220368216662076011526195320861265629258770617177640341316015402503492292828789234994252687421219873881286719727863416665490146817327910100635381831783070748777485339964206626797324381865827886107890021873563318685971728517406395027643947141274250801460920184622796815469324227806701412485452915334930618335039088043160593061097533789022063043375705761661798229582254409859632248274270791062420393410483395685320822816922332881320350340173304147546416254024516302431252197140723064740282807173180890989821918684428866873821713021440144302389975181604441617380452430445028017157325749239559746863981093122259366471812569396116132839470804521667985193892805105650355322452343195375771460233098681450974769180042499829971564423050392539451395210861627451642314692293847471795388824508887921661166660818742564141527484915511298417142001731361258573068217654086847301592851544198017046630092135102598410716703649172888253384104951383325248403476020311292898761748599818133416095458190558583808389238187464460332893658149301717702495899183023535031849858243149039513334354014090915430956770251612463620133407822991727200302174623999250030110853050668291927939407109953302931320991559768832529780636155086582634304121084919368879836655892119830839842072042409169609762706477461560974659522028508866354212712513927461004891906178165152019548893844156136707371676631722478481169998445269821866793871834972614773362129793514657548377395946653954075716656462742921419813074128508561469955830896423029744071163760412933000597893476143454382367006268161131709465071714931621570686698888818236815347219407195151092672513884859873119558129782004061067059199647364001755549061119646637370964020598056677840585459921870472442231748640031904707007234918608593965859031768972794390023995065353488189334992134851541922172714355832487401835188968989336593560369076856484173931558511387431615002473323940523837249724159930550895854441919311343008602449753741378759320942947262093491350844397471814488883838601285455847128182827349005486825416526010175879267871146573143403756323356839492783904871656287154115747327565489856325391345366026231126364579001759319846988171325953855871282499576266259036713950657635857830207720246137690466057006645973331355015435469268725610915111881011094946327213285432135529217297096601307748278999351281082146736528453278912085175871348424310985120384946165312972614109295517613099222247166462587013957403153368502334452565070512140170392862438597354576253963714336051448099649932986946491152299311767232219955781143684797708139988289237120301257773656673103101830857575854412448784694271406090901993825695476498874276392543879996352126798605602164925594467955005929122434478983127184881245679201119466232135275329806446127891391186773529752942443831947911812024461542062737770976961155554373307824005104020067581640868201554325380149550119055108516642012714520996661442395548725279418782926055904427160077184182229807211552224482718369700769306829365932421328129235144304545533066455485898028886113829023245199543302333160752836803516217465375834737124407007988234184660344251226606868897394975054125590011711004348013947694169470187115449336497561740561116926488988330503626941769173718365502565651119327725809035063211528109080734519173863761752104537735918244353992497123577545948527888080755414190336308556618709123788317885259772377416661294786216922652579418274196874875771369278735121773252746237471672019392538325514995321125387807234954166806864995429329438621061338486125517187055915626289777457414089438526661379883870941749866029636874572642626631328253354036711303053247181033843702892091509978250777046529950834417470431059845401282637483598514118831377928360633230186180810073534059094425053497322218934899640027099228870894728794601310725585657938289372521638533305577924052657919752056591621608514495868277719596774628060700761530179129636492602297662686691687369753075337919956153092193643430406097730862325630024378515629916837844999443768163619364434524553412641007711511828571266766841677893569853426816075641023307972748988359153524735926527874297147206073737881180478329600381441236369312319040546173207083837323084434726808427674750096739139200597661875659665724514347661707861721630193257926329932258416591476343683890167268111565487990685472766091888060216787724468428759088888740608287450480484045545151614950604209383158309792366555545312724232440526127556300099781487507240393295321631714047457019167877347853987302896414681327631710030419844833905233987477394075539414755128006342842536019160749061364043396090516744221937055642753640300574140721849015531483876271432391164532500760668835224421952328780249340738026789196774420823811794882100896753520969852545680600192540339819706460878563090541442128497086420301355862859544563330336128439754669946598504376172460631341892076271311052658008207425159661721380899492213685193639835838349494309939746196929059008116754510763115132440667793355094167648481236212134025740268305573291416488877714553727586010578424336717223431454066428545331155201321557036849472144361122333049534546033543069262048302555977866993657155207500632835400837393980327883033776268746085626067572193049606391576972385466520208236682706629393549077418974004719664524371727421967138906510871402087436758534591256808251271030190763224593224463826644315543792142878961538387391271226153887101094372329226734172001023061098016476963382674801747202905986035441182140178754533513722735850176852332507471814729994909473273131912660426631441846292836373314092520954955336830467642565432608972913625849074850486756598975968821051541048674095184028306167220679125684448297132113702529284167633798211481863757556348999417591591214939063400303155116534468074015527494746101169348751816520410768100760889823833606434247601701867889606373741384600868760414419767341855820550543478819950957932292364623003047907728711198284648958345503502543516133611954814033567048561731911181708706277805871638785407261357255648726268844833022345216902114938901043701493105341941023898305910863628092101343002167839641974721758218512070997214461492567214437369292439760608922424971972680038210180523200943423382217814410370452268513723233471428919731183504290378140601002271866313864169540406387622057628331463858727176625019463030930110733339093742160136052128860641345581085566395167994030596430464715397352750636285239312761847607317517337827080463398418765401764441119461052135771792379730074556981501606182176782176736111939890006844917134717164881343318409437792398413902544242874751039319863314687904863316838434879088143565845034598527062386869945916534978440255900136991656278415590078360473578674225227664334147483919747873394526448622778641246000271755930197983262888408065505024670203105106580835559041909615703712945338831686666593581431244833767758945265864762783819195681535417044633863944130580813491355734753343484623785518059657823640646046855657893453816951469885408916232934099578273353488431474795820685797306152014850754849538962381301696410555873795890197810274525840843442104003844225371828304284940065164854543328306630807402799594001184113537685551676176770980581335987354695625127719870220276396589375050333098707180278859877228919275129825767141276435918363671437662760567270379084635060767293351365983713399028533023392291515811715052369507495082125499302742234215770286056643965631096145942530763000948155724959677697771232905707216420041119481878285612016192074449834978892765714165422471002396863538607620812397138247896503749144057958934786165551753410773220775240051168821386301028194402879543543990687877345658076467023390916060760955768812337318550618443329078690827756283467277586123446026042712514924111888946672767035730961278878420222481353180750346789544489425654762184502292462713616542242023150263772144927040511192153995661512376831480105608838362090125361803806834613667513351275694579710170442540332564614665840776492151361542884667484219208393790012160841985122080304657791805354137819507432749346989067109404043997661892429636409296198369044042569903096456313757513468024432566618039709200142348011841420278647678511405378443158083384717406439455060287606915055398776192264257923406312277952920234427723189474674201776488043763139885366145942263555767799939445190337495108209767182541292932425526578306190729270044459370898763091227234627260655368630192374816123110047862432401857411396676441459680256150336918255691743764557841418481827280013113411909400893878930991226208593534269380433164869130114454032291136722978928758032365624260239145207844368642639905878472984126507133282783162816171772241014615184087941386031617937291509161311293009813168603668645593572508424185558689053784102922165169074868040116002076017985322233476733414255581220136719705500363271645756225154748041969793382491900578645327744579786809517894775307888173732447973604350738897408081809995032649974392765040380033125580013824053107719910919582982249835710420965928589357273622476315991163007650686871364095389124551483168207463409224927592512096949708324485160629233209701102884740613550007715705660394267467386407339587261980927451257716130396671065328511042904654177274410160440322168458489902463154263079433703011154634302490951656899244480040127366510328453924649519655634179072175410477472121697944905414723828860907945279465666753970888267411538255498228030055911933272387229347983999684876620861068269526200739484504337034319075776862842178776611616978965278790592135922223755059755484567061773478214251557558508414896351558084584708253543611491967340814523255844426515287237538791742108708482157999187568178692163115185418706556180473925004217211532495398120271799312397910454422759240438519233133311513253388036774531327270970257568119504562884402630212647176558530118655145534923409191938965532543681363076090527734274387170085094228040217415975129942634084687432589642971513603518514945193453923034780320653920416550964965609619414618993940863074849244764521836554286657412334248798321059994387954485120472536708675558786273328142604654571154618238199645004306070389056968146028512251333910099377418572456955020788856260807886009090113453278399779164951657361381170028709492735989131349081605645274345610556220222826640042890320665546268901146090113249097234035049897387258336590804960159949313163482083181390581904865893245601919898498659558961934321055494188339340504105057909685398883191678242819259644132119526162741418324009223320266094023182709699569226349533806025302364024788889570955402686820572782400705245148860261695254173300129926113452189268242386828732029661885794971109612510602198026643395333182508443856514763248326804836118953202784132715662999938443647881570559785095271772758921395905120287261527708357083161447000038282863979482053560170554726686252741907025265988198995528596645570130068688733076525776477188229041943747081245994393301759760264762031524523013298337014075221694622820795984587880527820580027623876537744126531259942464276712954913940854611238383824027286255676750443615844642037387675864244611651723773110762274280684172595037649253302106598470868598429587095389514668224628504743358981797172164708264084747253786842644600930650958615457961234063153573011933040240368907540473418847979184059504825082095476075832211525743102343016597059348690830470894034544196985072120733074183590493291504248512236366190014048463597045219212088466502575008495163360773608792358059270682513376241829442105617974326992700837635549179039186240985050950557436273016662383151058990764890545334781954566542564313461363789906722665644790922924835905542220918991890237023193006821040537077423929579531913557626684344504313289443654394856406332466411308995816056209770305375409305209655862219867583884818093526840583214246451593838195628633986751756525004260000276168719005507367381794239667921455305904201714960742562902273704137373200928564641637132771387579997854348577288732960347255493907410591230621504444038240535517715387154318855680717486832878149455366272778791500642016955773225864673528495880313463628689272197681728825808422556031878715466737060417205925927841938384028105175679320539430359482059447223943934390881201079102222497058984661443745272267685679771942996801644695395023597509433990159580349586237732148362005509422554400881718333481473249487175116730655589314678014312787213577245746647910782044830227730051108891404023980593865993620919548614056637673592693925682124267055562536378965441141404354621261537807971948086345616155210273732376571103290024311885697613002971731298993831927770737963881186417520746151913886525553973528277017310678461904616995816612304292425500412161111340899942491365363881803462176905317840307578156717586518409866337783826318630963372564898454309028643092088096307387951082103540602426295690268208369046255167757529000649921932696720603048132490632104924350008328242154120768237791095313731457249190585679008010330774144737769269361206706375943338309981512717061238806339390152359548395829713932263453220960244603227701533232834903302790285163708884354419005336362125010938512148181343928616606778320123018010525854664631826794078519463714076144856899498052384059574353358096530006591599015715753039138842991925778727933178964408090797347816087714782035007277740339106535522741179948435398083142223756598273591738142877512448523114330103646494668906624333808652525103300334655395829088724518663253833671065710812905052038024606889999265320873357347622291996020426660710673832086697147881135386932322793806609842229492860585271892292846443441208816321066123397677509186307853475112130489497612387704048758776154994091453420842027689512529680237423682491028578164584929828729743436585417660101774354766564396406790271502043112505735588465142968960090604806407412203443056742199477475259415375653973918458932079139148254697692743218517581431450722455145177364842146396290395631992778941572329170065725570053817351832060656048095765256625781359925822464050690673865657228346442813106218335003353422523458969380201731602600502879700516980301883165527573751803860847544685505388857423966442628538615818679282764440245457067293078631212126583818600406753011630963824254655241654138943149711486197860102209854281459857882913897162905831508128692636019854085338549961204321977810804424031882935285644397657556586389630466411012616736389412685929803341127295371789292571312666797901559907969509065059424862895763975770097559622573206786325935586137389251093107831003240555478583042874787132729394809409872526275814454063693697476142167817144410078355595998008542828727636038370962194770637806243124841400072016721617339065283179678635686786433142582465753619493617234215839082764233356416618081936868174162619117170402584193412047963844746536641471212436361369636668490051904632859560603483345719424582747779367612438946003709581028852180050868502526987909655038850319991667498183274669542625436826132444398935452441985781347103051096150264342224617955241647420443799239338601341739552669418516483175462522484718369253459590934494765802586136823718135374316082947307839802324729811448325654668209507719155975598462775133829896692828189290343055959214664245017483809911786308248018951623547923734281559124534201470938661284719288927496087688311622964897147143821853692351791251692933330687573598707605067621996425839329219061588416393886966944682970226384585793530200428852450053405604444348058161427691753687934421610076514989536018138209392289465016892870608742766857058090271434408819945902024014549356454775025468820198702028984387912163299276053326542204799346973645128956514659994286719028985182857175281288692070356939854147578476719315988385454992670477518495708400049695002518452460164662529601863915923040162029948391720148731231326480631158276705012153798551889403796625404331082652080516983405844969191372324102231574641353233909696073947649007702298100562565930091155819278635036228112248816601735717542507150561196751678173744815477247095838171229774524659842387092904857730454678114003398018693321119476959413860459902097481751949956974597061688514227506450541243101387847320910443941297632324208824750541670425900602579243759415172874842233712031642005770822641874139011080061730290138222497790463201235868559124888972059846554321477578172567241697568205318038759308229629830671276335115666956336769101429737803003354520635086571770278314839107825923859036828319309948391197491493212057453041214992293415362312619298514198493570384746779827394873173524625600845593644195251810977112998364044002858160252243368482774270445612300551488604980946375212234976858740991351712948599251937401761736167312155393175362813496975492321421540868868817579152693902772685795323639188714548653827221488824321022838323617558959115248402018042155377350187456242855508335389045577800047014439801508764191978255763675940772942895904279823219891849680556188767225402110926013368509189432885260985824017738460016857748971251408896483161678388088192472685426390629451655164065855273109241422070335246780206506020400692409267029301414649728839658036663365456428290212668285395459613452862969907184490836539560243752602904237732225161863536876951567350109435894902018636677547370511084038131397884904622933533358456200217917666157499598385465741254222274777469757794244111728329564467208941356846835739820611853705015801489715345850838609570710266194223000697131879976773056250570966510260271370403853010573089497273014866485216948476270672988637844537744971972490826426180829860004531990020458076422128725909400567273366820985549764997897992373832822793459481567180083651838114169994666984414345455075476033407597259374303265857903327532920717410280508760274714548345251613389450743073523472855269864777167716101592587373386416013875992412389097720017086366155683960076016199582889451483121729129288406307572293798311493788525453827544231985881721268345020688819873617782005413862722687913211084224664756105238552656158361062110934982018288565441969204269922146266317646796908787075313901039728445772265598578548103605115757930433292265774937650022915453730658852956000923349728448564520736324855571396367561464474182880057449721970308518880624056917233467668441021921304602140989540644527058574100296545724769834140115361389378337454176788257845500697713227711071583264578122286359702906154346344598577962983920475738629543026395468294496938093325634544911877093883139348425744780960068383267203108080524698206300058215366435786704036446261931752250045903207725748195657157659272418668756529825056665029668266306868575972281429754520873595863438766045463029703446365040912005740247517467064190344934194469855361535131613044973996502384283873203403077286262628376278903773285974864142874906248458617211662169773447998119082410218237457116155066893283761270979639682546075220892887018180099128498448295775553716272408799927419619668717104627861332733298147563377046146399155643372189486880442082338935492321006764800409137619928984490918691685713304488989396858891321619072344987795705277523868111010743149087254236752284751328795464558820618599552810443566593531718700592699532352722758061305071831744584240396974239911086530485439157266013865141296524613289457293616471267923204871573845696458196534825007730284156415672645195605302461834214302801962664622998108884937256479341628760382540296334073965119201798642060788954264118016441517125034600499975483529993700927926485799781253205182186811647613369735621317367568658458527387810664250396909875580015141513512323751636750171136924237058006838279198237674346929887846589086502868213781733300418821739204769604719589317807226063128427655122273487076338740447687231297234369014464506113031141355107313210070955651558697126315374741976416090187062209970455641880050239721149777779760206849172028676593964823030257996671059053331517873222794158675647690594092555546680989047103894311295972457107900696971100286867080329123681918120763795203354072380155848766800239245554491867068261051270357079027993150004117670349331818248859930934715327839898883607921661381192856420971741516225348170019368236699977412371681241684135878310780667578025722527521201221545325291455157009466123513333597331191229382552312777933562643490970362580276260436932992070452859984538949287563782396656304470907218275705605013591083362020191378113110836465132178589400409970282006115198582162292458077920317429122893769051129894675755025620593415786330984118413010231405434572621519188063861823766785866277991216495468274250366180423595849017897844581908220683852603707334922490722593389936101869012852220910292511003133598095926437521648481512616790375307030518241987523114301426669069140918674472575416623704512129313721676331898185750743108474577240610886480511885679921552200468829278776980071705694062339040296059969867316048163851855911902205769017537112852380614389694089769301319277781170703212393211104574945000492625406733137367069783050710764139080143621609516522816787146736656814903858239525077434539573175717666727216059559029432400479568181447249755917506762301226855170167330007950321065754256234699180206418097779750351810683646116317483739917317514664435551023474943017456231632161486270400753395708175645288289473757285816980586257165419118654170313820963080837929579646742159751625983742423072458566387380517166073798848173166307900954116209698292534007294189573018062532396418642963278745246645306703792455382620156770594193740428334525168861636315140225593305557070219118645386454702626854087040567934479478870883019936631186158246951548391266028232925727769566540169939663356988027568710839750790664568076701537201311021649363006810426959365041546924851577540002932401331532973199610649843243094478652494394572403672868686453449135110862493803130754572715893185937223173337404113308168613085110419704607777389579755516835325974011369662034123051493430480762237057047272484546952443589598200104736894259201527919505200165280638960208013285805607901084514778783277867199614423667594919700463697965289049717597622427989646520588389637757215984002903178257379457648103310222611829836590692250155470747029430334579262645762562131931245336805174504873475272312165269123943455615022046343868136994576512485639647425009506876534408305793563403225146183357361857572072165798825075511819441975123738549003733723628653317244305157963508829297970524452386381647957073927547880493950173729418807177280946147114691755128457022295304508332650947786750332496188606403945816568291284693366642667282674727097039752422188552027839415939150721614830179277504757808660451501171359419418462910178828845691036834011860282860307368098575051495597970957442013619041309827756399057833563899960327136734807735795843798344263331822116491433933043953969898097903251251308710873860618830627143155838418870318000940423635763801596120856497118222415326139808975869889843215242399421887941571980381141819298690100391824413402276795680356041184107946041842252466218517560760198105022314252526517056795881585952178482772777667642104342067462904837661447981845876333597997298544304003656984058230145152294843628803253246854621380121232087917620879572632229777380650404087688904119270785410092631461534048431939078059206714563907999991606829566290083362371672976095083161143992745634392822297024725723833477725558000783144034367318765160635358657850470524837501813400030744100410780079604182897314120752090053109726481050561852984027852543979993000103152224400833939342505278042383732736250205216660699650407032476587522762182428841207547603055413992006769720077911336392676651387330641706811414130879769922728806651423949522597704108300645340101879457794647825513691749037326761621162917193362632039937970784661194424871313590485589650999333077558321763629450447682586703146244874582616319482932294488926888353258743578038322740306588741863744270443016757331345433915069149589658497394279090340126140506161521075536866857133555868129442071705816649119090848788908634761841061644762544939889043700224054355754883611494514493641364057330019827630287261539292434714836408688034347555211763506234734335375190671238804995428914699567550753646683889408392060860942353099184726761860431284768417814666735657379890564530837399622215694948102668956632722285932887479320921053690944326586094787943503829738409043657851486507012979402794246628374475078592688867947904150729843217508223217825623139170297218080633792770789668709598563071788481695442902348503999297689296424140516838550564297609503677288304881339071628835381329574567427039351063255216401551230858117076647408179030316569792658521229789790429051798452579090427837322545260263005961733784314811366763675264284490954427358307916365656862710946591815469655834717120640511417312371143459660951377862495604670896712631022285968426164658355566273749336527631020950198297249854689744660545519527675917347846054004191017509448506427800447739777497705783029124824317648989748087788644265271638477810273700881741836319560760173935590831023891239361979866269992355032343932537039563346550528619224544441142583097356490570681520231239645999255174111114682676580361374731415103869606109768507057807536011177923201272190242151290749051599403302856227200630570010357254459922585553618448750823917258964607990698338217820818408161848204223942675596381818400280277945980723994179697724492182850911018334151388511556443201305702127289226684233219743495660347464354219211090855668329387931452488827621368283338348358392497142223265209771021328370274402003459956126389321264720309263518193806374946897180127465740160930777970131985822655635381286983061454017371341433718567355633518075367085713270283481864608617891839505902052428922607239800066432658014537927746374677140159045253834221134525326734393685874774163761487980335420764560047318552677768983659386861031021403703895300675415426651892791274285959791675413311140405159350991422325040888599298722869951088256039457911256336941707933085409691694547844850912324368263238620384799190713913106442537397764964864539712212596004163780841297070927221091989991200227035023519813909010499340559693725418749097748605923270777124453886211149632066266459915954432958702460895693117314117280185632948337286009542104815803926476108066607140806985274145494729056577539906903659650602626776899410104847792066787255101843610989754549553691547994253278299849876858883622563208386023103421988602734275103199510134236536376838977782538129585939207164836147971469464611432395018368990580738581227312282274552807518737652832699207068420607432688516802302205130893743270372389269556541488979587809351831652023594843258512083749900259497205706983384854284348640089150852998863520394094819743681918235102459608555331841907279952512818569237970445212289681386300040249223049011456964153525170112802501225102723651171246726257452477001857562325981110316045330231106916733328126029862022005477256161505313348144408071694012100501340156631915563328368280410379356724840695515421747045876071762889106534708390154465592470471008947145977452422103000713881358918228019818489647007842614001137647736352835951021916839209935454788926712134405262461168358294348826298244904209547154434835672211167190047945957185366920814530570042485046848667874277648334712626635395179569850480812534180526189389717785570001189767349440727986584339607784403251849889403552099651114449989862366776283908204858360394808414129212148113080791947624802021879865190894499914519091607926422631699382398837636471442474175189950619173305411215817498564400945455656886897676364649336955082642102751874682357537714652334260478945180297167363840253768605657679475436301947415254573266997134280270971849129477540033129708769332852404708195836644833215708389370376609372525468680512031891791510835965841865086115649558365440447221453099279550303787986255572936697237614381129941570622598312325353562696437679231369967956585446041181256606627989885395121705472151599721550649759305336911979183235398721464905707382863659676208518980464057377812849120687593056686476891658001476712611224770691120240573661000692626935710280953274600650278342475682194465125452022265656661986585254105666315519442771543621120016759943747185135922280255183081789971206820279617647607143960714059016568488568770841983605064015599321216658919500867283601362811343104746192693422060761310994857431844383086192228551640187968657637831493537788299620689027471718055974626335482089210166980696813899186762608867629527559244232548787144253475436227625324539797879156577810901187729956730701516126045208880333146592632062193418136460343927219031156601846803708966411387159766673236184337319980573796253009518098261731495726490746715353219992783861333368659581638390722897511943500582280921974156336169259972543769154416729220094058793611286534790147008758013500416748452024762708703322092500465554345105702500608880224987560126596530367648073996110052122354471750144183829267508908168324318027324011735426965080287103596344422182733656820686630447286478014625020368560327109125772012887520950741399746134308786016190637403165165189481920949445954974553067245422471987825143679855761077911366493903995192568613681050459631552704039200905932132541244477296228422031298108839491765931309553154392299551715211642253154889370296858960621838110452986817107333876071054294871810243029960202466794968028001070413937919859487803977321183386496006507743337695529573233173448967150165420640282577567461723115599276209675896741812121572471522761182500417049895071435394218443832159583284545586363569207429623086464415036290127627504422835005159461993312706207853175494533792111642027006195066349136574373526898466075208572137317378189105493507723718145425659595189534800602272965209892924408697819315133062414603258955274068815000810899663441223549299714364017408942114973000618027409638701330863744409882452344241011063967231396413632333003552736293054529517021668693027582033834958454295321421936660929890272505145427816665954459068393625447279556647941722848839660338187421026951651017294384990106775923523260208362477596168843438261524745214436552043380853485508093454200427746351131449281221235709847491879876526411640076115491532472826498088837544982329130226118430859905789450306355968515692392234939771251529635735405290426401528471744893450515878244910818265760702452534360491049790619731758436901572866106044309912272476327801519316980878741275207635878302368066947111336554385280433984101845106051891179618336750222443439779442494901500507411597558969930822731760177234554536928452594422534311576012953514486713937688748610683653402762475905368384762995411517691381667280848058066664928933852804698499939300975159294432466595946652602475803474322104666868926422122854470597819463050259494162306758517576805887515140624237212374173273963799419793644136963452562398145725472877421360396358282842248942503727627349474413134301215806399921508714339037684322605202872429363832469762622251374608432951882177935083060316371572832444309845350450662506059362372924768471862198049314743727230199407213719412610301778607465660512374636049031951083651053695657544334462979285912615811126388592992777148741776956157318652332333730089096543059606578346847332226881642000910128329436110820602346253585851455296636314780556075708858378874747228649711297365037983175306975246706876484688874405155963486079146991308536166941403507374605043403474523479117075017920220270404369035796452824294652974293664313629233045836353564511188595694910617498086219424714913951586610991290490849702425552505556331054817357849008626022106314261496255067872520465568342841374480441060564321498892466429768159010424126929349082796758434861947280023397715325573823183425776500455339813877099408116775195758482279520082700147518039871095101342764830505501846442755384867875054254036054426472678935959812476542917959038030667729828580040905064612111291677331634863850144475355297310851553882324477646812077232459345294484842974601585193502081472505286093196746275050739297171946256253193665282704973322619094226408156511557388171127863516263280273542104020122143123108406451507098648878688502919640734835965651878373127805235144003034051908716541046265608552111679462796440946583527303768878457779399690093113866330401933336363554926221004674209935858262310112779879782755964281480470777212445195851261785014730985126792391833250211864662880329572809162062907748817341788114765141045630020937490649883362372591000379668089247888244916881881759915149690597323308245441971970732589013779844479379927421163329401805755952047605074395876355611139980104690164287404431472224643213640822331474321770871852029072043282556146961944700661914479082056430677251029977612018292737073304224987122025153249866091706590123354024478842235944940175112426850499356919847580028945292745861715939596524374634090281424098129887267701183074799400925153348773675211189216087030356418028512864814717797315768890105152222013946659520386870517497313898013501876902295634346574989183036807619043348032234060012956492074683230805058601826077597080812083489409814288962741424669674023305982405156285887580238849592027718916741804308551185500809871928433037990395029654768157867280549281919257716114059043031933046442551003698795860433772325731362179317553131272740071953278226762950711294184955984363814588037367833168365243801826228128317975734381454553845658129657689911042391935494487909358696599024313759043828902256376573724806136964705189583461192022049318283104654621844880347709087590989092908380594088578177544503243875419913458130817236751101650024405987959844661690734618606025124536840173023425357272738643773227021507077277095104364479477027199763025130914936880457419302356404141287747498935124788201050444088762767271938127484176463206799269605107927528929353127810770217231621926770129394451462023286190102471906112275460333256262443505531958505488843792143322602665498043125636491459227785834177556646105295234794458683031375330691504824867291839958876006634841673885044491290603805708234886957327253854164424455529209077019550767276854929676744866984710851736304376057718546339353377986411846026894999676235456557703276855961751658739560167598088597837726841008391437451984600374996838432560407653727304761496489872951470761289062553457493286493767906446960821445010161020326874114625090969849893452183518070877257098882784305607131637029360047926704701589929694674397687403956524967864543887526546295938607708435171457019302501133099374083916862588937473399874695729864610970119562838222197812612877377944907265587071690205695797656248472592648946312111962920163196979199157109280255640554070327423727405217519384000295935538894613375567056672027960394286451970020191482307686650507813269417937860632765161614408173833244720750151755849528847967193403425393054928184432478647067678383169904744927074389524665044769800854143542769994784180796864084853653731929066560541360649983504852660142931633988027943757445279745613532123908678670284155166568915951637265746667517952349148266581159072465885751208479954381789769943485405008993172583522689962778113603695517776446326356190668588101435463001065650277225754794397105454468313471976184314438094248368753638270027971646275473695363743588029827235337201640069034285090078633375489826755119841712300778841059639722547174306930091111951073841379268188026420475822922652302341008918558309329806476940846668341714675884001853130212755707624914912730643018473509353813606500096609233174835659563960587148138300919022120210938859052119811327416907280453972843856862560785030719622423036397586607575523023004980369745251398383973350666593906593810673138972624132823660123972033742359147094704588325672440735091124539471237061921172196344025998628716517729139512387521676658382337088319333240605006036474849687946129243132803946977436645594644049386683123404981137315897282351826563796179660127845947855586186927829101901098606573525005062544714505190147421319525810301820797545474302053446906031696404543554199641363709649325601886252448921171525024944295937666551920175785206290905271278483076364086623965050374098677247118572850735407633720656255036830625551748022658871676339984964670624821592130608748911401016587155237573729327221622625976728027315598662985322324066331465896804289960137892118420397792078814390148272661436987675291162925734377608154207069185452741990776266582784217790523802917262498174331996868012536911179632564345903303360072721883617479528119863734320614293231605060176600729139241651034557326334320956130217186973952618606334535981781783839142962668420432134122639460972331768778689646392140608616928577776455343984127369973543859446065011835476822033741771755070548072087023542771947120259509551688275262974141854827490078663801514628426370485028434357378702932812395802371143171254458288244882481180443111972019547978043582776721435938403189247394004690705339014220336637105183956955434043657714122329957001777663762540612543635261443872790360019456341115741025199195052802671056943820519806679965615274075497027126370954700275511498930288219231766432556978695828767686850804841536368371892113610399452001248508606665679383322668682292792086675798398076248017775351493010583757840026015832283983236578077227973772195502039572861948029204862375279247991656396350224866432321311766544876732927813917231203274478421873169994097261260764397609228317176443761944813439541490482230854807947134434086730871866234131931695213771388133450900979572230077531969898760436931566371419196300105124414437255670113901944658176736579644096403443533252060090752808460533809403636951122052667899666473166640725985109480259430528279705082092213904587188613838898387698516796270451679174436651623059449435507308658919677995768127657699792533140626705678948523648577522634548194237629140285267083786964957740683960548931725578454626760867793013460744760271944111322858986074107498941711735716988403798493981223172527716421236494172591038061624604867897290447509440409848759917190869023866625843749262663488217587039103842743263354752771088760554291245357937888438669538838357762324881918886100765699012832400038723461553428245362027380200210432902252419230572454350231393477984170350044075142385931821297164234286431893515472554426768343524951778390988389455021086431736034488810461565633631019393724537921021068116719287672086879816477070270327428404431308133197843212930395126573701977058365366197850020286490888470233314184354028577787547959491433482406130863282496518259420137252815624422359679828364570959233621773707120681546722839412566149515343638229435945375612434988058634722790924933116707867073198617556908384302763864298361247533673092271659290859081248605249814466823009251600831489372539926048158756664220583926483966628878503528572334311731867357740811115672033523692470907281370127681056634417609993741307142418231622155905737411645143100696056527285819262238182869541036195209126258803033237771539436719840753822667512029958517869034619759708544062940999392893521284963782060422085325063932247373870768266324980517423039493771811403290598560070538737466856320814553152696154332772945484212370410190267646686469522065190500110626125893903618609421478237576687756811006832244626354902005986524617619119934124625567505953539156608291568517481830648672336709926235520267996724985964171673520980570771719740684710575638129394388779507101587660279995901868431414703338021860909242649032002077051289308784343726283371270816998591412864568345440034422623553714218562882927956247360108038402957810442705736438431687582324884186750989632856083498306159935680560082255742513692761540431527633612790773169624211348194200076268417700745110631030254566238235688733266459215376778687892116845772240024361845309480922134538167697583703992973883013016612123082809742043985820600909555616430825959799675670891478374407340625683586885484892818236817693045148245985899678024482101758872929849177570925420770341820420608135875825724912737210116253614879193957098302947106521958912269862488254286028086948329715159390102074970596752917460298027910567936352010746805917239686124718668616722743239719272888663752082106719917191944012848587953037463802614945390260625596494397863512814659528525424050756285556083522302394657590966393456899761851313350452595060591157062411096963451826007663881130211934998990283191186923394227675765817670013208383252805026190532142319826363284406498684447764730032443208669538530053752304728493499237778244132749588617646895328941477386183088959541627462050099855745122378045329066673256053685903155900900126249370395582052299901852415523076625512052255885123456721433846627050416719586506454694437723605305900891157163645779651833360092213087533918288075561256223121262186350951034159168678395156652934516809805167250799949444877091602418193737155634048666561174750183430016636942669557986794494257602058387822686129624542656694273827032122416328954830827658381245231895363672390128860725485177940121470726310645050967491886215276410435921739732142802579294967863968862040824905795299037731373821015184271448551169013527835024251280894016293318941275396137080688282798517936007809941757505349789943402925930629388001004615148296471593557189465825199474631683434685464673262188574549777396237063925110039869835230697921335659697697610460946928966168085516602541998690873747781814989764488428123934319586412350559066958742676261346706303042319987480359809379261420314018317669606808109228080539385310464291106545980431075116641432164598599575145481365889789119928811227615022618844624684528479386533415423623097037026035116841434145864971886179443556541788813274024293015006460618857710333646953195034394215642488047441534146491582437582053325658501554451932820381625175902136697850679183666253468341305157692148521330606614703929063466607588984940776816601002692669663662133440164031383638231971472158135228550653449118582558124171842781338644930837862576280425663396648010929676459982053572066190192450945619470089822401886555781196506758552534645053443024166770506587712955292952463682271520814921079139525415225136284978344032529945256555847229520953254432409316946916861903688105129077069603635763280043931747071123964562294168510582417436689820397060164832887710574406345219180437858514329386126086879483324912880054344774820686580328563964037990403745346478975362877502366947139732402668439085200110844815053934485276703241478090476986202980336169144632955718632068203462666595139880881583730271974894574736959878734872471948606576332277756807126013839026271768896582682403480575754315640304799475728242590080535151189417130853818529273607573152079920567169198359292472118226946433789886877258815154774691611310441476498459799185445049826134544071464547960725837425767950475872184292553367144590827159898107232143290639147623716912888393603009621419428855305392467135836122893754039787052204681267662475147739616966333786969689957936199949641417112516928058693448158850469080538226692338895313082915571008722257540841008886108813301365628725581187781251165399678454898823856056625385724845345196701408458552235524747358521058651023925727472368412776415229346187522260161369712216780286569807097713707582097371516519252335043325759117846022533957888414225874325550130165996672236663645647638270326515628626043188419837425867900760799134291090034439886158810869597409974793220559528817875105197934896843899578265496649134461634982629975867266560443011562150814465164164694358995033737263748874027923441159156728546639557726520005726513850789754903215411326924046677495855907658452210594779089439581942417652298223510596827189010724580528494482423324748151488500507727842416021853018680499056553940623090932030503631507148547234657098261202643509987180296204586302585913085272086303612795245476962836151634450340331005521622589409617772790287692121156522947151880537409182143245943076121391340575111369633412204578828888792767985328944850081345611494259182983591649757194342359359923063638546192320218452897353440304515591885942591845965046267842142007127478939408253200950513602797627506469296542701403930362625628773353059555953869259969773333756796922680205292090850539862245995026313365485593551750335594665541880772079541273650029621259605952553163792826313461028619601026867676695382904941644812527914172866982424215666497723904096140040254232707593967592117930010236093676208160167226175782462690237777672768839822539984571947852885710637307898676689647434680359402842843988541589388514650267796465544958440158986419668064125788811377210999704796049724660022204613152770471581186961386847148649679312983191735084066839972086664646285817401895775283685340362539854443864674316564470080273947532031434927357229974207529022800159196063000817116809232167719815461528098341631721848933289657331254934623380788104932597111284010385958658429863887379411857456938730454107190070025062665020209057985050916201509249029833465810203650194883331353717678976921642031846742601046860573987817713554101506428727522614569341357978344060252538662354152829256058883949510454826422732948387209890724423391431687133538772576659554962390579347307625977316903276509141934782152314627499645158388033017598349729196763714348870242979943376890254859465933425186516941577887887809506342362569018164400440399183060382372616245594289336253800484657839531249997809014803261046150252407729416195491925031880362927976710489814863711897023723666071124771137931043249821395725833758826258278185017498816333691437537565143231328507340510029846981675074871572579903064752520538312283109441324360731705252598652399006966956908529659126904911322773633410703907388573828544590094721023438401356660081633163461458993071695540951823967680246705492301667482392746641292751056135925542802104530248789384408636224285900085716326445656891919968285388950187458759510811441120805101088568749595740479420959530890279042311455623151518830697077380801128785301941399169840575799657396258598783957341628793382771165145734631499715405189069496928286267508762375755531512442338769138582397802753611513997829003124709783634531246334654417883260685994629427517796638371296320325886603199497625857268036399086681746786335532878137346947734110712310473922138474106480084500876063480333700135979200044926204281111282750526150348190472948111761356602204347751048467403862416483241205897018847333884105527185972986250375859568610536878271541289216809829982765223997361155188311630977525027441620787782411796044015203758472278529844239185033492760911026039887821013184948181414834842811300643859272641088956872970037388665517951053099012144841110475557061105478473890334434532085330455092370231875048823360979095261600706439200287335657042484218533370718918771328297280283841398506678013174968936852078105813846779867608017238331794017136537222689994691581900025477119351649735268184610139922063702765344936599239512545338299561886402651150091604546179755797351347484677905520532197245983440820275507531313419670616238946794411329460540529697847241326870023306883135186351095579641768319840425530369040567871484917966925428701189600903170552990163885961872911482558870876081252111063708426293651686078621779381737421200065764129858931364325400698063435858992650489310939880982946105488920778978805335237858321431036716106140992600888417239070864196056340678632086583086254371328162472809232229836169709897117717433223211265148139410642933362089761552860760610538020532713433501259239749201438390028980529416182747351783885499048502449979277486329734422059622389216744454479561382725371898689249399221488111619302326599490033965924344429921643368303861927605057714156329288665965170823641457125065658491387732542676914319585750690293328725201993287063661357967379151371858892791411510525294362086062116117816951589559084302509615739891270345736280763691056274822385324353803548227054898381626325043339036798912270553354978669661201498890328138638421643351212130601729862810628332923314222090428546602301606135983232103245133346248076879161152257271084484835970753022203026169858729730595656306159457853656349389629694190880220518803889828867229306327480814011639782866257532054128147251676891667096667438811340182912258697306622916517269362996766533211439577295638662980514072023909870202303706215463251425824085426195430700506509179542888534543762401376083424334604173538578532545091664029156604626714167206955341676022704709720826093653800160717676835553114819532076042873458940373471149679430666921188129619552203043700880560974195111406511181496605457148502054337141402463739476588822133716950154753620396691342491808455182359535243768708127639083175788767386197643416810261889012999132866752727805846353503873945219198884684502487125667577974157878099327420116700489755866473453608806339090998973084301221559339103360107717483904751100305584338612509808392971140398681405727920266561986240537787173648337078167236573369318935582633052118404341868310558322129766080446962132628153642047976175307036492783040478466537551764184893513588920000150161291251925313807366095498389516556221894731728740784111570752539857448083577948050274821196028846368550501782017426658676586535008488606606690974547955584575333528861817092965178449280038548307005325224083181169761051284522544494184088274357208341369144452792814955772988223860972409755434136067207807136615436408254866488154095269137347763346425124706281623412449510191838784844111831794306412977292082815655692642924486099032126643623999876097872970273467169184386682564820416007940418473430469260991457016746559711045492275317226229676816727252524185570078726225479329742415570172206728751328802342326579864672364021088286500652398494438721621798126059712141941073868731069092478335652140753806923552900596530394154461199818851419867362950405668171001055801761952915867007675468882999691181765355992946091244756696034520933463641891711198793420208884319261587697153240598571469650275695497226043132043289564540354395391814674999741480657739580053444390282720260237477804734905545518402502864010427335615199842705866906549473459411726577591638224332414325961647147997282737168799493579549848949141419328049437162151154493201919986737128577399258593411078663612280458914299443284881672017620028091675597781219228518242360014877857549348130349891772460055311246778638298611531461965905206823862186863651176466347044043300215700851281469524812475207706679341368026977054226801684352483124968218497050476963575970535321210944751295469932737747579727566991434348688949028986315520807139063167952382053716872832518972336985820903231205896682827097106799198496010020772225157316784548897111612500909673623305283602520568796441072665998732751262011813634884415659677526540899056661586414621920972115132924666401942884832004442439930180754907358355395188780863710296011505155650482899001763086944626302414649636454945546792878742369237878007952995731181533591040529215994486874607969163016054461827350698413069494698214031662018962352083835707429357141390665570125777981676331689703923984699335696271784402426197450300183787378877026472773439856293904398285167357535865344290702174463977841938955401400337500430572158873167209268560182226305793537140828056847062392406597688719444214075426618220790046595916979001912075624579471311984897454020593647727056103385517921292457052521704000623178001250420466632672640751858460738589075863136809893026880830038670503514585873131261605372968116747337767149930855410778216056739745402100967464918569555750766971647644022816055783440199509680676947444761406930106327130027326064788359923060232755294039744732255738374514595443179712765483931228800517433810168172569899100264269798514010849115430826054639416236221097913507556357864265004563365313706193286739517266986346470687942962355254109644986838279834527479941678107903175579638563552533842601986649680351437965687158594479935743486286489403376123152503365642532124687857139982110667588671474149530890983642790739792649808856379888608749609720053636639131591593286528008372548367075252447812990775803731910934257033617608748974504905786391792224754898813615306093653613060458053951438357498011316078509558071652528972695645712994936460156313796957033088567186947674372257495674055315000188089798973145364788882191795127457667228567175962357521047529137606072994673379146358819464638683498170979705888991758862821078203786845329694836710013180726785009642325948915067668593680721814365423952699550376935972832728161164360550886817977442027892874284492071156245512134439325470728895364425548663224290529428318648046663156401933373886614353650700784459900658519873165395449572720824693145394635367392563695164040817756532626525684276637380700052037701080283057284489159659415104774360793780610833565311481351913205966475281542016743918209555036873608074667279482531821890204116126375874438706909115959609138260846650131999004325590004847328087722085588292531018583002689477770042892749075133803536454149750956652090780608605457917030995764158598754206982265222391180537089549887173029197634193423353780395503873404570942905360801247687334292915563734702253729483493283395488940201247730474049403116886574208357403548297695664070452609414336067436679415679532214380534575598611906476356213294184079177339770429698408413464453331638490774874826447194791259252121032108233435618063285902058794482677577820796326782087008480692371554756482673111323715948618867904383193619375855816305215174166721292921063252275292647796879847896383747720870938373306749750475124362730249158068916184366904647473739172794778532168289318467002752539054409305886866532064195853527713950436431071837585266556954310470635293958313464556881549288395764889188261768236153838441628474750048146840038417785294260657293513932107365129122671588925122737478749853477327289306324937349864079077757623593869748975177492390360481009636191609299608936392376262769849187226481360933116644004560600188626631582419466494556600569226090908464292729648698496755594982789590232038466970679825289244982248792343545526665298549285716321280743878119099094555192187688136111305983201255993638183906257174635451293021414211985217320890366718935090631496088933473425189436279050350217377916424639652407897178435565853203701785744029327028861552202142603515754991916374090862265817202707331753578696423809486487688260302044016133262433930995230924452349721315149763835195324498672312814428175407594923135246839646044261666686725063889544006443688298440455227948619855642359117714359950121786180421497441275794588467894272111960435030360847527774131895335427811820431708955869487435893872468998086031640269553853289485158356285969089833974783414831623077788465776062710812086538989273306555639045616228614729040593600374759773171968234574840044129567067419224424939592394524662436156149271076337870661529380963297026660658299973007142039902793188460292029317447998866469772273438819803536509511493373141514523729082255737194804752424276342137927188633670132234476791262392321603809088280143051827872225095424855909653677590687777276370246431683939469882035694798081431032211472856286449762624321476490431456322099936507160914334311454611673980770375936875473959622737376838975987789136803556848680146664697098191388344726006309557193002195971147313178083983348268289210073319264888046163039221634461813963392517159855451508019888700841189841526705123826050716050480199814104118941628743976236823073715171346134348254054464667556975422145918570804923362465868195752602255066154865986655705965233149784727795510187790207294828843619679922030561907365852360944623329863057868766736509613440517420811182864933712662066133212440686735630640653970972374210782205055587139972073096901612874929161215403984877180563022976135396268946127273846710854550199537182837120429059875198068493925862465986061235557044908885966994392985735568007650329341242060512204614494690007550156717577149257598107368672468953950272260917863040272646573615005491722043323358052773096493092923778420263363528480366528692482685228968716760203594510908866676033009764646728965305866737033808370885617516245259524325414809218249948401410455956870075802573956153509335370586659633286383113374652477993430483792861289215794744964259289969661421984931014341841456228343986324264475235856430941746183212891741815561690274546322368732172030937293787358180242383143700416773218060026935782042939172774959053058754015396765690882493995731409974607146216735937620018734472639492834217596189604844454374842817878989410178442334151084920851741603013685562103185947607798859815322196154420782959162366181845250171038706743905396049919649399602241238931236941237238234187729476366994623905500432166646133773422228009510218233080291803495524482687663323713890180402735345767152950357821974645717108611794379274687864675843935371275815407874683364731922841209136764027532062585121877875975700078593950697698591677634039603831125669540476009037907783774020142223989087183128858593894463833355200376241857813248613695258661382063282981518787930024997592993262844756821315491029503693703497436701075457221458357423218428237794646219440103957454171662132531513316792754194872251129951272005972858208134783254595389898031350522488503595588288796570135017871177299587897603417992530029006310222509208216591224356650360358018988606013762443426697545258033433386311981285508412509493097308161405150939970550948615146376209123468577499206314524444627667072286018147964283080162210697985076493693369630659019167319933610124430584622213716215388471743072478394181582354737122159499421167521140270829154123296736934989890144020451951269515169068152891764305127524434123729116078326559855148908453904559152231073818773346371491349475969867939305888393645323624552099729314935189715248801180214279233912306015237626056592223720610522424733096595692887102835050363258665101077575754162464313237845989836868718292905278480041152908644518535126966260611975609280960492219972323066963323774581850598262394074549215252177793347941840173801016732374710696357275820335928465883988849834286561148282777012047715165746839828582647446600248176400617934794261141714722846741367494218843247721714321940883045684936584780742599117369684428685456174372979711646797396763417803962071036928471895022035180346428913612942113648194558538685957210057725373960401944559891273705877876036824613943355392441568887204871066540800789687035482634553722522482263661514521559714640427784112677653696261573353026843704205568643154243964405491165863237200397057144167872975366817482053292970760190515970305055285933582622203543594086674781722338462512125828013518228671722680455278738905106075526523033807067116868666556115368108479780318724888717139108199877760636506829937705778086798213894414132334188663535511316518823393437768112940517910484131953363427119286469250341248820354828361574079839195550568819627428082485191418830760358165038647055209388425637795692877584897455367963342318254815694040415659941917164227689355115979043964210432716197315465520322999999621546149635370494788783959317996924347308150507087058602146699579470492939866449048833165302526669759716947620738544528546584756558131045375332426508167157061788286802448140152050128508015395579477826269203441673760103642528778143165574194484124560814654080234221245752310511299362736135333469941336445063506157955562548986673173496122414588225954173142325050624000116902643371682610416588650593323922529302866915960979566966397724836249355940816039578209176396146084184916069860743496772304396393651161230769811546649384539242309789437071339722724380931442980636482129744416007863943102344917968085868080058254836376994091721257436328761120151704747075630965882667648351927631109812808182375209913162385755928642807396253593500445101141956090223067592641671330727035603598160271955424979721431218904338885006532901538034672758727707385571547941011559589920616190216345237018841808674551875550540544322439989374345849464963030892380790578700184490653927328456863017287222945246652018364454487198584193614005318320313317329690216172926453125688301552750334970440290083222640071970482316307753162468855535665076904465869019710527624867309605893630195330949935157779850714883755492583049615038411896852300128359279178781113180556406571119552742385899334450552327284640775898591935815960753424078019483920482135875690000053198176412968303719752987807275839335165581118545399992023854048449113104764052396690960093601164590891443276224254791632342392607655447216371802577200486705379787038549147899844983769478668281997009727345007384327907247403102040378601654278113273708720962021612052445970888426928555430353127687402664592056173306051661774072537260843190745493671970505011181890003823763233655448580462807539118363550498202585863066060837288554911875246229241071092222900673012794629290953283560760644170864602413030694222568453522671686421773723061153427303067259296323909522512534503354665558783471784808585751656552843559942953996048583629197606945415144882008332279115294012226191634890379780948208623971262281330798303134872545807902974106422349173071175072802330967121975003096996659586559939335269756851535035429303203287326060665822700041503803056304528039056072379543747051025099853660355599132834468629396245691196846888929116235637286911536596631393209452427132350746885679185468829472861262181762186188353495758884157549363586527502723318872315474618266980998905047619834612837352291428595555390172874986381869306824236195846504338721034756225193686732220345077808546210062677764833051558479867620228245545539384969491429487958823894256328689449040674926611237658692563140325366750886192120733361367026348523404600863330571480747471921125936252017787836372720781207758902494204153983744033850131937002403820042637806611370703133892540146682747866799367379854987329515143028901963717515314260071343060013351987741299952286243063822884123481103153545283656194343892976033095375457362826132114606839997326352052960704700373528719358687343915497299837223208020628328907823133395351372277028327251169324036842521142441304914362300623451168905361254760417817779857369119456094360686223764536303075114447436989456239976840109043600033601753808639415277009561715878089619817610986195048368727881629703995734368032072585404354710568315167944307764405673540344640166377030220076873205135925030414668383547206766390476362271662495061948163004170311048799555168084981196055078287084482674716640895271671386216812717120646427875229043570054872194298109914090126397674153865413651435612180804166841023420787682222449847275821263640554234534465067366067319323649195181748283859958758490906781989583520417295720690021266559298256264005509509869774679109907928297773620316402679383479225197695633432221014310670956292260212922784155626654291800863377248919119371657291658279560404163402420746900995507549703991184492462363576380348745803869564229969078100632724246518144446026791630608865258971901235573186711778202172259722353940184957688797317404111910401921784733467912647413343112466261791875114137980794617137487791241070586173687464474549921371763838436046160926335829370394568262556398933337161461704833763166161121749289113390099384238204055514542688575005084986909337165864872078415344229715930726760008532698515463355185303912195701410501759318145121700345124466592229076651477431780442640566296205771560311937849449762563104046920901986334414683062498728759713988093596195042683055323625379417398737597946517155824094284468513244170886699072062859672756714182769529557026146109320893927617703063613812974619437662261231610417960667035891582508287756618369869709300737467494825380940352211499780349347400000627308893970106827424915936703111037034287096121653219494556335397392676490198577923101929216822418221340278905164296974611028721621078891797452055261403194729344805965167931771482228861894575215929160321467605611569323271028337101353657195177533944634844429419144463352695322651131094522408004665346866633990480694840999568541650824291053533838608082556018035315699856290968981651466991595294931230380670212738199514610044958443200742982644036250944227333102964026747133721115091358762869965655539610222542497395337141450140222649350383035416233111580827139575395910384887399022395478993619405882074261633379462596929588649632854744104419407734422583665936001443344467834274223909872234662003594321813006906712529030594433851217963553054375043310049408841753186971222341791800741628521978997745697431454153754337966594996324062518451096189999417532563618122582482970311769606707411888572447031364613264457195625890427146264219013542726172774591606512495562161871267801262199785973146255351456323137461064929301511980227779302726389555763791134383675396084722350916992644803899509209831958589349271346847973914144605513344711410577768269706115495028393128072166466552766771762767060438153462525178986118514049283401588235187730073141649832164244650019565294147711299721865182726788226814141322460802953133411181259412777871536597840859052976344797675210943494731388799411457462835636011922055194266267798285092736809254515232723730321686132745278553148071390613985150891829393928677534155432636365841135910544022606185229809323258083122642219020988196487950196352869094200361691089291619434355982496231407713862783996772314982188280999985099416526840304336172911892155649166153416556933407516480406700166706018415470529657675891800331630409690339025091787168024970708879589829423462954594780988139009861583006007258593745605608890623264432743968063846286538432516368050727608486484829035278709507568716096974755974765028414762214965686940225619699414915997885805271300063163109135722710541756202324523223841826775088998726128070218759889623375375258543421916935663400843714082231873530068826106000024176012804917356836090412690616045792421622829140063045630360041587567405566565680845264062887360012464854631818358722776910267287856097737884241331129794971777613326361601428376258772996928978624874604324511689014658830450509535614287550306960374611546658489005858052197857572139130263072191572837315730916615267552016060292995731600161612459761687831207101704454176519106173763716468464557343777317907620080199588220387534243597561623461572992912896941443541349991901024945405794657113832294162338817404889460075052234720007405256236141447228021246203713168053938184469822379176098330092573720238980474765623868243624518235267433568931348766151690190001145506847653171804081667269281431400545216880633528663231272846157886940582927068723416406450043562037107404027710763960910912999958088971161723752142194890872606285221803471528691753015880298253810854189647054305576380412389755221285025682342896462205102278647737583013835121727185589632746066820864709077127783757867626605766156380331970761859225669881032791639681034165937167118265827727634112418620386826374692671994476622036399032031361935312177969691451659357393597435430688687674758606026475663331180028013049777594419606777627698737737206421629985193744470307150543183618895742627690063658717080815638167458066486412954727052674651082013754766440629066751842704797948025160855854188720565370650069749773752259821418182433253706322099351631762569729294818676877364169673033984450501261805612713328965968674125216045108313823348650217935231301266525346011260434513703536888919457509969431225689114920234992125180376388320771663417297023567940457338416041331429094565501316707303261760748371624548056591666520720862697928481020226272942785662124487947201674934361651360883536240835242837185994368336941442334294702161279788641377475572658943876408328261157558323979088596154281608598352441046305135302634423498497646945773864292332173777239379400855766243339300929857877294079099856552275647329680151066521009182462163382950475256659832291679536698576984372078309781635623770979880855585108157367030065388536631236056700899833888874285034150733261457958923649758108182112937413923080922443263846210500048732188355905571415992185695866744785060439979062017225250775344004150232320056213107404146950948525574661542578777938578199555884058902190963565250377717446619080978996630909780950206113969710088291088056140125482550935507671549356734886336548686591367717911170958006934696792017376618885035552746863809391560774330186598394249984020747544884954044039148598043639483824581320903489229044681441879447596445425474790738271914422626745115853963178060759853323688487311676297145645794518289974057274333615972373811871519598052830989007063533302450546671002792390065563939604605718567468689583976849582514013341953249111699305619128513710993407506743042889545980340221634010780828801812668895004381826208179483190869149135775244116603782388654772802468130717673053298947534167589719073240839070740794571768720471248443659890762863853523947872145990755938043397924564466708885660100211057215735250826930008827113894954321051381603491438573445391582023126668300416078970741244651911578131937908311937088488211829964586639867675013504554752303810254598447673211550997791841797071365445399217385387576861886929499269505311429211195212090975817245835289998649706298139319474815381024285368030359994514278908557838105391137460595792292634513665637835165701068335601127079880068980636659946427109166653873730303623901611001512528076902558114883613557175007262590608078713579619163963689702669296616308012651426639615034789509988546567062695312251044284541898944114910986177089362257150310212416763546188099269998916887036216080411157909124190087694980686558016720949214126492465968277080188430552060945249560136545864429006395511298273542582060139802540647116694777173181828084374269575964827065233525062090339360001788237029666814297287845807671048293837945494595908104186181697627696702772429765343759990693725400594742844264779318533986116417795815306560107324410852624968196371392585216042582723914671787853202633474227116869083694222538236238647370986733687521359093900835322419484338032927956616397349201872485275595293090722035861159611945059755266328240082706928050850961043298250546491617223713987037485441784323984521930515303054796736697802772068829984426915717387405622961801533937314376783081323585120406131348929975334087087736980210010277096657979932505585556505419918341179462582708453143370815374336106509290056491388165833186928069889643675411681327721881171369083543508151350839845196193742388868798430806989913721712992483358858280446079855217514855214785634165310978534846703758207462541459276238151070230420871173773554807968654889374804748719744666926371452258996329781781588931241208201884809775776664915022535218228605428388220303169620475546029638537035192859520981587749987419336995514415937163942872289971902328147563270600866267451378345721954577778968066989446074764814993944365031868335120424482112027596049491412305850574366912584262973998739021954880142737014986885056398242068598864367241115161227136248867323350973479006330320008331742888863398307612919819227690658903867237241969691608977801193508003409490901452695976624271323117234451489143993754852842375540098624408569080604140772063521937887440056455700435935482190921087660023459119278530741128909218035622833579552402878882675753547580376679347818408742025969735041524031213764120809857478791376151102709756439023919918448951518720034741154335825276433626520105947235869942669479049115101959437044333508952726633687436155296194221257089996016319846582645272120656006287405738802695952734148537702176429835954192796189490857508588012476488764155232251484879269547837675655817003607293217763367146525766672518644100821616759638544531284649690432370965333694303968589502309536304113121786097781988042420835470940191036545222026716478092888731114090120168878627681480823337121030142035067924456559586370336155169591646771944072765485717641051549236314008728895674517006788106406110534363061822908119625983543685294978143810104515472765964939038127978614346430568392682473069476035153582866357238706547986627095226702162403808958209627814615974414767938190693673271662086169662593539533354132953504101652530455073884302270007174793595038810486207861878660775392135117008016753032140333426420418188422457240896357750107950630604108513095492896415757389713964622117934909271774735174863589583873406140995186443260554259588641353158784832265868226744718122949785757426906726488462036219695191655260572378400359257052972824039660685047165808231975950133456272069504896019201486555186177283213381621963200720325716313143240719775002640739420717851256578118734172969219943916434725636185299314944831181826818506145437277110291884831989140142948046355395096643444290613707158112004688927964651735926617673139799453939152913105310813093645676841226278591277117526320979352056978731871316727974030890663768883549428702599262353232107000753644564580003930277623443652887961027360834495805726231562507823325476633101728542362517698320801817762152010521692638713538751890289966632326685863164719370916645730059806431600579826772842738604460679629282525628236403699744693449152685573115532456530702138604004327339468637025447555843002281071633187397264761636257732838590792790471653949078923804007740330280148021553525521805525250991730907435181717054392171537526317796313689403350133378603492785087606206059061077501033087421746844474616344594468571505068614636814696593511933996128025528905070313448591165219520974419158838795808781487425364455008150810998629642627111970116564238620627144409222641950788705992012899696127828324825875536694934619157366024572840483849575840451268056208008374997493414170347248130363780546839438940157182589175954466982299327334313131199289596508345594698395082697375440804835572626457027839160590046272549425401886097520740754172604024186732166452778720779654900870583517186765100887139955399890941354074457200196670118452960248858647687819745942754727337288872408136131232393713547688848762503675355386292075595925122013219365208885203540455967078821305797537241011835516208639264770169445791848517408457455624599247469537903474370048537472785152382324066818925398513268299110824409433273895961839244645767699614475427519570331305736742296647027660338150015292000753430969967988948598889635444852983985747799393812684019106266892641242282923420495020837633040658124738806890441382866504653409721789459241039064620344547697419011899940925414230777082657669979682491010746640204182498164784633599380239193850429823275110967110679765742977238303388439551487414194504216151069963845947099537456944960877889338182416844106503995655261456114372336739565458260757456026471667289498279860299032553320120800186605964213007710670845589027737060310828109520982215045430574523008589116965624459397730714592447582177440402658981758299417052482540763907003252969710318796762639208412175684257721669198230113143884792413752349754557009950197157631178219381445436460603110519405255198623379969678240969564922647898936739583803549700959330519439711192621431741415813382377100955627505432305040413692033369039057240428203876814370734675468989152893926718273749939990073495227431854416388841564330580474741418559346321964076961495304852637154432877396023203203133429544413467935419378319651451556703462354462314769696469546894055432712233180679087629313686260189736330191133003900455882529270916879819521754151223828430708216539700508910587122540229660710574753291684186032118625072639591163543459093961873133659920922587143144205453349005237778303864459171584562812795203928367889672187672181075512935142894906364103957156676380795977668513797093058870101485983641173609252525791529031806805671727164375205395343365651069898632456879314299953461867586973214920699408946024483274670625667721923276324300900837554838447861418374924462706247102963506530253536831155084041072269739424064170619708208783518914164585612466694639558212673372385836222726361648954095352811882279870188239627497069881623270941950232985061205589022182953947687492715527779952959185466865394815123048963470004421718856514819229436728151941749192785788219030805048002570637836761200409531687544411711373337011741197231867216834907935657468954419729460631676898820091864639264543365684533635797304463302897933001145854243352041648337685451456849664604199678547396324920685726829465068805922575386306068822478417295412042736673833107906059642017969361330490161237304882502969722924115604207328429625721725550048705271784193325224974576819106093969349334976356637349094764567695134502614329715068984065752857272983029508259186050189818373571714548607614385318130553863312611762993377116747872166879912803166188046311059455377703517056976556218236848264879344361463019659498351886403387273014308265834268354153908291153422543878549491299940832730505092423156555923900270903227366004118379139457619473519097055423931132741252137311082313153917865883719699673465295910334229510915550878842005925879599526842946828053407344892130139973261338479825908800513028795038391426127203774812523600137419059872189985670604315093979089825490710418982998287602639413295924288052088861136467984189065096600670401056954731787547520045229923609715121909116225860274321887250741896842977514680139160003943556467027424224381647154027229718794396856405688246467459248279653490087308157086679106425045966926040458790269803915881303143085758433678850469219248886688157277212149667805764150072252919489883579198267488925068709859893785295272158728212205900700889278066195422474725651435143252897156285085060217347045841531917104197661503242822101062374352997487082987718331608926854048958462877695309120901960861530331475548389725653613297675898327688736113326570328162201821266258021166973526467749159793349269548736581621877869385621159419393906848117202099229337552629035100604284809995634671078220440063763830465611263417579209599282270873274331919344379856454268207307090637934904584563060255573238243885502030277829149813297739640338697632284411884297885482026641987900966583688669028698306639779566751870658493214882559041422387893836178597386426775554015435360201634373778133167340462229363439946646110821514083312646056404111462185006948470162920493661582780218211296951447354712314068749536123271529033768051314851985917635875521150494002351248236915497292535876260806703209742101307446033219480625425096486237387821871374774359635187763625133135364228186398778481412033128509321845289230374173890568242014724807084320578481403160408515097413006504575194372194267249669912512544706245398037820053375182953175123150312536931548430113204294954238526086454445062129495773801026169582956794273773154237856968145024373230992900594596862544244346252535446221932774343998081432452022404755886021410407642742900088856764053876650090883143496539997567094958044398380892834288914379519637948824022897404263220684578787462885904826738325460120756764127166132817029383920663194018204154346201044510153224956304599372377053041716402166624956577349362940784561551557691180420684293404147229606654716532304245213635140250702300977239022602954937991723127594676190140775802630846687000438683511196300361354245844975563425446169678141020243981608209801232353165308757764639520125437601597858844139897376295794026875521977831448263488526888224018816620530410463601640165032786477406032632330029803899696887974462279035902895419652087338228868389075735314435560512304175682074720068445414693158549773751877486912493826242909373734416987565901955743174902479105815442608446489669786832569729841961496782506717123287273557750049741386561634484549285466066488892088212467549521112531037546461112476390233148319456024086060331363976370010188559007732280037025677644153775582038144584160129974261191651127914042392885207550194432507026001998016821247797453607834856226332383025025312052808259023770064272311871608003892996387336559872912144306991240254814703000362983401518414703083402029312620216654224985033895131698911032260630645584518578394165313911226452198391723801752661602923975582127938505470580434716901742678438357263163170195224658327330521916429872433845625230426610437453395438772554596686715975058543609148676623673626015892389322608583504917578962057280146340763938136471805901140270269809888863562099229502499121675416395698078228216813252350379076620935620860444262516600219298488234695927955774602318919378543608171792020693304612180017601925437461760857203336586948945569606122754761135780187196616485909822479205324943813604654809328394351397086543633693783235185317037965014727083158741478286016102330585985360545681050070232784651292694626112054243121005407542110542410996136127891908189333688725951753643786130124813150554929149218616631562187146590983478480891248930443963679012335500225700475220479483579756311944102216529340264186811775245628462164129065963685656009527573468882150008017170374873224948932183438327063234047669861447912688151988504034211864268441913057544536402214121210070044145546450947699975116293721837753207849096327903393646360481325958158514972971243496291803637548364651371260956430264444275776780341437347080081260754652229946809436687091763897693832063300451503617358276580365643789495310278408185573088941533253056292400445192539421046196988692528652485830352452728357103063669045667099596205490304741502681195719239716920795700360577367608730988031947710216707222052523162639161160895432141576113752266488416242954185237653385031049489187079970919290653892750675512828121253397312511452870991855197387834578310928535017073078262776720407846780300584768310728856337210012669399636144169545689637775268242786973294358412221080300086653621364102860934333087205154454152644413273701931366438658892432268207617958029868033168408144525382741075644658105939395555099719314570474167897078918970759248034747855129789911121543397807096007098450994791403375525323854854778052665990334436011754957081815499110471940421900337660232586754830056049533404921924812537799910794090788806814294286785818247178420874062473412011310304663160631700891836028643576891668996898307687771783815070920538374658248378314121334346711851116187758671232781940367513538397063692030735697562479292385661350481990534730613478419549565550371599698056732554898845930849718302460557702729949388985520450930399061492457509111795951220632700987880928509802172674155883391170347295431277983997192292757093906383642191564099088329319495110519927409823104271697588627013445868410137494916136518035536577324444774031228939407767532976198767307726066121353455385373439062966024625862671932833920841672913027889156815368778623622367781883621181587120818869661488301375547229538651670077487538446456479132323836355598639609829800628758473553553784519160297916137774385901102335782667888339375850213061470118562036504599534575488900841284566782054495965444287180013796738387934835215197712113334353147814372283806478068182257746218611728834397872960966159331837878154052237302940491319535432488581791272632159316632027723399471919039392461147508280560602691355586698140139132200152086497896345971430543397765918648374396412855157411839495470686944355402844490361813929864798223633415906832202352070119941717152787240523590624183657728173714388907092112519092536543749826111844518254662067665183295807946958117204046093047846866685076286636568724778379779646199452661023792779359925273078095358518542408819584254710288862328993060412952957622825288313243895792230393897527029689062956251037437188959886776663312983541495974676615043793787236027892197734383871650905580115418713147406448425444934536169975489271399570579350265002826122991888361949068818250423452010895250784181502293513424746638101307395293415457511537841717821608565613656298885435334013637854045582645339026362583213810019030437078474417797597263789114062399397795593067620307255740799968470084350149869407423483859778668913491030434560075639479344991076709023605320321513839171319814343771188555824757815087308279523999758815264456555084396058276246749427493674873672361904512813319513427383514620831063209080092539293600975550893998004957772603599916047857077775824240571633252122022041775427630298656934788452532767662651033106287922384847459592542658120953416388264003522532578965053033214698029282958332050623083015617387483931781645681087078408387814058214012380193292288632354474912162529194221954130345636517603266894535328998626360789102082334644287385978223721815131876068670456945073381691503836415952678229454031513692764678338535457808540122042158188510444985190469746906232698836511243688444812906673759951244807221682053912038300306095032387650770208182235745442745617873683981911100194636710629279743123556831356048780318422872182715981705107514125234384794801573192665504439942123804969147931681876206614949985096199980953805878022872090746157665033800322056815157681868086874516351569640939493289869799453886806228015444237778539880398314536292570539554954559876035913525882784804762704757553158378504553026085686350691541722767195896834752433274109985666193350360349658348323200332251695539833141363805664953438710783927517262889689547672176079213834103716681576210311908381284129602871661776573463929981327070315900709185640115733610133853903814974402700218443986661484560583022681436507777557783655030571675177467179027164623388610794850253288424772667478631665562771708774908147484919211626809982526166905432682141980213646114399857198594375266228954587920935320952937244953153577803623369393151910161377838353287936680179868475742541883660427263155361883245273940015142250245557674022282725905836532328830292012137673183823662096133975436407255104114535854913852015573969215625897543948286118657762994461168993468840382268702074998372046477608292430938096086112222254021910387433617996529242155173314686961587179922464315300176471538878835061245996145200460813980701782923478191733157474685785730590611929394784897893352301878744390906543890439539606159381202312738519948078141492857750849540657093712233194710497563560486539073340673846079242899225852795416517418759796292348216590276955025504284904630347579531160114126710475691226904644300762295061205905209968361638081712015417466092040409900612750909383707211200650575943767945393931467580660438420270754615798672830094878242048022921202251009467779313647777774859507423219662888813433724862779931774348859764717145724855709690518888619627070632241336051609341416229317895592189777918783595957340010185276546482133755867831908828015113981219814724615882149970000313766154934789475318599765130315644095041445022154396792499964506728167017721126344336422013898173511484050971024034824486856539827953186857783209336994073934333978326357325899208012824930494524607610897495346115518223870471888088771401635548581179239042041837780901394634333019575513148021118689072646635643158978967050301124728942614119240389782413244374360404346662736235857311342435326178925390417545134974972281830542286002097848935571365672164661596383297573202632106284637692602628231692854246077167328102441592689495043462858356067671331525245751356244532928936119981992363309488253635539449830495236848671283077762604103240297254396363802439929334795007800420867081993889283150672601294695424683735954802400256063545330637357273431892289383922494073235701178255657286351283151916992711314649058988758188921925947238853839897192176670745979307965006128160225351035408044203654604313999184241587508592416187923268473450353317668430970994017607065830813160248682595522391468953567601527804109241952613896146387016018410341550524339069639543197218947035965861068237564934777413842075872738839966506214804475008743138380909043920842547507145546713623179529725550624503807248125747777317647396597144874887177412053069112602799144297469119392600748549354496550318305433931140177775073702613546727834989529545646844159155855631599214998173854771429320513101696997358524640672866781283081168436790990024211581168379865962594448036196702435086736350586419105024811850262334295803370315232620432841522837811591104746027978518077259674298057090521676106418445180672403306164013856287711053100711401592353110545122348147562009423951100420326156643804817089668984196152971575741859253546538225507780175713932319195152607473505362750597680275924103790658739633604397769796641493898249035135746385645036226546582379436725397390178258545167059493928648770831694220125728984569822525689602210094345236529465532917015471115615367544828564516625062132617000129526567206520746475400226049138698176389401474528985748307650082085909325315805689321900344914828925156361115282046057381422507819315890151771699556216974018365256629988975655367306993392527395791759449954898135257189580997573429569664915411390777302149871859269454867788263273935738422820182235503993877815919951233296871884532770568906385086018696045084720999725191947688040844380771259655332832467134409789091013161704357709269299737169631061517276618437285888765274593424209839584198899872528286526197296379607766678341192572494511392547486699954973786292921928029200533744273580487474964658156737698801503644241808715759367199326573980908760207809738325344369089148099594147959878554395643197572336009166232192908103552940473141177597120983749291578066170789520689467511917788462059794425177156308303910098740341216922834304362513419924062700639713792428237339875667804542834046252852471865758174445595177065944993900359439214072416420008366601463693954752428210962512970267935544647899211613781490875647954807437959383206972437866592078569768714244403032294632105316288409868274355945452477296563617776596922494076855090599790614754870989805358052881104233846317865739091262183318718866663709427714242510673889308611225745244119548672468706550942546232211210024815372736685338406261908404316688360646586418353180609489473970623333936757050673824592225351893607382859845691131394176113717981768548682005453828709623337648781848005547237164960401723766286017657313524442726144763385355764282152468038041867256007605431691000540060866353200431734887468043831761697391533204599907479636902261243714759344068809598177726164611425899529028753318343454665076723094225448846440520621365500843096290723793099076683541630798415487181420713773011149702918400895528177699707626614865675468358922157135166559320983324718726776909691797981833650126530369033727846011021145912300014419126354567529940254035093473211621475434346124231095933714625093985238081819628190355175771394886587303716944066870483050464131063534905463915390320472402330103770406451558213642974971186122316478645869893843469350314767143975229386680899462775390354825566980588626597438113852360726296203250579388916225853494577157020916606292080393923506113004145407837675595923855985413717320497862153636519531905436069881925618108917800139320194088787315349717493324886169134526065991272268215542568353548947928110301090068432739281617872418004586703077991055743558031548655250824032074890108619875539321442216664319748716773273120235368855286515696276271258249831615974864428043323592531429845687610650047445413293380058205489754831899709516900323707383242593016589797140470055806324437285236430944119396926832124054388179049140786501720134035524860634268480636111578830768292925967318681677491068080205535197229933640254692565222293338750979029347685566805262644321894393544223942629989260941338920365556753915146523715350210319617620333914189199012309466237790570810242062670595551511859680801359993340088918064210527328306911269810345931416518811489230071057025461182226701594272758012514696255673345901628753612941067376499643380989465766458667912496092110464193223144863543676861867864135436585556019691895201301862684694592538220606295927897522620944886408472432587809673607652412844514892558536464498908720176735205057877403372615069421172112646126344732243980386110658914966852501061348168719927972546412650836206498904995716448581477898920568919780429426329314276273147959172807888807158169818474320508586898607005017010367697460824842820353733737919035120667812312798774713094441619180942949011949103923990555493702526486854788199653867870278696094392234450254333364788376160344782553699207133078803577320577188268871262576110788177408619547641810127241121756781780186612680805433597209799524842454437750414869462409834354304853120423921867253704168348914645082844191940276624456156871653063723036032437105347006724332173258412716325036949191959297336121683381723914868325400316985200251080456807816492787772033880795497153612210575100531070579173229291803774257632641685637758799209413327499805665613264174280489977920838119937481591390612869805815787404896078081031067534264868945024640811837577854439339943626296215833428866729192511396304151889793309278233751360905593738437400435607352754896885872666089921207587338156456342185048812146066036305387729454616103133393912568473113876606163307637382509965179680387278612039919675212631525156834962978091128602729538038265191193251986509209271080051797997439380815604679713110353753839647684287916858819263204000921719614635872837096235164652688775379023877252694166652334099251352434857165937037945786999492613612718422837316447310443260256095619126555361114830498843815834780774602102949438251718387231890862411933492186823471175192340436039000128394813786344060860531057484084453356653047949815861893069895760044114975343523966739779838105166349589358007168725456488034180105765448390571051610983852527342123853880889776935912975207855384322524919200381619628682919089897064007936386567729975458326443888712027950020829332151237709427347385418884968284797633930781185908046531248904420562321697801580256257266454316898177143361339596805705093956686798096833261654030929028744488323422317866280206427951679432985741808868292858364082488775254574266223954677964126239425211283639521837424479612658365596906327949167817773603862437978100044785150152350870723768885229415906436547149357605444585949983696207503973207807972569811782011049165139555220719420203827180475570199819114923848300369951336241673011363489298927464661509095301458383758458621571109622576174054070242824891718376911163093840731723057444651827787735489007463154262540761594295781199878682370998362322005693972055796876732377695828010860050382459981337168116480210387865129304859308063437588084032763542963162142204273232899064743308760838611461467763679458273866000723480327478969871865914519696075542506570236697792954235160535929145658978479460713444974445493176049047133058737629705783425459283093980963241078730583640312504482540285123963362431023751546727824343047649468530839304803362954173023400119201378017475956659693185333507730227574334089842407071742813806268735196320070229842173655700379957752489520244677569650426214030407341969736720619611183104437248655052847959713438079946324830036576071090361891530512430069649437145888406841031336084731043941004460671765508634366630073919703826694851819831996494504641547393122205794089707741650300092719454643548560036748466876717371127139915091609683257196579584489855161969744216926103266744709813149524736145217388142755728686238989428776708748102418958935354811858994669835862621292780718604628393747281152769269791823224010555109400046151224133652165747786017936916695711929610153163996188853613247689008806508571137617331955870285144013812480973906966505482025768948148489579769015119262580833257710767135127660881142414850738661143533978181689792639617318638244778752344289880707488898640114861050365745366145645484223724553222231977165447483957528847370392059219010106405110365335140829368112451590251803916209097529348399705739755204540088856469716313209956015943275540643178638811888035671443220006018556115693598823121234351787919165674926216423218864709602379565372117838558428584233969735376984770797005486343105770338774661340356437981320913543989659365868708071008348132122424982751751751486522514181324517647180144021928115994355421028640448348027935941877193731134479016691478433984006190705115915758684949283214050300569381786051983692305001252257242843470683828245554310831624682576508152891011156972495525547552908518236508620287722239871003974185921160573435347278230486362549902541791847408488363337673999238352408711695177456195281137538370198012282522549403075448458020585690157408508742395329172303848219821059947219567021844164432577770380045921937206348616092196141758326550619840429473456758273368873609779280369330727416890660974547097130703717861712189843430673810682276109964081497771891074026905381536296228366357553352743880895340370442961693829167566690164711751200829526160551435191432153601009683246541430345102652622298964442324758026219458784111303560822616600506766565579249206521087158328111667802713148277061634347777000686787242500806672043826356764533663481774084989512589868074828269677168509708580386874421074603036222475262644804803203370790244356585666279257238759425385726780475808490975024919211519678406336676083178343796537836686660451983886525993282464224693309541336228562940505449575007948084513569651347290823184016421090050974497835742117498627232752380414881941439872038208663021156782106871469392971631766404277857254239069787394695250305965226647783895748739311783953298434707476013704218071132531333451143833263263607631296077784933561288579299857263403090322296516919295264492638606725044988812266060322488915236532632050737884019354599797801544419891449847708220054470018409436734400301859112222185446209032669556654054529760065684079053970401825880042444719570637984924551869956962968159070757851802701632581817398368130087877269813422070604357881925724183288023486940778025065200254008381033247111916347321337000997212537012449077854101698735982850067050290660027250293130414646629639322001243260685988023149193774734057843442334210648517820438746340206545604189332953609129014404046708363771877605222165827858640228290428348434512008102305464521749324405760595682360993467907501970126463583383349585831176238620060681019697835379492032656074537467639659315301784451630057834890419191700214693708147129576733771253798724441307298067607986395502446686338834700490893689861995700347255788847319610276096426247419451615321315008454326557367883842906249108847103262850527971638020077248329297592239249600763504304186720463597451234959399341832429865223873163520510100244559292665065870437362514418277152529570661059613058640644936905804605508650193824250934091664086880915048739471910398752601296946411990417166306583432033877775994075595199265500418447782836856982927371315953556802939202000136617475996432156642755989144076584853668652600532358928541473189246627207555674898298846744096382467501022705889323545678106333129115655872734490213483873400880976397145222809781014261980784202364260479171132479643056724784040160076660805105368446743192470073723300552800412922568441797396148108593881563446819675022255530378923009288753736564457058688213117132069644681770603026883386026012991899688107538880173769667777355027898263038251838888437597632454133033089149088594505637980750336556115193688782113193212408840163669734143169612196434492583067558363823553696060299727359749997405256203985210418782697087644433693253854105856170107213403729853495483724698160485142997549870177077312759734853075200756729846080009399678516796834090132901318048873763530549647067069086421501097631200182360428849927730967482809389665570541235271403579463936533788162921555618448491178372879073756350708364155565766310672024337388006390583824632185659675116317662711881987180956411516386065543368591627216025065274585268005799483576712999174606686564131602983726451984182524667008564961215128482061552689221311515084826596083560228399703360188357330537173919187248335645537215688145416538607512880979347931743688742506298377791426747637441580299461257056800662315924953183569362206397653598220949641466895647948635278521384351189248059353221969408807750709401857729741874280705554956141557872584324590256501997011590149345691038393612852560381328641352599229590554315968509537981262803770481836203711563859442532374279115744942405681338435141061134190608740633650801522988759911800606948140201335531377521059958612021315164463637483650546908095368894184163648484604683497408637216199143406075706713985397643158635244288238100818940264710729713922506663166554386390739336977797046829543497718174241745556256017178529148252580421305522532454738847961155702847104140679183336316944702595146931533029265432714421871496266541508888056606060434076150927565070691314906646196704879106115095787144418720292579602443272440969232111055367293960432744303529086077574029649317552863988435486431168946696473958780576552721424134012189188699687105627144916083927544459197634155252707120454486532395032350992061087083095116182842001514337998935201531592873670363375094680183829191178042899655996885901174062366402081203030971946407432043233594838472975597928790641143880119701588113661832727386103635093732328139056984642601470106413287198517522643218583470642470055317670056612880744698953136517619887928906915034636832352645463192421869593198715888545298460802163411629248018878977740739832320724644333448880190765034351814310455546462463655688196453582178705913295977857243502751020378373074837948678618004371853598023253458274632065801586234692616227493819972098652744614393494704317126581320026132141908696441787464608476235687424805648129133789965663956197904579346532924054783920615066370109285005143279365066908802628181288183113798522930172977480786139661902177931241902837418654612145564785758403220554045517664491719542519853014575766789464403378503278078345409648812047426049235265423472110048875680441005341499123570841569111291725064800924708347239165077465054815706375933407462971150183233963210340962300032981494642689259318831933194010784982115850207197779062851810835603001580446261255204078891411744353839553654109421884199781756919441344959196691671606179742326321014143308647574130074370755242024013226100014968751839893625232948611938853114853230930963429904923869841830062379562557646996998046270441566134671545330701782706167764187726684798293735551798567325278897332314676786872754485341228073184555265329442355887625391217225886349820268371061987619719502408620454265261421395338087660287106310978925540909795713773293832384289404316299234434171048854851488031698456570640921782709819138884777606319457423880774260561625507980038014996778358106876283867844276326948243722649933255938461108539255246387122326661834248487838223041188952504715602354763090732744595928460511089589698277402370776826782300286933376005851432820759822002670231741589618685984932129829878713575902881226317019266609812311958249243598821743302629595158347547406732592754173338840212891978844028685680778703490910568586237653645621733055879431095825419718537434919904636010586861614249415338950934966910936840869866538255682915060418980331715079148493729162063651824173065070809487442875532773220373928372963889782306450885477585294120681905235113626602984164285249533371803289157211336267556216476326990835218109429659681966005957441029710716434890456551453855122587363327298798038499613021583448049010324258697793301493258897441538147948616968880068623377425322603687700419353984517997455183415607840605217772496133177718741339724953643730812848822226876869201111547324024985909330420058211104701256732933004613817237910483192040228447137032159273441423884808103985917517361873355059584809990523667521963967848260541457865544674993546168924960243879931379093460211930498465932346465878059308705382400000000000000000000000000000000000000000000000000000000000000000000000000000000000000000000000000000000000000000000000000000000000000000000000000000000000000000000000000000000000000000000000000000000000000000000000000000000000000000000000000000000000000000000000000000000000000000000000000000000000000000000000000000000000000000000000000000000000000000000000000000000000000000000000000000000000000000000000000000000000000000000000000000000000000000000000000000000000000000000000000000000000000000000000000000000000000000000000000000000000000000000000000000000000000000000000000000000000000000000000000000000000000000000000000000000000000000000000000000000000000000000000000000000000000000000000000000000000000000000000000000000000000000000000000000000000000000000000000000000000000000000000000000000000000000000000000000000000000000000000000000000000000000000000000000000000000000000000000000000000000000000000000000000000000000000000000000000000000000000000000000000000000000000000000000000000000000000000000000000000000000000000000000000000000000000000000000000000000000000000000000000000000000000000000000000000000000000000000000000000000000000000000000000000000000000000000000000000000000000000000000000000000000000000000000000000000000000000000000000000000000000000000000000000000000000000000000000000000000000000000000000000000000000000000000000000000000000000000000000000000000000000000000000000000000000000000000000000000000000000000000000000000000000000000000000000000000000000000000000000000000000000000000000000000000000000000000000000000000000000000000000000000000000000000000000000000000000000000000000000000000000000000000000000000000000000000000000000000000000000000000000000000000000000000000000000000000000000000000000000000000000000000000000000000000000000000000000000000000000000000000000000000000000000000000000000000000000000000000000000000000000000000000000000000000000000000000000000000000000000000000000000000000000000000000000000000000000000000000000000000000000000000000000000000000000000000000000000000000000000000000000000000000000000000000000000000000000000000000000000000000000000000000000000000000000000000000000000000000000000000000000000000000000000000000000000000000000000000000000000000000000000000000000000000000000000000000000000000000000000000000000000000000000000000000000000000000000000000000000000000000000000000000000000000000000000000000000000000000000000000000000000000000000000000000000000000000000000000000000000000000000000000000000000000000000000000000000000000000000000000000000000000000000000000000000000000000000000000000000000000000000000000000000000000000000000000000000000000000000000000000000000000000000000000000000000000000000000000000000000000000000000000000000000000000000000000000000000000000000000000000000000000000000000000000000000000000000000000000000000000000000000000000000000000000000000000000000000000000000000000000000000000000000000000000000000000000000000000000000000000000000000000000000000000000000000000000000000000000000000000000000000000000000000000000000000000000000000000000000000000000000000000000000000000000000000000000000000000000000000000000000000000000000000000000000000000000000000000000000000000000000000000000000000000000000000000000000000000000000000000000000000000000000000000000000000000000000000000000000000000000000000000000000000000000000000000000000000000000000000000000000000000000000000000000000000000000000000000000000000000000000000000000000000000000000000000000000000000000000000000000000000000000000000000000000000000000000000000000000000000000000000000000000000000000000000000000000000000000000000000000000000000000000000000000000000000000000000000000000000000000000000000000000000000000000000000000000000000000000000000000000000000000000000000000000000000000000000000000000000000000000000000000000000000000000000000000000000000000000000000000000000000000000000000000000000000000000000000000000000000000000000000000000000000000000000000000000000000000000000000000000000000000000000000000000000000000000000000000000000000000000000000000000000000000000000000000000000000000000000000000000000000000000000000000000000000000000000000000000000000000000000000000000000000000000000000000000000000000000000000000000000000000000000000000000000000000000000000000000000000000000000000000000000000000000000000000000000000000000000000000000000000000000000000000000000000000000000000000000000000000000000000000000000000000000000000000000000000000000000000000000000000000000000000000000000000000000000000000000000000000000000000000000000000000000000000000000000000000000000000000000000000000000000000000000000000000000000000000000000000000000000000000000000000000000000000000000000000000000000000000000000000000000000000000000000000000000000000000000000000000000000000000000000000000000000000000000000000000000000000000000000000000000000000000000000000000000000000000000000000000000000000000000000000000000000000000000000000000000000000000000000000000000000000000000000000000000000000000000000000000000000000000000000000000000000000000000000000000000000000000000000000000000000000000000000000000000000000000000000000000000000000000000000000000000000000000000000000000000000000000000000000000000000000000000000000000000000000000000000000000000000000000000000000000000000000000000000000000000000000000000000000000000000000000000000000000000000000000000000000000000000000000000000000000000000000000000000000000000000000000000000000000000000000000000000000000000000000000000000000000000000000000000000000000000000000000000000000000000000000000000000000000000000000000000000000000000000000000000000000000000000000000000000000000000000000000000000000000000000000000000000000000000000000000000000000000000000000000000000000000000000000000000000000000000000000000000000000000000000000000000000000000000000000000000000000000000000000000000000000000000000000000000000000000000000000000000000000000000000000000000000000000000000000000000000000000000000000000000000000000000000000000000000000000000000000000000000000000000000000000000000000000000000000000000000000000000000000000000000000000000000000000000000000000000000000000000000000000000000000000000000000000000000000000000000000000000000000000000000000000000000000000000000000000000000000000000000000000000000000000000000000000000000000000000000000000000000000000000000000000000000000000000000000000000000000000000000000000000000000000000000000000000000000000000000000000000000000000000000000000000000000000000000000000000000000000000000000000000000000000000000000000000000000000000000000000000000000000000000000000000000000000000000000000000000000000000000000000000000000000000000000000000000000000000000000000000000000000000000000000000000000000000000000000000000000000000000000000000000000000000000000000000000000000000000000000000000000000000000000000000000000000000000000000000000000000000000000000000000000000000000000000000000000000000000000000000000000000000000000000000000000000000000000000000000000000000000000000000000000000000000000000000000000000000000000000000000000000000000000000000000000000000000000000000000000000000000000000000000000000000000000000000000000000000000000000000000000000000000000000000000000000000000000000000000000000000000000000000000000000000000000000000000000000000000000000000000000000000000000000000000000000000000000000000000000000000000000000000000000000000000000000000000000000000000000000000000000000000000000000000000000000000000000000000000000000000000000000000000000000000000000000000000000000000000000000000000000000000000000000000000000000000000000000000000000000000000000000000000000000000000000000000000000000000000000000000000000000000000000000000000000000000000000000000000000000000000000000000000000000000000000000000000000000000000000000000000000000000000000000000000000000000000000000000000000000000000000000000000000000000000000000000000000000000000000000000000000000000000000000000000000000000000000000000000000000000000000000000000000000000000000000000000000000000000000000000000000000000000000000000000000000000000000000000000000000000000000000000000000000000000000000000000000000000000000000000000000000000000000000000000000000000000000000000000000000000000000000000000000000000000000000000000000000000000000000000000000000000000000000000000000000000000000000000000000000000000000000000000000000000000000000000000000000000000000000000000000000000000000000000000000000000000000000000000000000000000000000000000000000000000000000000000000000000000000000000000000000000000000000000000000000000000000000000000000000000000000000000000000000000000000000000000000000000000000000000000000000000000000000000000000000000000000000000000000000000000000000000000000000000000000000000000000000000000000000000000000000000000000000000000000000000000000000000000000000000000000000000000000000000000000000000000000000000000000000000000000000000000000000000000000000000000000000000000000000000000000000000000000000000000000000000000000000000000000000000000000000000000000000000000000000000000000000000000000000000000000000000000000000000000000000000000000000000000000000000000000000000000000000000000000000000000000000000000000000000000000000000000000000000000000000000000000000000000000000000000000000000000000000000000000000000000000000000000000000000000000000000000000000000000000000000000000000000000000000000000000000000000000000000000000000000000000000000000000000000000000000000000000000000000000000000000000000000000000000000000000000000000000000000000000000000000000000000000000000000000000000000000000000000000000000000000000000000000000000000000000000000000000000000000000000000000000000000000000000000000000000000000000000000000000000000000000000000000000000000000000000000000000000000000000000000000000000000000000000000000000000000000000000000000000000000000000000000000000000000000000000000000000000000000000000000000000000000000000000000000000000000000000000000000000000000000000000000000000000000000000000000000000000000000000000000000000000000000000000000000000000000000000000000000000000000000000000000000000000000000000000000000000000000000000000000000000000000000000000000000000000000000000000000000000000000000000000000000000000000000000000000000000000000000000000000000000000000000000000000000000000000000000000000000000000000000000000000000000000000000000000000000000000000000000000000000000000000000000000000000000000000000000000000000000000000000000000000000000000000000000000000000000000000000000000000000000000000000000000000000000000000000000000000000000000000000000000000000000000000000000000000000000000000000000000000000000000000000000000000000000000000000000000000000000000000000000000000000000000000000000000000000000000000000000000000000000000000000000000000000000000000000000000000000000000000000000000000000000000000000000000000000000000000000000000000000000000000000000000000000000000000000000000000000000000000000000000000000000000000000000000000000000000000000000000000000000000000000000000000000000000000000000000000000000000000000000000000000000000000000000000000000000000000000000000000000000000000000000000000000000000000000000000000000000000000000000000000000000000000000000000000000000000000000000000000000000000000000000000000000000000000000000000000000000000000000000000000000000000000000000000000000000000000000000000000000000000000000000000000000000000000000000000000000000000000000000000000000000000000000000000000000000000000000000000000000000000000000000000000000000000000000000000000000000000000000000000000000000000000000000000000000000000000000000000000000000000000000000000000000000000000000000000000000000000000000000000000000000000000000000000000000000000000000000000000000000000000000000000000000000000000000000000000000000000000000000000000000000000000000000000000000000000000000000000000000000000000000000000000000000000000000000000000000000000000000000000000000000000000000000000000000000000000000000000000000000000000000000000000000000000000000000000000000000000000000000000000000000000000000000000000000000000000000000000000000000000000000000000000000000000000000000000000000000000000000000000000000000000000000000000000000000000000000000000000000000000000000000000000000000000000000000000000000000000000000000000000000000000000000000000000000000000000000000000000000000000000000000000000000000000\n"
          ],
          "name": "stdout"
        }
      ]
    },
    {
      "cell_type": "code",
      "metadata": {
        "id": "ZZh6gdLsaNIp",
        "colab_type": "code",
        "colab": {
          "base_uri": "https://localhost:8080/",
          "height": 699
        },
        "outputId": "6fa70e55-e216-49b4-e487-ca4270b1d302"
      },
      "source": [
        "fruits = [\"香蕉\",\"蘋果\",\"橘子\",\"鳳梨\",\"西瓜\"]\n",
        "\n",
        "while True:\n",
        "    fruit = input(\"請輸入喜歡的水果(Enter 結束)：\")\n",
        "\n",
        "  #  if (fruit==\"\"):\n",
        "  #      break\n",
        "\n",
        "    n = fruits.count(fruit) \n",
        "    if (n>0):  # 串列元素存在\n",
        "        p=fruits.index(fruit)\n",
        "        print(\"%s 在串列中的第 %d 項\" %(fruit,p+1))\n",
        "    else:\n",
        "        print(fruit,\"不在串列中!\")"
      ],
      "execution_count": 59,
      "outputs": [
        {
          "output_type": "stream",
          "text": [
            "請輸入喜歡的水果(Enter 結束)：西瓜\n",
            "西瓜 在串列中的第 5 項\n",
            "請輸入喜歡的水果(Enter 結束)：\n",
            " 不在串列中!\n",
            "請輸入喜歡的水果(Enter 結束)：\n",
            " 不在串列中!\n",
            "請輸入喜歡的水果(Enter 結束)：Enter\n",
            "Enter 不在串列中!\n",
            "請輸入喜歡的水果(Enter 結束)：Enter 結束\n",
            "Enter 結束 不在串列中!\n"
          ],
          "name": "stdout"
        },
        {
          "output_type": "error",
          "ename": "KeyboardInterrupt",
          "evalue": "ignored",
          "traceback": [
            "\u001b[0;31m---------------------------------------------------------------------------\u001b[0m",
            "\u001b[0;31mKeyboardInterrupt\u001b[0m                         Traceback (most recent call last)",
            "\u001b[0;32m/usr/local/lib/python3.6/dist-packages/ipykernel/kernelbase.py\u001b[0m in \u001b[0;36m_input_request\u001b[0;34m(self, prompt, ident, parent, password)\u001b[0m\n\u001b[1;32m    729\u001b[0m             \u001b[0;32mtry\u001b[0m\u001b[0;34m:\u001b[0m\u001b[0;34m\u001b[0m\u001b[0;34m\u001b[0m\u001b[0m\n\u001b[0;32m--> 730\u001b[0;31m                 \u001b[0mident\u001b[0m\u001b[0;34m,\u001b[0m \u001b[0mreply\u001b[0m \u001b[0;34m=\u001b[0m \u001b[0mself\u001b[0m\u001b[0;34m.\u001b[0m\u001b[0msession\u001b[0m\u001b[0;34m.\u001b[0m\u001b[0mrecv\u001b[0m\u001b[0;34m(\u001b[0m\u001b[0mself\u001b[0m\u001b[0;34m.\u001b[0m\u001b[0mstdin_socket\u001b[0m\u001b[0;34m,\u001b[0m \u001b[0;36m0\u001b[0m\u001b[0;34m)\u001b[0m\u001b[0;34m\u001b[0m\u001b[0;34m\u001b[0m\u001b[0m\n\u001b[0m\u001b[1;32m    731\u001b[0m             \u001b[0;32mexcept\u001b[0m \u001b[0mException\u001b[0m\u001b[0;34m:\u001b[0m\u001b[0;34m\u001b[0m\u001b[0;34m\u001b[0m\u001b[0m\n",
            "\u001b[0;32m/usr/local/lib/python3.6/dist-packages/jupyter_client/session.py\u001b[0m in \u001b[0;36mrecv\u001b[0;34m(self, socket, mode, content, copy)\u001b[0m\n\u001b[1;32m    802\u001b[0m         \u001b[0;32mtry\u001b[0m\u001b[0;34m:\u001b[0m\u001b[0;34m\u001b[0m\u001b[0;34m\u001b[0m\u001b[0m\n\u001b[0;32m--> 803\u001b[0;31m             \u001b[0mmsg_list\u001b[0m \u001b[0;34m=\u001b[0m \u001b[0msocket\u001b[0m\u001b[0;34m.\u001b[0m\u001b[0mrecv_multipart\u001b[0m\u001b[0;34m(\u001b[0m\u001b[0mmode\u001b[0m\u001b[0;34m,\u001b[0m \u001b[0mcopy\u001b[0m\u001b[0;34m=\u001b[0m\u001b[0mcopy\u001b[0m\u001b[0;34m)\u001b[0m\u001b[0;34m\u001b[0m\u001b[0;34m\u001b[0m\u001b[0m\n\u001b[0m\u001b[1;32m    804\u001b[0m         \u001b[0;32mexcept\u001b[0m \u001b[0mzmq\u001b[0m\u001b[0;34m.\u001b[0m\u001b[0mZMQError\u001b[0m \u001b[0;32mas\u001b[0m \u001b[0me\u001b[0m\u001b[0;34m:\u001b[0m\u001b[0;34m\u001b[0m\u001b[0;34m\u001b[0m\u001b[0m\n",
            "\u001b[0;32m/usr/local/lib/python3.6/dist-packages/zmq/sugar/socket.py\u001b[0m in \u001b[0;36mrecv_multipart\u001b[0;34m(self, flags, copy, track)\u001b[0m\n\u001b[1;32m    465\u001b[0m         \"\"\"\n\u001b[0;32m--> 466\u001b[0;31m         \u001b[0mparts\u001b[0m \u001b[0;34m=\u001b[0m \u001b[0;34m[\u001b[0m\u001b[0mself\u001b[0m\u001b[0;34m.\u001b[0m\u001b[0mrecv\u001b[0m\u001b[0;34m(\u001b[0m\u001b[0mflags\u001b[0m\u001b[0;34m,\u001b[0m \u001b[0mcopy\u001b[0m\u001b[0;34m=\u001b[0m\u001b[0mcopy\u001b[0m\u001b[0;34m,\u001b[0m \u001b[0mtrack\u001b[0m\u001b[0;34m=\u001b[0m\u001b[0mtrack\u001b[0m\u001b[0;34m)\u001b[0m\u001b[0;34m]\u001b[0m\u001b[0;34m\u001b[0m\u001b[0;34m\u001b[0m\u001b[0m\n\u001b[0m\u001b[1;32m    467\u001b[0m         \u001b[0;31m# have first part already, only loop while more to receive\u001b[0m\u001b[0;34m\u001b[0m\u001b[0;34m\u001b[0m\u001b[0;34m\u001b[0m\u001b[0m\n",
            "\u001b[0;32mzmq/backend/cython/socket.pyx\u001b[0m in \u001b[0;36mzmq.backend.cython.socket.Socket.recv\u001b[0;34m()\u001b[0m\n",
            "\u001b[0;32mzmq/backend/cython/socket.pyx\u001b[0m in \u001b[0;36mzmq.backend.cython.socket.Socket.recv\u001b[0;34m()\u001b[0m\n",
            "\u001b[0;32mzmq/backend/cython/socket.pyx\u001b[0m in \u001b[0;36mzmq.backend.cython.socket._recv_copy\u001b[0;34m()\u001b[0m\n",
            "\u001b[0;32m/usr/local/lib/python3.6/dist-packages/zmq/backend/cython/checkrc.pxd\u001b[0m in \u001b[0;36mzmq.backend.cython.checkrc._check_rc\u001b[0;34m()\u001b[0m\n",
            "\u001b[0;31mKeyboardInterrupt\u001b[0m: ",
            "\nDuring handling of the above exception, another exception occurred:\n",
            "\u001b[0;31mKeyboardInterrupt\u001b[0m                         Traceback (most recent call last)",
            "\u001b[0;32m<ipython-input-59-281d147c13bf>\u001b[0m in \u001b[0;36m<module>\u001b[0;34m()\u001b[0m\n\u001b[1;32m      2\u001b[0m \u001b[0;34m\u001b[0m\u001b[0m\n\u001b[1;32m      3\u001b[0m \u001b[0;32mwhile\u001b[0m \u001b[0;32mTrue\u001b[0m\u001b[0;34m:\u001b[0m\u001b[0;34m\u001b[0m\u001b[0;34m\u001b[0m\u001b[0m\n\u001b[0;32m----> 4\u001b[0;31m     \u001b[0mfruit\u001b[0m \u001b[0;34m=\u001b[0m \u001b[0minput\u001b[0m\u001b[0;34m(\u001b[0m\u001b[0;34m\"請輸入喜歡的水果(Enter 結束)：\"\u001b[0m\u001b[0;34m)\u001b[0m\u001b[0;34m\u001b[0m\u001b[0;34m\u001b[0m\u001b[0m\n\u001b[0m\u001b[1;32m      5\u001b[0m \u001b[0;34m\u001b[0m\u001b[0m\n\u001b[1;32m      6\u001b[0m   \u001b[0;31m#  if (fruit==\"\"):\u001b[0m\u001b[0;34m\u001b[0m\u001b[0;34m\u001b[0m\u001b[0;34m\u001b[0m\u001b[0m\n",
            "\u001b[0;32m/usr/local/lib/python3.6/dist-packages/ipykernel/kernelbase.py\u001b[0m in \u001b[0;36mraw_input\u001b[0;34m(self, prompt)\u001b[0m\n\u001b[1;32m    703\u001b[0m             \u001b[0mself\u001b[0m\u001b[0;34m.\u001b[0m\u001b[0m_parent_ident\u001b[0m\u001b[0;34m,\u001b[0m\u001b[0;34m\u001b[0m\u001b[0;34m\u001b[0m\u001b[0m\n\u001b[1;32m    704\u001b[0m             \u001b[0mself\u001b[0m\u001b[0;34m.\u001b[0m\u001b[0m_parent_header\u001b[0m\u001b[0;34m,\u001b[0m\u001b[0;34m\u001b[0m\u001b[0;34m\u001b[0m\u001b[0m\n\u001b[0;32m--> 705\u001b[0;31m             \u001b[0mpassword\u001b[0m\u001b[0;34m=\u001b[0m\u001b[0;32mFalse\u001b[0m\u001b[0;34m,\u001b[0m\u001b[0;34m\u001b[0m\u001b[0;34m\u001b[0m\u001b[0m\n\u001b[0m\u001b[1;32m    706\u001b[0m         )\n\u001b[1;32m    707\u001b[0m \u001b[0;34m\u001b[0m\u001b[0m\n",
            "\u001b[0;32m/usr/local/lib/python3.6/dist-packages/ipykernel/kernelbase.py\u001b[0m in \u001b[0;36m_input_request\u001b[0;34m(self, prompt, ident, parent, password)\u001b[0m\n\u001b[1;32m    733\u001b[0m             \u001b[0;32mexcept\u001b[0m \u001b[0mKeyboardInterrupt\u001b[0m\u001b[0;34m:\u001b[0m\u001b[0;34m\u001b[0m\u001b[0;34m\u001b[0m\u001b[0m\n\u001b[1;32m    734\u001b[0m                 \u001b[0;31m# re-raise KeyboardInterrupt, to truncate traceback\u001b[0m\u001b[0;34m\u001b[0m\u001b[0;34m\u001b[0m\u001b[0;34m\u001b[0m\u001b[0m\n\u001b[0;32m--> 735\u001b[0;31m                 \u001b[0;32mraise\u001b[0m \u001b[0mKeyboardInterrupt\u001b[0m\u001b[0;34m\u001b[0m\u001b[0;34m\u001b[0m\u001b[0m\n\u001b[0m\u001b[1;32m    736\u001b[0m             \u001b[0;32melse\u001b[0m\u001b[0;34m:\u001b[0m\u001b[0;34m\u001b[0m\u001b[0;34m\u001b[0m\u001b[0m\n\u001b[1;32m    737\u001b[0m                 \u001b[0;32mbreak\u001b[0m\u001b[0;34m\u001b[0m\u001b[0;34m\u001b[0m\u001b[0m\n",
            "\u001b[0;31mKeyboardInterrupt\u001b[0m: "
          ]
        }
      ]
    },
    {
      "cell_type": "code",
      "metadata": {
        "id": "oRz1YL8GajwJ",
        "colab_type": "code",
        "colab": {
          "base_uri": "https://localhost:8080/",
          "height": 51
        },
        "outputId": "38c63d0e-7639-4b79-99af-4ccd5ac09f10"
      },
      "source": [
        "#!/usr/bin/python\n",
        "# -*- coding: UTF-8 -*-\n",
        " \n",
        "def swap(a,b):\n",
        "    a,b = b,a\n",
        "    return (a,b)\n",
        " \n",
        "if __name__ == '__main__':\n",
        "    x = 10\n",
        "    y = 20\n",
        "    print('x = %d,y = %d' % (x,y))\n",
        "    x,y = swap(x,y)\n",
        "    print('x = %d,y = %d' % (x,y))"
      ],
      "execution_count": 61,
      "outputs": [
        {
          "output_type": "stream",
          "text": [
            "x = 10,y = 20\n",
            "x = 20,y = 10\n"
          ],
          "name": "stdout"
        }
      ]
    },
    {
      "cell_type": "code",
      "metadata": {
        "id": "lUya3w-AaXpc",
        "colab_type": "code",
        "colab": {}
      },
      "source": [
        "n = int(input(\"請輸入正整數：\"))\n",
        "\n",
        "for i in range(1, n+1):\n",
        "    if i % 5 ==0:\n",
        "        continue\n",
        "    print(i,end=\" \")"
      ],
      "execution_count": 0,
      "outputs": []
    },
    {
      "cell_type": "code",
      "metadata": {
        "id": "Jwd-6BhxahHR",
        "colab_type": "code",
        "colab": {
          "base_uri": "https://localhost:8080/",
          "height": 68
        },
        "outputId": "aa7c5cb4-9e3c-4562-d89a-f639cd490e8b"
      },
      "source": [
        "def sum(i1, i2):\n",
        "    result = 0\n",
        "    for i in range(i1, i2):\n",
        "        result += i\n",
        "    return result\n",
        "\n",
        "def main():\n",
        "    print(\"Sum from 1 to 10 is\", sum(1, 11)) \n",
        "    print(\"Sum from 20 to 37 is\", sum(20, 38))\n",
        "    print(\"Sum from 35 to 49 is\", sum(35, 50))\n",
        "\n",
        "main() # Call the main function"
      ],
      "execution_count": 60,
      "outputs": [
        {
          "output_type": "stream",
          "text": [
            "Sum from 1 to 10 is 55\n",
            "Sum from 20 to 37 is 513\n",
            "Sum from 35 to 49 is 630\n"
          ],
          "name": "stdout"
        }
      ]
    },
    {
      "cell_type": "code",
      "metadata": {
        "id": "nID4hPEEanGK",
        "colab_type": "code",
        "colab": {
          "base_uri": "https://localhost:8080/",
          "height": 51
        },
        "outputId": "7915ccf7-3ec4-49df-8712-674d0929ac15"
      },
      "source": [
        "#!/usr/bin/python \n",
        "# -*- coding: UTF-8 -*- \n",
        "\n",
        "def sort(number1, number2):\n",
        "    if number1 < number2:\n",
        "        return number1, number2\n",
        "    else:\n",
        "        return number2, number1\n",
        "\n",
        "num1, num2 = sort(31, 25)\n",
        "\n",
        "print(\"num1 is\", num1)\n",
        "print(\"num2 is\", num2)"
      ],
      "execution_count": 62,
      "outputs": [
        {
          "output_type": "stream",
          "text": [
            "num1 is 25\n",
            "num2 is 31\n"
          ],
          "name": "stdout"
        }
      ]
    },
    {
      "cell_type": "code",
      "metadata": {
        "id": "LLhYfzd0aqWo",
        "colab_type": "code",
        "colab": {
          "base_uri": "https://localhost:8080/",
          "height": 102
        },
        "outputId": "8eb11558-72a9-4a9a-a2ef-d27f1bdd9983"
      },
      "source": [
        "#!/usr/bin/python \n",
        "# -*- coding: UTF-8 -*- \n",
        "\n",
        "def printArea(width = 11, height = 12):\n",
        "    area = width * height\n",
        "    print(\"width:\", width, \"\\theight:\", height, \"\\tarea:\", area)\n",
        "\n",
        "printArea() \n",
        "printArea(4, 2.5) # Positional arguments width = 4 and height = 2.5\n",
        "printArea(height = 5, width = 3) # Keyword arguments width \n",
        "printArea(width = 1.2) # Default height = 2\n",
        "printArea(height = 6.2) # Default widht = 1"
      ],
      "execution_count": 63,
      "outputs": [
        {
          "output_type": "stream",
          "text": [
            "width: 11 \theight: 12 \tarea: 132\n",
            "width: 4 \theight: 2.5 \tarea: 10.0\n",
            "width: 3 \theight: 5 \tarea: 15\n",
            "width: 1.2 \theight: 12 \tarea: 14.399999999999999\n",
            "width: 11 \theight: 6.2 \tarea: 68.2\n"
          ],
          "name": "stdout"
        }
      ]
    },
    {
      "cell_type": "code",
      "metadata": {
        "id": "G_a9rAQDasUi",
        "colab_type": "code",
        "colab": {
          "base_uri": "https://localhost:8080/",
          "height": 85
        },
        "outputId": "35ead12b-71b7-42c7-807a-94f94eebcd92"
      },
      "source": [
        "#!/usr/bin/python \n",
        "# -*- coding: UTF-8 -*- \n",
        "\n",
        "def hello_3(greeting='Hello', name='world'): \n",
        "    print('{}, {}!'.format(greeting, name)) \n",
        "\n",
        "    \n",
        "hello_3() \n",
        "hello_3('Greetings') \n",
        "hello_3('Greetings', 'universe')\n",
        "hello_3(name='GGGGGGoood')"
      ],
      "execution_count": 64,
      "outputs": [
        {
          "output_type": "stream",
          "text": [
            "Hello, world!\n",
            "Greetings, world!\n",
            "Greetings, universe!\n",
            "Hello, GGGGGGoood!\n"
          ],
          "name": "stdout"
        }
      ]
    },
    {
      "cell_type": "code",
      "metadata": {
        "id": "MU_xSp68auwr",
        "colab_type": "code",
        "colab": {
          "base_uri": "https://localhost:8080/",
          "height": 119
        },
        "outputId": "3f5ee7a0-278f-4513-9c24-098c4cfb4783"
      },
      "source": [
        "def print_params(*params): \n",
        "    print(params) \n",
        "\n",
        "print_params('Testing') \n",
        "\n",
        "print_params(1, 2, 3) \n",
        "\n",
        "\n",
        "# return的是tuple資料型態\n",
        "\n",
        "#可和一般參數齊用\n",
        "\n",
        "def print_params_2(title, *params): \n",
        "    print(title) \n",
        "    print(params)\n",
        "\n",
        "print_params_2('Params:', 1, 2, 3)\n",
        "print_params_2('Nothing:')"
      ],
      "execution_count": 65,
      "outputs": [
        {
          "output_type": "stream",
          "text": [
            "('Testing',)\n",
            "(1, 2, 3)\n",
            "Params:\n",
            "(1, 2, 3)\n",
            "Nothing:\n",
            "()\n"
          ],
          "name": "stdout"
        }
      ]
    },
    {
      "cell_type": "code",
      "metadata": {
        "id": "Cs4QVO89aweL",
        "colab_type": "code",
        "colab": {
          "base_uri": "https://localhost:8080/",
          "height": 136
        },
        "outputId": "96725498-652f-44eb-95dd-e74fcd65c99c"
      },
      "source": [
        "def print_params_3(**params): \n",
        "    print(params) \n",
        "\n",
        "print_params_3(x=1, y=2, z=3) \n",
        "\n",
        "# return的是dict(字典資料型態)\n",
        "\n",
        "def print_params_4(x, y, z=3, *pospar, **keypar): \n",
        "    print(x, y, z) \n",
        "    print(pospar) \n",
        "    print(keypar) \n",
        "\n",
        "print_params_4(1, 2, 4, 5, 6, 7, foo=1, bar=2)\n",
        "\n",
        "print_params_4(1, 2)\n"
      ],
      "execution_count": 66,
      "outputs": [
        {
          "output_type": "stream",
          "text": [
            "{'x': 1, 'y': 2, 'z': 3}\n",
            "1 2 4\n",
            "(5, 6, 7)\n",
            "{'foo': 1, 'bar': 2}\n",
            "1 2 3\n",
            "()\n",
            "{}\n"
          ],
          "name": "stdout"
        }
      ]
    },
    {
      "cell_type": "code",
      "metadata": {
        "id": "gL0r11o9ax2i",
        "colab_type": "code",
        "colab": {
          "base_uri": "https://localhost:8080/",
          "height": 136
        },
        "outputId": "d1c7c345-187c-4b1c-f1ea-78e2cb94a5bc"
      },
      "source": [
        "x = 111\n",
        "\n",
        "def f1():\n",
        "    x = 222\n",
        "    print(x) \n",
        "\n",
        "f1()\n",
        "print(x)\n",
        "\n",
        "x = 1\n",
        "\n",
        "def increase():\n",
        "    global x\n",
        "    x =  x + 1\n",
        "    print(x) \n",
        "\n",
        "increase()\n",
        "print(x)\n",
        "increase()\n",
        "increase()\n",
        "print(x)"
      ],
      "execution_count": 67,
      "outputs": [
        {
          "output_type": "stream",
          "text": [
            "222\n",
            "111\n",
            "2\n",
            "2\n",
            "3\n",
            "4\n",
            "4\n"
          ],
          "name": "stdout"
        }
      ]
    },
    {
      "cell_type": "code",
      "metadata": {
        "id": "hwhLJVyHa2UJ",
        "colab_type": "code",
        "colab": {
          "base_uri": "https://localhost:8080/",
          "height": 34
        },
        "outputId": "82b5eb06-9f39-44cd-8b06-445a2ca548ad"
      },
      "source": [
        "#!/usr/bin/python\n",
        "# -*- coding: UTF-8 -*-\n",
        "\n",
        "def fib(n):\n",
        "    if n==1 or n==2:\n",
        "        return 1\n",
        "    return fib(n-1)+fib(n-2)\n",
        "\n",
        "print(fib(10))"
      ],
      "execution_count": 68,
      "outputs": [
        {
          "output_type": "stream",
          "text": [
            "55\n"
          ],
          "name": "stdout"
        }
      ]
    },
    {
      "cell_type": "code",
      "metadata": {
        "id": "erbF8klka3b9",
        "colab_type": "code",
        "colab": {
          "base_uri": "https://localhost:8080/",
          "height": 34
        },
        "outputId": "5280f82f-5979-424b-85e8-0323c3518aa5"
      },
      "source": [
        "#!/usr/bin/python\n",
        "# -*- coding: UTF-8 -*-\n",
        " \n",
        "def fib(n):\n",
        "    a,b = 1,1\n",
        "    for i in range(n-1):\n",
        "        a,b = b,a+b\n",
        "    return a\n",
        " \n",
        "print(fib(10))"
      ],
      "execution_count": 69,
      "outputs": [
        {
          "output_type": "stream",
          "text": [
            "55\n"
          ],
          "name": "stdout"
        }
      ]
    },
    {
      "cell_type": "code",
      "metadata": {
        "id": "mU-JRsS_a8UW",
        "colab_type": "code",
        "colab": {
          "base_uri": "https://localhost:8080/",
          "height": 187
        },
        "outputId": "8a927879-0c6e-42d6-c2bc-d40c71512a47"
      },
      "source": [
        "#!/usr/bin/python\n",
        "# -*- coding: UTF-8 -*-\n",
        "\n",
        "def fib(x):\t\n",
        "\tglobal numFibCalls\n",
        "\tnumFibCalls += 1\n",
        "\t\n",
        "\tif x == 0 or x == 1:\n",
        "           return 1\n",
        "\telse:\n",
        "          return fib(x-1) + fib(x-2)\n",
        "\n",
        "def testFib(n):\n",
        "\tfor i in range(n+1):\n",
        "          global numFibCalls\n",
        "          numFibCalls = 0\n",
        "          print('fib of', i, '=', fib(i))\n",
        "          print('fib called', numFibCalls, 'times.')\n",
        "\n",
        "testFib(4)\n"
      ],
      "execution_count": 70,
      "outputs": [
        {
          "output_type": "stream",
          "text": [
            "fib of 0 = 1\n",
            "fib called 1 times.\n",
            "fib of 1 = 1\n",
            "fib called 1 times.\n",
            "fib of 2 = 2\n",
            "fib called 3 times.\n",
            "fib of 3 = 3\n",
            "fib called 5 times.\n",
            "fib of 4 = 5\n",
            "fib called 9 times.\n"
          ],
          "name": "stdout"
        }
      ]
    },
    {
      "cell_type": "code",
      "metadata": {
        "id": "GYbKGqCEa-yd",
        "colab_type": "code",
        "colab": {
          "base_uri": "https://localhost:8080/",
          "height": 34
        },
        "outputId": "a5699081-6d2f-4026-f2ec-9883a33d995d"
      },
      "source": [
        "hex(255)\n",
        "\n",
        "hex(-42)"
      ],
      "execution_count": 71,
      "outputs": [
        {
          "output_type": "execute_result",
          "data": {
            "text/plain": [
              "'-0x2a'"
            ]
          },
          "metadata": {
            "tags": []
          },
          "execution_count": 71
        }
      ]
    },
    {
      "cell_type": "code",
      "metadata": {
        "id": "88OdVBFNbAwN",
        "colab_type": "code",
        "colab": {
          "base_uri": "https://localhost:8080/",
          "height": 34
        },
        "outputId": "165894c3-9d65-49f3-b373-2922ed181d3d"
      },
      "source": [
        "oct(8)\n",
        "\n",
        "oct(-56)"
      ],
      "execution_count": 72,
      "outputs": [
        {
          "output_type": "execute_result",
          "data": {
            "text/plain": [
              "'-0o70'"
            ]
          },
          "metadata": {
            "tags": []
          },
          "execution_count": 72
        }
      ]
    },
    {
      "cell_type": "code",
      "metadata": {
        "id": "sFETq66bbB7m",
        "colab_type": "code",
        "colab": {
          "base_uri": "https://localhost:8080/",
          "height": 34
        },
        "outputId": "3f181e49-8f30-46c4-a9bc-f58c7e6f434e"
      },
      "source": [
        "bin(3)\n",
        "\n",
        "bin(-10)"
      ],
      "execution_count": 73,
      "outputs": [
        {
          "output_type": "execute_result",
          "data": {
            "text/plain": [
              "'-0b1010'"
            ]
          },
          "metadata": {
            "tags": []
          },
          "execution_count": 73
        }
      ]
    }
  ]
}