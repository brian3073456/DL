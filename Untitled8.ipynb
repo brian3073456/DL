{
  "nbformat": 4,
  "nbformat_minor": 0,
  "metadata": {
    "colab": {
      "name": "Untitled8.ipynb",
      "provenance": [],
      "authorship_tag": "ABX9TyN075KIOuqtw+25hUohhq3w",
      "include_colab_link": true
    },
    "kernelspec": {
      "name": "python3",
      "display_name": "Python 3"
    }
  },
  "cells": [
    {
      "cell_type": "markdown",
      "metadata": {
        "id": "view-in-github",
        "colab_type": "text"
      },
      "source": [
        "<a href=\"https://colab.research.google.com/github/brian3073456/DL/blob/master/Untitled8.ipynb\" target=\"_parent\"><img src=\"https://colab.research.google.com/assets/colab-badge.svg\" alt=\"Open In Colab\"/></a>"
      ]
    },
    {
      "cell_type": "code",
      "metadata": {
        "id": "ts1AEJ0apN86",
        "colab_type": "code",
        "colab": {}
      },
      "source": [
        "# import numpy and pandas\n",
        "import numpy as np\n",
        "import pandas as pd\n",
        "\n",
        "# used for dates\n",
        "import datetime\n",
        "from datetime import datetime, date\n",
        "\n",
        "# Set some pandas options controlling output format\n",
        "pd.set_option('display.notebook_repr_html', False)\n",
        "pd.set_option('display.max_columns', 8)\n",
        "pd.set_option('display.max_rows', 10)\n",
        "pd.set_option('display.width', 80)\n",
        "\n",
        "# bring in matplotlib for graphics\n",
        "import matplotlib.pyplot as plt\n",
        "%matplotlib inline"
      ],
      "execution_count": 0,
      "outputs": []
    },
    {
      "cell_type": "code",
      "metadata": {
        "id": "Y0NSZIJspPEl",
        "colab_type": "code",
        "colab": {
          "base_uri": "https://localhost:8080/",
          "height": 119
        },
        "outputId": "f1af5430-b778-4c64-9835-8a223255c3db"
      },
      "source": [
        "# create a series of multiple values from a list\n",
        "s = pd.Series([10, 11, 12, 13, 14])\n",
        "s"
      ],
      "execution_count": 3,
      "outputs": [
        {
          "output_type": "execute_result",
          "data": {
            "text/plain": [
              "0    10\n",
              "1    11\n",
              "2    12\n",
              "3    13\n",
              "4    14\n",
              "dtype: int64"
            ]
          },
          "metadata": {
            "tags": []
          },
          "execution_count": 3
        }
      ]
    },
    {
      "cell_type": "code",
      "metadata": {
        "id": "AFBgzpsCpQcs",
        "colab_type": "code",
        "colab": {
          "base_uri": "https://localhost:8080/",
          "height": 34
        },
        "outputId": "71edc465-fe8a-4af2-f3ac-7744e6faf352"
      },
      "source": [
        "# value stored at index label 3\n",
        "s[3]"
      ],
      "execution_count": 4,
      "outputs": [
        {
          "output_type": "execute_result",
          "data": {
            "text/plain": [
              "13"
            ]
          },
          "metadata": {
            "tags": []
          },
          "execution_count": 4
        }
      ]
    },
    {
      "cell_type": "code",
      "metadata": {
        "id": "0oDq2z2dpU1C",
        "colab_type": "code",
        "colab": {
          "base_uri": "https://localhost:8080/",
          "height": 102
        },
        "outputId": "45032c42-48be-4c83-af5c-4306ed005f0c"
      },
      "source": [
        "\n",
        "# create a Series of alphas\n",
        "pd.Series(['Mike', 'Marcia', 'Mikael', 'Bleu'])"
      ],
      "execution_count": 5,
      "outputs": [
        {
          "output_type": "execute_result",
          "data": {
            "text/plain": [
              "0      Mike\n",
              "1    Marcia\n",
              "2    Mikael\n",
              "3      Bleu\n",
              "dtype: object"
            ]
          },
          "metadata": {
            "tags": []
          },
          "execution_count": 5
        }
      ]
    },
    {
      "cell_type": "code",
      "metadata": {
        "id": "79d7JDATpXi-",
        "colab_type": "code",
        "colab": {
          "base_uri": "https://localhost:8080/",
          "height": 119
        },
        "outputId": "dcedd374-9e72-4a80-90bc-73d22f0d91cb"
      },
      "source": [
        "# a sequence of 5 values, all 2\n",
        "pd.Series([2]*5)"
      ],
      "execution_count": 6,
      "outputs": [
        {
          "output_type": "execute_result",
          "data": {
            "text/plain": [
              "0    2\n",
              "1    2\n",
              "2    2\n",
              "3    2\n",
              "4    2\n",
              "dtype: int64"
            ]
          },
          "metadata": {
            "tags": []
          },
          "execution_count": 6
        }
      ]
    },
    {
      "cell_type": "code",
      "metadata": {
        "id": "Et_b19DPpZSM",
        "colab_type": "code",
        "colab": {
          "base_uri": "https://localhost:8080/",
          "height": 119
        },
        "outputId": "766ee4d0-4c1e-46e9-ec5c-cfd31d4ac681"
      },
      "source": [
        "# use each character as a value\n",
        "pd.Series(list('abcde'))"
      ],
      "execution_count": 7,
      "outputs": [
        {
          "output_type": "execute_result",
          "data": {
            "text/plain": [
              "0    a\n",
              "1    b\n",
              "2    c\n",
              "3    d\n",
              "4    e\n",
              "dtype: object"
            ]
          },
          "metadata": {
            "tags": []
          },
          "execution_count": 7
        }
      ]
    },
    {
      "cell_type": "code",
      "metadata": {
        "id": "QfK1q-bepbhi",
        "colab_type": "code",
        "colab": {
          "base_uri": "https://localhost:8080/",
          "height": 102
        },
        "outputId": "849ac683-7a6a-4a21-dc36-4fcd2664a82f"
      },
      "source": [
        "\n",
        "# create Series from dict\n",
        "pd.Series({'Mike': 'Dad', \n",
        "           'Marcia': 'Mom', \n",
        "           'Mikael': 'Son', \n",
        "           'Bleu': 'Best doggie ever' })"
      ],
      "execution_count": 8,
      "outputs": [
        {
          "output_type": "execute_result",
          "data": {
            "text/plain": [
              "Mike                   Dad\n",
              "Marcia                 Mom\n",
              "Mikael                 Son\n",
              "Bleu      Best doggie ever\n",
              "dtype: object"
            ]
          },
          "metadata": {
            "tags": []
          },
          "execution_count": 8
        }
      ]
    },
    {
      "cell_type": "code",
      "metadata": {
        "id": "nn4ohEMOpdU1",
        "colab_type": "code",
        "colab": {
          "base_uri": "https://localhost:8080/",
          "height": 119
        },
        "outputId": "8f109087-3098-4e62-bf61-50071b6e4f81"
      },
      "source": [
        "# 4 through 8\n",
        "pd.Series(np.arange(4, 9))"
      ],
      "execution_count": 9,
      "outputs": [
        {
          "output_type": "execute_result",
          "data": {
            "text/plain": [
              "0    4\n",
              "1    5\n",
              "2    6\n",
              "3    7\n",
              "4    8\n",
              "dtype: int64"
            ]
          },
          "metadata": {
            "tags": []
          },
          "execution_count": 9
        }
      ]
    },
    {
      "cell_type": "code",
      "metadata": {
        "id": "jWHQ4u8Opjkr",
        "colab_type": "code",
        "colab": {
          "base_uri": "https://localhost:8080/",
          "height": 119
        },
        "outputId": "b00b56ae-7645-46d7-b242-ea2fbf15059a"
      },
      "source": [
        "\n",
        "# 0 through 9\n",
        "pd.Series(np.linspace(0, 9, 5))"
      ],
      "execution_count": 10,
      "outputs": [
        {
          "output_type": "execute_result",
          "data": {
            "text/plain": [
              "0    0.00\n",
              "1    2.25\n",
              "2    4.50\n",
              "3    6.75\n",
              "4    9.00\n",
              "dtype: float64"
            ]
          },
          "metadata": {
            "tags": []
          },
          "execution_count": 10
        }
      ]
    },
    {
      "cell_type": "code",
      "metadata": {
        "id": "fVbIzBdCplNt",
        "colab_type": "code",
        "colab": {
          "base_uri": "https://localhost:8080/",
          "height": 119
        },
        "outputId": "8ece0b03-f9d1-448f-f6d7-54f32c787654"
      },
      "source": [
        "\n",
        "# random numbers\n",
        "np.random.seed(12345) # always generate the same values\n",
        "# 5 normally random numbers\n",
        "pd.Series(np.random.normal(size=5))"
      ],
      "execution_count": 11,
      "outputs": [
        {
          "output_type": "execute_result",
          "data": {
            "text/plain": [
              "0   -0.204708\n",
              "1    0.478943\n",
              "2   -0.519439\n",
              "3   -0.555730\n",
              "4    1.965781\n",
              "dtype: float64"
            ]
          },
          "metadata": {
            "tags": []
          },
          "execution_count": 11
        }
      ]
    },
    {
      "cell_type": "code",
      "metadata": {
        "id": "26lb4AbppnRQ",
        "colab_type": "code",
        "colab": {
          "base_uri": "https://localhost:8080/",
          "height": 51
        },
        "outputId": "936a51e1-7966-41ee-fb89-7ffe296449f5"
      },
      "source": [
        "# create a one item Series\n",
        "s = pd.Series(2)\n",
        "s"
      ],
      "execution_count": 12,
      "outputs": [
        {
          "output_type": "execute_result",
          "data": {
            "text/plain": [
              "0    2\n",
              "dtype: int64"
            ]
          },
          "metadata": {
            "tags": []
          },
          "execution_count": 12
        }
      ]
    },
    {
      "cell_type": "code",
      "metadata": {
        "id": "zRdD3V-eppb2",
        "colab_type": "code",
        "colab": {
          "base_uri": "https://localhost:8080/",
          "height": 119
        },
        "outputId": "b41f0992-c8fa-4a4e-f755-7ff0a67f7a5a"
      },
      "source": [
        "# create the Series\n",
        "s = pd.Series(np.arange(0, 5))\n",
        "# multiple all values by 2\n",
        "s * 2"
      ],
      "execution_count": 13,
      "outputs": [
        {
          "output_type": "execute_result",
          "data": {
            "text/plain": [
              "0    0\n",
              "1    2\n",
              "2    4\n",
              "3    6\n",
              "4    8\n",
              "dtype: int64"
            ]
          },
          "metadata": {
            "tags": []
          },
          "execution_count": 13
        }
      ]
    },
    {
      "cell_type": "code",
      "metadata": {
        "id": "hCxwC-v9pqSc",
        "colab_type": "code",
        "colab": {
          "base_uri": "https://localhost:8080/",
          "height": 34
        },
        "outputId": "c0fd185d-c46f-4aaa-f093-5683c1696f8f"
      },
      "source": [
        "# get the values in the Series\n",
        "s = pd.Series([1, 2, 3])\n",
        "s.values\n"
      ],
      "execution_count": 14,
      "outputs": [
        {
          "output_type": "execute_result",
          "data": {
            "text/plain": [
              "array([1, 2, 3])"
            ]
          },
          "metadata": {
            "tags": []
          },
          "execution_count": 14
        }
      ]
    },
    {
      "cell_type": "code",
      "metadata": {
        "id": "jDCF6MJDpsuL",
        "colab_type": "code",
        "colab": {
          "base_uri": "https://localhost:8080/",
          "height": 34
        },
        "outputId": "b2f5987d-d84f-4db8-b5cb-65712e24e44f"
      },
      "source": [
        "# show that this is a numpy array\n",
        "type(s.values)"
      ],
      "execution_count": 15,
      "outputs": [
        {
          "output_type": "execute_result",
          "data": {
            "text/plain": [
              "numpy.ndarray"
            ]
          },
          "metadata": {
            "tags": []
          },
          "execution_count": 15
        }
      ]
    },
    {
      "cell_type": "code",
      "metadata": {
        "id": "M2cMxGoRpwhm",
        "colab_type": "code",
        "colab": {
          "base_uri": "https://localhost:8080/",
          "height": 34
        },
        "outputId": "36808d52-33e2-4d31-e969-17e8eb073d35"
      },
      "source": [
        "# get the index of the Series\n",
        "s.index"
      ],
      "execution_count": 16,
      "outputs": [
        {
          "output_type": "execute_result",
          "data": {
            "text/plain": [
              "RangeIndex(start=0, stop=3, step=1)"
            ]
          },
          "metadata": {
            "tags": []
          },
          "execution_count": 16
        }
      ]
    },
    {
      "cell_type": "code",
      "metadata": {
        "id": "ZvHInOC0pyWw",
        "colab_type": "code",
        "colab": {
          "base_uri": "https://localhost:8080/",
          "height": 34
        },
        "outputId": "cc78b654-78cb-4ff3-8f6e-fa4cccb28219"
      },
      "source": [
        "# example series\n",
        "s = pd.Series([0, 1, 2, 3])\n",
        "len(s)"
      ],
      "execution_count": 17,
      "outputs": [
        {
          "output_type": "execute_result",
          "data": {
            "text/plain": [
              "4"
            ]
          },
          "metadata": {
            "tags": []
          },
          "execution_count": 17
        }
      ]
    },
    {
      "cell_type": "code",
      "metadata": {
        "id": "8CAV19Jxp0Zr",
        "colab_type": "code",
        "colab": {
          "base_uri": "https://localhost:8080/",
          "height": 34
        },
        "outputId": "8eb5a4ce-c483-4025-d7e9-296adabf65f7"
      },
      "source": [
        "# .size is also the # of items in the Series\n",
        "s.size"
      ],
      "execution_count": 18,
      "outputs": [
        {
          "output_type": "execute_result",
          "data": {
            "text/plain": [
              "4"
            ]
          },
          "metadata": {
            "tags": []
          },
          "execution_count": 18
        }
      ]
    },
    {
      "cell_type": "code",
      "metadata": {
        "id": "7UoTSXDJp15T",
        "colab_type": "code",
        "colab": {
          "base_uri": "https://localhost:8080/",
          "height": 34
        },
        "outputId": "c6ab9228-bcdb-497c-cad4-e93c4efe306e"
      },
      "source": [
        "# .shape is a tuple with one value\n",
        "s.shape"
      ],
      "execution_count": 19,
      "outputs": [
        {
          "output_type": "execute_result",
          "data": {
            "text/plain": [
              "(4,)"
            ]
          },
          "metadata": {
            "tags": []
          },
          "execution_count": 19
        }
      ]
    },
    {
      "cell_type": "code",
      "metadata": {
        "id": "NIVKEDdfp3jo",
        "colab_type": "code",
        "colab": {
          "base_uri": "https://localhost:8080/",
          "height": 102
        },
        "outputId": "5853ed2d-9e58-4654-9a26-93479f96e689"
      },
      "source": [
        "# explicitly create an index\n",
        "labels = ['Mike', 'Marcia', 'Mikael', 'Bleu']\n",
        "role = ['Dad', 'Mom', 'Son', 'Dog']\n",
        "s = pd.Series(labels, index=role)\n",
        "s"
      ],
      "execution_count": 20,
      "outputs": [
        {
          "output_type": "execute_result",
          "data": {
            "text/plain": [
              "Dad      Mike\n",
              "Mom    Marcia\n",
              "Son    Mikael\n",
              "Dog      Bleu\n",
              "dtype: object"
            ]
          },
          "metadata": {
            "tags": []
          },
          "execution_count": 20
        }
      ]
    },
    {
      "cell_type": "code",
      "metadata": {
        "id": "5LnRWXlcp5Sh",
        "colab_type": "code",
        "colab": {
          "base_uri": "https://localhost:8080/",
          "height": 34
        },
        "outputId": "24425dd9-752b-40ae-ddf7-2cf9891f9ec8"
      },
      "source": [
        "# examine the index\n",
        "s.index"
      ],
      "execution_count": 21,
      "outputs": [
        {
          "output_type": "execute_result",
          "data": {
            "text/plain": [
              "Index(['Dad', 'Mom', 'Son', 'Dog'], dtype='object')"
            ]
          },
          "metadata": {
            "tags": []
          },
          "execution_count": 21
        }
      ]
    },
    {
      "cell_type": "code",
      "metadata": {
        "id": "XSsDvKUfp6tG",
        "colab_type": "code",
        "colab": {
          "base_uri": "https://localhost:8080/",
          "height": 34
        },
        "outputId": "a6fa15ce-75e6-4c86-bf0a-27689d2ee233"
      },
      "source": [
        "# who is the Dad?\n",
        "s['Dad']"
      ],
      "execution_count": 22,
      "outputs": [
        {
          "output_type": "execute_result",
          "data": {
            "text/plain": [
              "'Mike'"
            ]
          },
          "metadata": {
            "tags": []
          },
          "execution_count": 22
        }
      ]
    },
    {
      "cell_type": "code",
      "metadata": {
        "id": "GoOMmM3cp8fo",
        "colab_type": "code",
        "colab": {}
      },
      "source": [
        "\n",
        "# a ten item Series\n",
        "s = pd.Series(np.arange(1, 10), \n",
        "              index=list('abcdefghi'))"
      ],
      "execution_count": 0,
      "outputs": []
    },
    {
      "cell_type": "code",
      "metadata": {
        "id": "MTGD9m2Ip-mL",
        "colab_type": "code",
        "colab": {
          "base_uri": "https://localhost:8080/",
          "height": 119
        },
        "outputId": "fc6aa397-2894-4d0d-cbd3-5e9ce3c65bc4"
      },
      "source": [
        "# show the first five\n",
        "s.head()"
      ],
      "execution_count": 24,
      "outputs": [
        {
          "output_type": "execute_result",
          "data": {
            "text/plain": [
              "a    1\n",
              "b    2\n",
              "c    3\n",
              "d    4\n",
              "e    5\n",
              "dtype: int64"
            ]
          },
          "metadata": {
            "tags": []
          },
          "execution_count": 24
        }
      ]
    },
    {
      "cell_type": "code",
      "metadata": {
        "id": "BKmEepvfqAm8",
        "colab_type": "code",
        "colab": {
          "base_uri": "https://localhost:8080/",
          "height": 85
        },
        "outputId": "fa68dae2-356e-41e1-e83f-b09edd44a386"
      },
      "source": [
        "# the first three\n",
        "s.head(n = 3) # s.head(3) is equivalent"
      ],
      "execution_count": 25,
      "outputs": [
        {
          "output_type": "execute_result",
          "data": {
            "text/plain": [
              "a    1\n",
              "b    2\n",
              "c    3\n",
              "dtype: int64"
            ]
          },
          "metadata": {
            "tags": []
          },
          "execution_count": 25
        }
      ]
    },
    {
      "cell_type": "code",
      "metadata": {
        "id": "V1_nDQKLqCNV",
        "colab_type": "code",
        "colab": {
          "base_uri": "https://localhost:8080/",
          "height": 119
        },
        "outputId": "211be907-30fe-4673-b35e-0ea7bd5be712"
      },
      "source": [
        "\n",
        "# the last five\n",
        "s.tail()"
      ],
      "execution_count": 26,
      "outputs": [
        {
          "output_type": "execute_result",
          "data": {
            "text/plain": [
              "e    5\n",
              "f    6\n",
              "g    7\n",
              "h    8\n",
              "i    9\n",
              "dtype: int64"
            ]
          },
          "metadata": {
            "tags": []
          },
          "execution_count": 26
        }
      ]
    },
    {
      "cell_type": "code",
      "metadata": {
        "id": "5HmexeIKqDxf",
        "colab_type": "code",
        "colab": {
          "base_uri": "https://localhost:8080/",
          "height": 85
        },
        "outputId": "a08c2681-b036-4e27-c86c-9fcc10d043d1"
      },
      "source": [
        "\n",
        "# the last 3\n",
        "s.tail(n = 3) # equivalent to s.tail(3)"
      ],
      "execution_count": 27,
      "outputs": [
        {
          "output_type": "execute_result",
          "data": {
            "text/plain": [
              "g    7\n",
              "h    8\n",
              "i    9\n",
              "dtype: int64"
            ]
          },
          "metadata": {
            "tags": []
          },
          "execution_count": 27
        }
      ]
    },
    {
      "cell_type": "code",
      "metadata": {
        "id": "Jp1krX28qGE0",
        "colab_type": "code",
        "colab": {
          "base_uri": "https://localhost:8080/",
          "height": 85
        },
        "outputId": "bb8f0dae-19c3-41a5-a0f9-c62200a8c7ae"
      },
      "source": [
        "# only take specific items by position\n",
        "s.take([1, 5, 8])"
      ],
      "execution_count": 28,
      "outputs": [
        {
          "output_type": "execute_result",
          "data": {
            "text/plain": [
              "b    2\n",
              "f    6\n",
              "i    9\n",
              "dtype: int64"
            ]
          },
          "metadata": {
            "tags": []
          },
          "execution_count": 28
        }
      ]
    },
    {
      "cell_type": "code",
      "metadata": {
        "id": "wxArRXcnqH43",
        "colab_type": "code",
        "colab": {
          "base_uri": "https://localhost:8080/",
          "height": 119
        },
        "outputId": "97b4a62f-aea3-4d38-dccf-43b20fafd4fd"
      },
      "source": [
        "# we will use this series to examine lookups\n",
        "s1 = pd.Series(np.arange(10, 15), index=list('abcde'))\n",
        "s1"
      ],
      "execution_count": 29,
      "outputs": [
        {
          "output_type": "execute_result",
          "data": {
            "text/plain": [
              "a    10\n",
              "b    11\n",
              "c    12\n",
              "d    13\n",
              "e    14\n",
              "dtype: int64"
            ]
          },
          "metadata": {
            "tags": []
          },
          "execution_count": 29
        }
      ]
    },
    {
      "cell_type": "code",
      "metadata": {
        "id": "r2x92jCsqIy7",
        "colab_type": "code",
        "colab": {
          "base_uri": "https://localhost:8080/",
          "height": 34
        },
        "outputId": "4a8a3b78-ab2f-4739-df4e-00694b490237"
      },
      "source": [
        "# get the value with label 'a'\n",
        "s1['a']"
      ],
      "execution_count": 30,
      "outputs": [
        {
          "output_type": "execute_result",
          "data": {
            "text/plain": [
              "10"
            ]
          },
          "metadata": {
            "tags": []
          },
          "execution_count": 30
        }
      ]
    },
    {
      "cell_type": "code",
      "metadata": {
        "id": "UtLHSsK0qKqE",
        "colab_type": "code",
        "colab": {
          "base_uri": "https://localhost:8080/",
          "height": 68
        },
        "outputId": "2c2dd3d1-3728-49f3-d879-7c93627f8d28"
      },
      "source": [
        "# get multiple items\n",
        "s1[['d', 'b']]"
      ],
      "execution_count": 31,
      "outputs": [
        {
          "output_type": "execute_result",
          "data": {
            "text/plain": [
              "d    13\n",
              "b    11\n",
              "dtype: int64"
            ]
          },
          "metadata": {
            "tags": []
          },
          "execution_count": 31
        }
      ]
    },
    {
      "cell_type": "code",
      "metadata": {
        "id": "U_X184ZpqNGz",
        "colab_type": "code",
        "colab": {
          "base_uri": "https://localhost:8080/",
          "height": 68
        },
        "outputId": "82138516-1e64-47c4-a7b5-0de6e1c47931"
      },
      "source": [
        "\n",
        "# gets values based upon position\n",
        "s1[[3, 1]]"
      ],
      "execution_count": 32,
      "outputs": [
        {
          "output_type": "execute_result",
          "data": {
            "text/plain": [
              "d    13\n",
              "b    11\n",
              "dtype: int64"
            ]
          },
          "metadata": {
            "tags": []
          },
          "execution_count": 32
        }
      ]
    },
    {
      "cell_type": "code",
      "metadata": {
        "id": "YF73m9p4qOyF",
        "colab_type": "code",
        "colab": {
          "base_uri": "https://localhost:8080/",
          "height": 102
        },
        "outputId": "845e3df6-c0c6-426e-bd97-8f58cfe1b3ee"
      },
      "source": [
        "# to demo lookup by matching labels as integer values\n",
        "s2 = pd.Series([1, 2, 3, 4], index=[10, 11, 12, 13])\n",
        "s2"
      ],
      "execution_count": 33,
      "outputs": [
        {
          "output_type": "execute_result",
          "data": {
            "text/plain": [
              "10    1\n",
              "11    2\n",
              "12    3\n",
              "13    4\n",
              "dtype: int64"
            ]
          },
          "metadata": {
            "tags": []
          },
          "execution_count": 33
        }
      ]
    },
    {
      "cell_type": "code",
      "metadata": {
        "id": "FfQTCBvQqQLN",
        "colab_type": "code",
        "colab": {
          "base_uri": "https://localhost:8080/",
          "height": 68
        },
        "outputId": "52598662-4a8b-4333-a508-9db796471bc6"
      },
      "source": [
        "# this is by label not position\n",
        "s2[[13, 10]]"
      ],
      "execution_count": 34,
      "outputs": [
        {
          "output_type": "execute_result",
          "data": {
            "text/plain": [
              "13    4\n",
              "10    1\n",
              "dtype: int64"
            ]
          },
          "metadata": {
            "tags": []
          },
          "execution_count": 34
        }
      ]
    },
    {
      "cell_type": "code",
      "metadata": {
        "id": "EDWARfPXqSID",
        "colab_type": "code",
        "colab": {
          "base_uri": "https://localhost:8080/",
          "height": 68
        },
        "outputId": "5792c171-a618-4291-f576-ec7de3ac82c7"
      },
      "source": [
        "# explicitly  by position\n",
        "s1.iloc[[0, 2]]"
      ],
      "execution_count": 35,
      "outputs": [
        {
          "output_type": "execute_result",
          "data": {
            "text/plain": [
              "a    10\n",
              "c    12\n",
              "dtype: int64"
            ]
          },
          "metadata": {
            "tags": []
          },
          "execution_count": 35
        }
      ]
    },
    {
      "cell_type": "code",
      "metadata": {
        "id": "x04B14sXqUFo",
        "colab_type": "code",
        "colab": {
          "base_uri": "https://localhost:8080/",
          "height": 68
        },
        "outputId": "de81a107-69ee-455a-ec30-bbb652adaab2"
      },
      "source": [
        "# explicitly  by position\n",
        "s2.iloc[[3, 2]]"
      ],
      "execution_count": 36,
      "outputs": [
        {
          "output_type": "execute_result",
          "data": {
            "text/plain": [
              "13    4\n",
              "12    3\n",
              "dtype: int64"
            ]
          },
          "metadata": {
            "tags": []
          },
          "execution_count": 36
        }
      ]
    },
    {
      "cell_type": "code",
      "metadata": {
        "id": "x4sMzwWBqV3_",
        "colab_type": "code",
        "colab": {
          "base_uri": "https://localhost:8080/",
          "height": 68
        },
        "outputId": "3a60a71a-5827-4803-8ab8-b83df9f07be3"
      },
      "source": [
        "# explicit via labels\n",
        "s1.loc[['a', 'd']]"
      ],
      "execution_count": 37,
      "outputs": [
        {
          "output_type": "execute_result",
          "data": {
            "text/plain": [
              "a    10\n",
              "d    13\n",
              "dtype: int64"
            ]
          },
          "metadata": {
            "tags": []
          },
          "execution_count": 37
        }
      ]
    },
    {
      "cell_type": "code",
      "metadata": {
        "id": "ARZ2SxVKqXbA",
        "colab_type": "code",
        "colab": {
          "base_uri": "https://localhost:8080/",
          "height": 68
        },
        "outputId": "d294355f-ebc8-4c94-c2f5-b73ae5def779"
      },
      "source": [
        "# get items at position 11 an d12\n",
        "s2.loc[[11, 12]]"
      ],
      "execution_count": 38,
      "outputs": [
        {
          "output_type": "execute_result",
          "data": {
            "text/plain": [
              "11    2\n",
              "12    3\n",
              "dtype: int64"
            ]
          },
          "metadata": {
            "tags": []
          },
          "execution_count": 38
        }
      ]
    },
    {
      "cell_type": "code",
      "metadata": {
        "id": "gGZi8pzIqYul",
        "colab_type": "code",
        "colab": {
          "base_uri": "https://localhost:8080/",
          "height": 187
        },
        "outputId": "2bb94e99-7382-4550-ad04-753272ea026b"
      },
      "source": [
        "# -1 and 15 will be NaN\n",
        "s1.loc[['a', 'f']]"
      ],
      "execution_count": 39,
      "outputs": [
        {
          "output_type": "stream",
          "text": [
            "/usr/local/lib/python3.6/dist-packages/ipykernel_launcher.py:1: FutureWarning: \n",
            "Passing list-likes to .loc or [] with any missing label will raise\n",
            "KeyError in the future, you can use .reindex() as an alternative.\n",
            "\n",
            "See the documentation here:\n",
            "https://pandas.pydata.org/pandas-docs/stable/user_guide/indexing.html#deprecate-loc-reindex-listlike\n",
            "  \"\"\"Entry point for launching an IPython kernel.\n"
          ],
          "name": "stderr"
        },
        {
          "output_type": "execute_result",
          "data": {
            "text/plain": [
              "a    10.0\n",
              "f     NaN\n",
              "dtype: float64"
            ]
          },
          "metadata": {
            "tags": []
          },
          "execution_count": 39
        }
      ]
    },
    {
      "cell_type": "code",
      "metadata": {
        "id": "0Ag9jLLMqa4G",
        "colab_type": "code",
        "colab": {
          "base_uri": "https://localhost:8080/",
          "height": 204
        },
        "outputId": "3fc4f803-270f-4283-be8f-3aa780085835"
      },
      "source": [
        "# a Series to use for slicing\n",
        "# using index labels not starting at 0 to demonstrate \n",
        "# position based slicing\n",
        "s = pd.Series(np.arange(100, 110), index=np.arange(10, 20))\n",
        "s"
      ],
      "execution_count": 40,
      "outputs": [
        {
          "output_type": "execute_result",
          "data": {
            "text/plain": [
              "10    100\n",
              "11    101\n",
              "12    102\n",
              "13    103\n",
              "14    104\n",
              "15    105\n",
              "16    106\n",
              "17    107\n",
              "18    108\n",
              "19    109\n",
              "dtype: int64"
            ]
          },
          "metadata": {
            "tags": []
          },
          "execution_count": 40
        }
      ]
    },
    {
      "cell_type": "code",
      "metadata": {
        "id": "gFyZJr3ZqcJz",
        "colab_type": "code",
        "colab": {
          "base_uri": "https://localhost:8080/",
          "height": 119
        },
        "outputId": "7be751c3-92ef-45c3-a79b-4ab06914f4e7"
      },
      "source": [
        "\n",
        "# slice showing items at position 1 thorugh 5\n",
        "s[1:6]"
      ],
      "execution_count": 41,
      "outputs": [
        {
          "output_type": "execute_result",
          "data": {
            "text/plain": [
              "11    101\n",
              "12    102\n",
              "13    103\n",
              "14    104\n",
              "15    105\n",
              "dtype: int64"
            ]
          },
          "metadata": {
            "tags": []
          },
          "execution_count": 41
        }
      ]
    },
    {
      "cell_type": "code",
      "metadata": {
        "id": "Y9ZlDENsqdyO",
        "colab_type": "code",
        "colab": {
          "base_uri": "https://localhost:8080/",
          "height": 119
        },
        "outputId": "a3d70851-172e-4725-f497-88459069093f"
      },
      "source": [
        "\n",
        "# lookup via list of positions\n",
        "s.iloc[[1, 2, 3, 4, 5]]"
      ],
      "execution_count": 42,
      "outputs": [
        {
          "output_type": "execute_result",
          "data": {
            "text/plain": [
              "11    101\n",
              "12    102\n",
              "13    103\n",
              "14    104\n",
              "15    105\n",
              "dtype: int64"
            ]
          },
          "metadata": {
            "tags": []
          },
          "execution_count": 42
        }
      ]
    },
    {
      "cell_type": "code",
      "metadata": {
        "id": "lY0REfEQqgPu",
        "colab_type": "code",
        "colab": {
          "base_uri": "https://localhost:8080/",
          "height": 85
        },
        "outputId": "6f884cd1-c40a-4afd-e594-fb18dbdf2271"
      },
      "source": [
        "# items at position 1, 3, 5\n",
        "s[1:6:2]"
      ],
      "execution_count": 43,
      "outputs": [
        {
          "output_type": "execute_result",
          "data": {
            "text/plain": [
              "11    101\n",
              "13    103\n",
              "15    105\n",
              "dtype: int64"
            ]
          },
          "metadata": {
            "tags": []
          },
          "execution_count": 43
        }
      ]
    },
    {
      "cell_type": "code",
      "metadata": {
        "id": "qfXKU4nKqivd",
        "colab_type": "code",
        "colab": {
          "base_uri": "https://localhost:8080/",
          "height": 119
        },
        "outputId": "1e8700c6-c4ef-41d1-f2af-93af418bb368"
      },
      "source": [
        "\n",
        "# first five by slicing, same as .head(5)\n",
        "s[:5]"
      ],
      "execution_count": 44,
      "outputs": [
        {
          "output_type": "execute_result",
          "data": {
            "text/plain": [
              "10    100\n",
              "11    101\n",
              "12    102\n",
              "13    103\n",
              "14    104\n",
              "dtype: int64"
            ]
          },
          "metadata": {
            "tags": []
          },
          "execution_count": 44
        }
      ]
    },
    {
      "cell_type": "code",
      "metadata": {
        "id": "Wvte_zxNqkY9",
        "colab_type": "code",
        "colab": {
          "base_uri": "https://localhost:8080/",
          "height": 136
        },
        "outputId": "9f6d5439-7e2b-42c7-e187-e0edc0421f80"
      },
      "source": [
        "# fourth position to the end\n",
        "s[4:]"
      ],
      "execution_count": 45,
      "outputs": [
        {
          "output_type": "execute_result",
          "data": {
            "text/plain": [
              "14    104\n",
              "15    105\n",
              "16    106\n",
              "17    107\n",
              "18    108\n",
              "19    109\n",
              "dtype: int64"
            ]
          },
          "metadata": {
            "tags": []
          },
          "execution_count": 45
        }
      ]
    },
    {
      "cell_type": "code",
      "metadata": {
        "id": "yLbWGoxXqm0_",
        "colab_type": "code",
        "colab": {
          "base_uri": "https://localhost:8080/",
          "height": 85
        },
        "outputId": "b2d182ee-5525-40de-adbf-ee38ddc8c979"
      },
      "source": [
        "# every other item in the first five positions\n",
        "s[:5:2]"
      ],
      "execution_count": 46,
      "outputs": [
        {
          "output_type": "execute_result",
          "data": {
            "text/plain": [
              "10    100\n",
              "12    102\n",
              "14    104\n",
              "dtype: int64"
            ]
          },
          "metadata": {
            "tags": []
          },
          "execution_count": 46
        }
      ]
    },
    {
      "cell_type": "code",
      "metadata": {
        "id": "s97_o8ReqnmI",
        "colab_type": "code",
        "colab": {
          "base_uri": "https://localhost:8080/",
          "height": 85
        },
        "outputId": "4674ae66-f7fc-405a-9436-3504d3d0ad46"
      },
      "source": [
        "# every other item starting at the fourth position\n",
        "s[4::2]\n"
      ],
      "execution_count": 47,
      "outputs": [
        {
          "output_type": "execute_result",
          "data": {
            "text/plain": [
              "14    104\n",
              "16    106\n",
              "18    108\n",
              "dtype: int64"
            ]
          },
          "metadata": {
            "tags": []
          },
          "execution_count": 47
        }
      ]
    },
    {
      "cell_type": "code",
      "metadata": {
        "id": "kkQaJz6Xqp6N",
        "colab_type": "code",
        "colab": {
          "base_uri": "https://localhost:8080/",
          "height": 204
        },
        "outputId": "4f3251fe-56e6-4a40-c764-57a2039d4666"
      },
      "source": [
        "# reverse the Series\n",
        "s[::-1]"
      ],
      "execution_count": 48,
      "outputs": [
        {
          "output_type": "execute_result",
          "data": {
            "text/plain": [
              "19    109\n",
              "18    108\n",
              "17    107\n",
              "16    106\n",
              "15    105\n",
              "14    104\n",
              "13    103\n",
              "12    102\n",
              "11    101\n",
              "10    100\n",
              "dtype: int64"
            ]
          },
          "metadata": {
            "tags": []
          },
          "execution_count": 48
        }
      ]
    },
    {
      "cell_type": "code",
      "metadata": {
        "id": "hdzhvHKtqsFe",
        "colab_type": "code",
        "colab": {
          "base_uri": "https://localhost:8080/",
          "height": 85
        },
        "outputId": "5fd20e0f-fa25-4182-cf90-580a400bb8a6"
      },
      "source": [
        "# every other starting at position 4, in reverse\n",
        "s[4::-2]"
      ],
      "execution_count": 49,
      "outputs": [
        {
          "output_type": "execute_result",
          "data": {
            "text/plain": [
              "14    104\n",
              "12    102\n",
              "10    100\n",
              "dtype: int64"
            ]
          },
          "metadata": {
            "tags": []
          },
          "execution_count": 49
        }
      ]
    },
    {
      "cell_type": "code",
      "metadata": {
        "id": "hOyYNd6Yqt0Y",
        "colab_type": "code",
        "colab": {
          "base_uri": "https://localhost:8080/",
          "height": 102
        },
        "outputId": "677b830f-1def-404f-c7ed-1f8952dc9907"
      },
      "source": [
        "\n",
        "# -4:, which means the last 4 rows\n",
        "s[-4:]"
      ],
      "execution_count": 50,
      "outputs": [
        {
          "output_type": "execute_result",
          "data": {
            "text/plain": [
              "16    106\n",
              "17    107\n",
              "18    108\n",
              "19    109\n",
              "dtype: int64"
            ]
          },
          "metadata": {
            "tags": []
          },
          "execution_count": 50
        }
      ]
    },
    {
      "cell_type": "code",
      "metadata": {
        "id": "JfeT0W3kqvPh",
        "colab_type": "code",
        "colab": {
          "base_uri": "https://localhost:8080/",
          "height": 136
        },
        "outputId": "fdd79e92-eed4-4cdf-fe5a-7412b86ecd71"
      },
      "source": [
        "s[:-4]"
      ],
      "execution_count": 51,
      "outputs": [
        {
          "output_type": "execute_result",
          "data": {
            "text/plain": [
              "10    100\n",
              "11    101\n",
              "12    102\n",
              "13    103\n",
              "14    104\n",
              "15    105\n",
              "dtype: int64"
            ]
          },
          "metadata": {
            "tags": []
          },
          "execution_count": 51
        }
      ]
    },
    {
      "cell_type": "code",
      "metadata": {
        "id": "VHlrPiVIqw3c",
        "colab_type": "code",
        "colab": {
          "base_uri": "https://localhost:8080/",
          "height": 85
        },
        "outputId": "df120ad8-2b58-49f4-8908-0055c68559c3"
      },
      "source": [
        "\n",
        "# equivalent to s.tail(4).head(3)\n",
        "s[-4:-1]"
      ],
      "execution_count": 52,
      "outputs": [
        {
          "output_type": "execute_result",
          "data": {
            "text/plain": [
              "16    106\n",
              "17    107\n",
              "18    108\n",
              "dtype: int64"
            ]
          },
          "metadata": {
            "tags": []
          },
          "execution_count": 52
        }
      ]
    },
    {
      "cell_type": "code",
      "metadata": {
        "id": "bSotqI8vqycm",
        "colab_type": "code",
        "colab": {
          "base_uri": "https://localhost:8080/",
          "height": 119
        },
        "outputId": "9478f884-9dca-45b0-894f-cb24ba6f31f2"
      },
      "source": [
        "# used to demonstrate the next two slices\n",
        "s = pd.Series(np.arange(0, 5), \n",
        "              index=['a', 'b', 'c', 'd', 'e'])\n",
        "s"
      ],
      "execution_count": 53,
      "outputs": [
        {
          "output_type": "execute_result",
          "data": {
            "text/plain": [
              "a    0\n",
              "b    1\n",
              "c    2\n",
              "d    3\n",
              "e    4\n",
              "dtype: int64"
            ]
          },
          "metadata": {
            "tags": []
          },
          "execution_count": 53
        }
      ]
    },
    {
      "cell_type": "code",
      "metadata": {
        "id": "pwNNXtNmq0Mo",
        "colab_type": "code",
        "colab": {
          "base_uri": "https://localhost:8080/",
          "height": 68
        },
        "outputId": "b28d19a7-4c74-4242-fa8c-afc1a5fd4c39"
      },
      "source": [
        "# slices by position as the index is characters\n",
        "s[1:3]"
      ],
      "execution_count": 54,
      "outputs": [
        {
          "output_type": "execute_result",
          "data": {
            "text/plain": [
              "b    1\n",
              "c    2\n",
              "dtype: int64"
            ]
          },
          "metadata": {
            "tags": []
          },
          "execution_count": 54
        }
      ]
    },
    {
      "cell_type": "code",
      "metadata": {
        "id": "xISMX9YBq24A",
        "colab_type": "code",
        "colab": {
          "base_uri": "https://localhost:8080/",
          "height": 85
        },
        "outputId": "043d0f89-2c6c-4463-8f70-c571ea7b3e47"
      },
      "source": [
        "# this slices by the strings in the index\n",
        "s['b':'d']"
      ],
      "execution_count": 55,
      "outputs": [
        {
          "output_type": "execute_result",
          "data": {
            "text/plain": [
              "b    1\n",
              "c    2\n",
              "d    3\n",
              "dtype: int64"
            ]
          },
          "metadata": {
            "tags": []
          },
          "execution_count": 55
        }
      ]
    },
    {
      "cell_type": "code",
      "metadata": {
        "id": "hPVOmoYxq4nu",
        "colab_type": "code",
        "colab": {
          "base_uri": "https://localhost:8080/",
          "height": 68
        },
        "outputId": "7156425a-69d8-46c4-8808-4ee20e9f62d5"
      },
      "source": [
        "\n",
        "# First series for alignment\n",
        "s1 = pd.Series([1, 2], index=['a', 'b'])\n",
        "s1"
      ],
      "execution_count": 56,
      "outputs": [
        {
          "output_type": "execute_result",
          "data": {
            "text/plain": [
              "a    1\n",
              "b    2\n",
              "dtype: int64"
            ]
          },
          "metadata": {
            "tags": []
          },
          "execution_count": 56
        }
      ]
    },
    {
      "cell_type": "code",
      "metadata": {
        "id": "Ap_ZSLnMq5Tw",
        "colab_type": "code",
        "colab": {
          "base_uri": "https://localhost:8080/",
          "height": 68
        },
        "outputId": "8ff35dff-03c3-47a9-fde3-bf81ca7b3563"
      },
      "source": [
        "# Second series for alignment\n",
        "s2 = pd.Series([4, 3], index=['b', 'a'])\n",
        "s2"
      ],
      "execution_count": 57,
      "outputs": [
        {
          "output_type": "execute_result",
          "data": {
            "text/plain": [
              "b    4\n",
              "a    3\n",
              "dtype: int64"
            ]
          },
          "metadata": {
            "tags": []
          },
          "execution_count": 57
        }
      ]
    },
    {
      "cell_type": "code",
      "metadata": {
        "id": "55erpxYTq6ye",
        "colab_type": "code",
        "colab": {
          "base_uri": "https://localhost:8080/",
          "height": 68
        },
        "outputId": "b91b1b84-7271-49bd-c5f1-414d3918c645"
      },
      "source": [
        "# add them\n",
        "s1 + s2"
      ],
      "execution_count": 58,
      "outputs": [
        {
          "output_type": "execute_result",
          "data": {
            "text/plain": [
              "a    4\n",
              "b    6\n",
              "dtype: int64"
            ]
          },
          "metadata": {
            "tags": []
          },
          "execution_count": 58
        }
      ]
    },
    {
      "cell_type": "code",
      "metadata": {
        "id": "KS12DoZiq8c4",
        "colab_type": "code",
        "colab": {
          "base_uri": "https://localhost:8080/",
          "height": 68
        },
        "outputId": "6860d3b5-0689-426c-a91f-939009829f7c"
      },
      "source": [
        "# multiply all values in s3 by 2\n",
        "s1 * 2"
      ],
      "execution_count": 59,
      "outputs": [
        {
          "output_type": "execute_result",
          "data": {
            "text/plain": [
              "a    2\n",
              "b    4\n",
              "dtype: int64"
            ]
          },
          "metadata": {
            "tags": []
          },
          "execution_count": 59
        }
      ]
    },
    {
      "cell_type": "code",
      "metadata": {
        "id": "6_qt6S6Hq-m1",
        "colab_type": "code",
        "colab": {
          "base_uri": "https://localhost:8080/",
          "height": 68
        },
        "outputId": "f58ebe12-a275-4846-ebd5-e09754b15c6f"
      },
      "source": [
        "# scalar series using s3's index\n",
        "t = pd.Series(2, s1.index)\n",
        "t"
      ],
      "execution_count": 60,
      "outputs": [
        {
          "output_type": "execute_result",
          "data": {
            "text/plain": [
              "a    2\n",
              "b    2\n",
              "dtype: int64"
            ]
          },
          "metadata": {
            "tags": []
          },
          "execution_count": 60
        }
      ]
    },
    {
      "cell_type": "code",
      "metadata": {
        "id": "CzteVeDPrBUl",
        "colab_type": "code",
        "colab": {
          "base_uri": "https://localhost:8080/",
          "height": 68
        },
        "outputId": "a002d847-56ea-4736-cdfe-867cd11712fe"
      },
      "source": [
        "# multiply s1 by t\n",
        "s1 * t"
      ],
      "execution_count": 61,
      "outputs": [
        {
          "output_type": "execute_result",
          "data": {
            "text/plain": [
              "a    2\n",
              "b    4\n",
              "dtype: int64"
            ]
          },
          "metadata": {
            "tags": []
          },
          "execution_count": 61
        }
      ]
    },
    {
      "cell_type": "code",
      "metadata": {
        "id": "0eNC3FLdrC5a",
        "colab_type": "code",
        "colab": {
          "base_uri": "https://localhost:8080/",
          "height": 68
        },
        "outputId": "9c16008f-8df4-484b-f25a-7035cc0746f4"
      },
      "source": [
        "# we will add this to s1\n",
        "s3 = pd.Series([5, 6], index=['b', 'c'])\n",
        "s3"
      ],
      "execution_count": 62,
      "outputs": [
        {
          "output_type": "execute_result",
          "data": {
            "text/plain": [
              "b    5\n",
              "c    6\n",
              "dtype: int64"
            ]
          },
          "metadata": {
            "tags": []
          },
          "execution_count": 62
        }
      ]
    },
    {
      "cell_type": "code",
      "metadata": {
        "id": "gXv4YQngrE7a",
        "colab_type": "code",
        "colab": {
          "base_uri": "https://localhost:8080/",
          "height": 85
        },
        "outputId": "083c8ef1-8a58-47fd-ccb2-7d3dd7eb54c7"
      },
      "source": [
        "# s1 and s3 have different sets of index labels\n",
        "# NaN will result for a and c\n",
        "s1 + s3"
      ],
      "execution_count": 63,
      "outputs": [
        {
          "output_type": "execute_result",
          "data": {
            "text/plain": [
              "a    NaN\n",
              "b    7.0\n",
              "c    NaN\n",
              "dtype: float64"
            ]
          },
          "metadata": {
            "tags": []
          },
          "execution_count": 63
        }
      ]
    },
    {
      "cell_type": "code",
      "metadata": {
        "id": "W0G4d9EirHrV",
        "colab_type": "code",
        "colab": {
          "base_uri": "https://localhost:8080/",
          "height": 85
        },
        "outputId": "14b116c2-bd3c-4096-9b8c-fde49f7893ca"
      },
      "source": [
        "# 2 'a' labels\n",
        "s1 = pd.Series([1.0, 2.0, 3.0], index=['a', 'a', 'b'])\n",
        "s1"
      ],
      "execution_count": 64,
      "outputs": [
        {
          "output_type": "execute_result",
          "data": {
            "text/plain": [
              "a    1.0\n",
              "a    2.0\n",
              "b    3.0\n",
              "dtype: float64"
            ]
          },
          "metadata": {
            "tags": []
          },
          "execution_count": 64
        }
      ]
    },
    {
      "cell_type": "code",
      "metadata": {
        "id": "QXi5EjJwrJo_",
        "colab_type": "code",
        "colab": {
          "base_uri": "https://localhost:8080/",
          "height": 102
        },
        "outputId": "3c93de0a-79e5-4f3e-fda0-0765f8af1635"
      },
      "source": [
        "# 3 a labels\n",
        "s2 = pd.Series([4.0, 5.0, 6.0, 7.0], index=['a', 'a', 'c', 'a'])\n",
        "s2"
      ],
      "execution_count": 65,
      "outputs": [
        {
          "output_type": "execute_result",
          "data": {
            "text/plain": [
              "a    4.0\n",
              "a    5.0\n",
              "c    6.0\n",
              "a    7.0\n",
              "dtype: float64"
            ]
          },
          "metadata": {
            "tags": []
          },
          "execution_count": 65
        }
      ]
    },
    {
      "cell_type": "code",
      "metadata": {
        "id": "Lv_y_n13rLKR",
        "colab_type": "code",
        "colab": {
          "base_uri": "https://localhost:8080/",
          "height": 170
        },
        "outputId": "1a3bb201-28a5-43e2-d7f9-e7491538528e"
      },
      "source": [
        "# will result in 6 'a' index labels, and NaN for b and c\n",
        "s1 + s2"
      ],
      "execution_count": 66,
      "outputs": [
        {
          "output_type": "execute_result",
          "data": {
            "text/plain": [
              "a    5.0\n",
              "a    6.0\n",
              "a    8.0\n",
              "a    6.0\n",
              "a    7.0\n",
              "a    9.0\n",
              "b    NaN\n",
              "c    NaN\n",
              "dtype: float64"
            ]
          },
          "metadata": {
            "tags": []
          },
          "execution_count": 66
        }
      ]
    },
    {
      "cell_type": "code",
      "metadata": {
        "id": "Se0Jk9d2rNfm",
        "colab_type": "code",
        "colab": {
          "base_uri": "https://localhost:8080/",
          "height": 119
        },
        "outputId": "5988bec4-9949-4409-d725-2a3f525d0b76"
      },
      "source": [
        "# which rows have values that are > 5?\n",
        "s = pd.Series(np.arange(0, 5), index=list('abcde'))\n",
        "logical_results = s >= 3\n",
        "logical_results"
      ],
      "execution_count": 68,
      "outputs": [
        {
          "output_type": "execute_result",
          "data": {
            "text/plain": [
              "a    False\n",
              "b    False\n",
              "c    False\n",
              "d     True\n",
              "e     True\n",
              "dtype: bool"
            ]
          },
          "metadata": {
            "tags": []
          },
          "execution_count": 68
        }
      ]
    },
    {
      "cell_type": "code",
      "metadata": {
        "id": "4V9wEwsUrQEL",
        "colab_type": "code",
        "colab": {
          "base_uri": "https://localhost:8080/",
          "height": 68
        },
        "outputId": "8c1e6a8e-1f53-404e-ca66-7fbe2e6f71ee"
      },
      "source": [
        "# select where True\n",
        "s[logical_results]"
      ],
      "execution_count": 69,
      "outputs": [
        {
          "output_type": "execute_result",
          "data": {
            "text/plain": [
              "d    3\n",
              "e    4\n",
              "dtype: int64"
            ]
          },
          "metadata": {
            "tags": []
          },
          "execution_count": 69
        }
      ]
    },
    {
      "cell_type": "code",
      "metadata": {
        "id": "0Pz31zvNrXHf",
        "colab_type": "code",
        "colab": {
          "base_uri": "https://localhost:8080/",
          "height": 34
        },
        "outputId": "821a3c2b-d12a-4baa-c8fd-29875f776a31"
      },
      "source": [
        "\n",
        "# a little shorter version\n",
        "s[s > 5]"
      ],
      "execution_count": 70,
      "outputs": [
        {
          "output_type": "execute_result",
          "data": {
            "text/plain": [
              "Series([], dtype: int64)"
            ]
          },
          "metadata": {
            "tags": []
          },
          "execution_count": 70
        }
      ]
    },
    {
      "cell_type": "code",
      "metadata": {
        "id": "7aj293X8rZrb",
        "colab_type": "code",
        "colab": {}
      },
      "source": [
        "# commented as it throws an exception\n",
        "# s[s >= 2 and s < 5]"
      ],
      "execution_count": 0,
      "outputs": []
    },
    {
      "cell_type": "code",
      "metadata": {
        "id": "CpzgKWuRrbZH",
        "colab_type": "code",
        "colab": {
          "base_uri": "https://localhost:8080/",
          "height": 85
        },
        "outputId": "563cb9bd-a839-42ec-e29c-9db5f91fcd14"
      },
      "source": [
        "# correct syntax\n",
        "s[(s >=2) & (s < 5)]"
      ],
      "execution_count": 73,
      "outputs": [
        {
          "output_type": "execute_result",
          "data": {
            "text/plain": [
              "c    2\n",
              "d    3\n",
              "e    4\n",
              "dtype: int64"
            ]
          },
          "metadata": {
            "tags": []
          },
          "execution_count": 73
        }
      ]
    },
    {
      "cell_type": "code",
      "metadata": {
        "id": "n-qh03d6rdzX",
        "colab_type": "code",
        "colab": {
          "base_uri": "https://localhost:8080/",
          "height": 34
        },
        "outputId": "dafa95e8-7420-4688-a8f0-f2258e587904"
      },
      "source": [
        "# are all items >= 0?\n",
        "(s >= 0).all()"
      ],
      "execution_count": 74,
      "outputs": [
        {
          "output_type": "execute_result",
          "data": {
            "text/plain": [
              "True"
            ]
          },
          "metadata": {
            "tags": []
          },
          "execution_count": 74
        }
      ]
    },
    {
      "cell_type": "code",
      "metadata": {
        "id": "uaTAOmc5rgRK",
        "colab_type": "code",
        "colab": {
          "base_uri": "https://localhost:8080/",
          "height": 34
        },
        "outputId": "b1fcfd5d-8305-4710-c819-7329262532b1"
      },
      "source": [
        "\n",
        "# any items < 2?\n",
        "s[s < 2].any()"
      ],
      "execution_count": 75,
      "outputs": [
        {
          "output_type": "execute_result",
          "data": {
            "text/plain": [
              "True"
            ]
          },
          "metadata": {
            "tags": []
          },
          "execution_count": 75
        }
      ]
    },
    {
      "cell_type": "code",
      "metadata": {
        "id": "aQOHapprrihf",
        "colab_type": "code",
        "colab": {
          "base_uri": "https://localhost:8080/",
          "height": 34
        },
        "outputId": "e01f9da7-397f-44cc-ed8e-fa2b8ece9c7e"
      },
      "source": [
        "# how many values < 2?\n",
        "(s < 2).sum()"
      ],
      "execution_count": 76,
      "outputs": [
        {
          "output_type": "execute_result",
          "data": {
            "text/plain": [
              "2"
            ]
          },
          "metadata": {
            "tags": []
          },
          "execution_count": 76
        }
      ]
    },
    {
      "cell_type": "code",
      "metadata": {
        "id": "11e-RpOJrkgq",
        "colab_type": "code",
        "colab": {
          "base_uri": "https://localhost:8080/",
          "height": 119
        },
        "outputId": "cfc4a796-ad70-424a-c153-1ce693fe2014"
      },
      "source": [
        "\n",
        "# sample series of five items\n",
        "np.random.seed(123456)\n",
        "s = pd.Series(np.random.randn(5))\n",
        "s"
      ],
      "execution_count": 77,
      "outputs": [
        {
          "output_type": "execute_result",
          "data": {
            "text/plain": [
              "0    0.469112\n",
              "1   -0.282863\n",
              "2   -1.509059\n",
              "3   -1.135632\n",
              "4    1.212112\n",
              "dtype: float64"
            ]
          },
          "metadata": {
            "tags": []
          },
          "execution_count": 77
        }
      ]
    },
    {
      "cell_type": "code",
      "metadata": {
        "id": "eD8unktYrnQg",
        "colab_type": "code",
        "colab": {
          "base_uri": "https://localhost:8080/",
          "height": 119
        },
        "outputId": "b4e8e055-965b-4e8a-bc33-45f2d4d3cfd2"
      },
      "source": [
        "# change the index\n",
        "s.index = ['a', 'b', 'c', 'd', 'e']\n",
        "s"
      ],
      "execution_count": 78,
      "outputs": [
        {
          "output_type": "execute_result",
          "data": {
            "text/plain": [
              "a    0.469112\n",
              "b   -0.282863\n",
              "c   -1.509059\n",
              "d   -1.135632\n",
              "e    1.212112\n",
              "dtype: float64"
            ]
          },
          "metadata": {
            "tags": []
          },
          "execution_count": 78
        }
      ]
    },
    {
      "cell_type": "code",
      "metadata": {
        "id": "yZ3tX8MirqVi",
        "colab_type": "code",
        "colab": {
          "base_uri": "https://localhost:8080/",
          "height": 102
        },
        "outputId": "9c2cb26b-5d07-4b1a-b674-f669baa99358"
      },
      "source": [
        "# a series that we will reindex\n",
        "np.random.seed(123456)\n",
        "s1 = pd.Series(np.random.randn(4), ['a', 'b', 'c', 'd'])\n",
        "s1"
      ],
      "execution_count": 79,
      "outputs": [
        {
          "output_type": "execute_result",
          "data": {
            "text/plain": [
              "a    0.469112\n",
              "b   -0.282863\n",
              "c   -1.509059\n",
              "d   -1.135632\n",
              "dtype: float64"
            ]
          },
          "metadata": {
            "tags": []
          },
          "execution_count": 79
        }
      ]
    },
    {
      "cell_type": "code",
      "metadata": {
        "id": "K4MvW-HBrrj3",
        "colab_type": "code",
        "colab": {
          "base_uri": "https://localhost:8080/",
          "height": 85
        },
        "outputId": "a0e17f08-b809-485e-9a08-e718ec1a83d9"
      },
      "source": [
        "# reindex with different number of labels\n",
        "# results in dropped rows and/or NaN's\n",
        "s2 = s1.reindex(['a', 'c', 'g'])\n",
        "s2"
      ],
      "execution_count": 80,
      "outputs": [
        {
          "output_type": "execute_result",
          "data": {
            "text/plain": [
              "a    0.469112\n",
              "c   -1.509059\n",
              "g         NaN\n",
              "dtype: float64"
            ]
          },
          "metadata": {
            "tags": []
          },
          "execution_count": 80
        }
      ]
    },
    {
      "cell_type": "code",
      "metadata": {
        "id": "c7fpqpRdrrtd",
        "colab_type": "code",
        "colab": {
          "base_uri": "https://localhost:8080/",
          "height": 136
        },
        "outputId": "4a0de41a-40a6-4a10-eb2d-9ff3abba7c63"
      },
      "source": [
        "# different types for the same values of labels\n",
        "# causes big trouble\n",
        "s1 = pd.Series([0, 1, 2], index=[0, 1, 2])\n",
        "s2 = pd.Series([3, 4, 5], index=['0', '1', '2'])\n",
        "s1 + s2"
      ],
      "execution_count": 81,
      "outputs": [
        {
          "output_type": "execute_result",
          "data": {
            "text/plain": [
              "0   NaN\n",
              "1   NaN\n",
              "2   NaN\n",
              "0   NaN\n",
              "1   NaN\n",
              "2   NaN\n",
              "dtype: float64"
            ]
          },
          "metadata": {
            "tags": []
          },
          "execution_count": 81
        }
      ]
    },
    {
      "cell_type": "code",
      "metadata": {
        "id": "pDIHCFv7rr2l",
        "colab_type": "code",
        "colab": {
          "base_uri": "https://localhost:8080/",
          "height": 85
        },
        "outputId": "0a6510eb-9927-42e4-d172-ec6b7413b6f2"
      },
      "source": [
        "# reindex by casting the label types\n",
        "# and we will get the desired result\n",
        "s2.index = s2.index.values.astype(int)\n",
        "s1 + s2"
      ],
      "execution_count": 82,
      "outputs": [
        {
          "output_type": "execute_result",
          "data": {
            "text/plain": [
              "0    3\n",
              "1    5\n",
              "2    7\n",
              "dtype: int64"
            ]
          },
          "metadata": {
            "tags": []
          },
          "execution_count": 82
        }
      ]
    },
    {
      "cell_type": "code",
      "metadata": {
        "id": "CqQHUcp8rr-x",
        "colab_type": "code",
        "colab": {
          "base_uri": "https://localhost:8080/",
          "height": 68
        },
        "outputId": "89476b9e-bddd-44a8-8183-25e7d88ed548"
      },
      "source": [
        "# fill with 0 instead of NaN\n",
        "s2 = s.copy()\n",
        "s2.reindex(['a', 'f'], fill_value=0)"
      ],
      "execution_count": 83,
      "outputs": [
        {
          "output_type": "execute_result",
          "data": {
            "text/plain": [
              "a    0.469112\n",
              "f    0.000000\n",
              "dtype: float64"
            ]
          },
          "metadata": {
            "tags": []
          },
          "execution_count": 83
        }
      ]
    },
    {
      "cell_type": "code",
      "metadata": {
        "id": "azly1ilIrsG8",
        "colab_type": "code",
        "colab": {
          "base_uri": "https://localhost:8080/",
          "height": 85
        },
        "outputId": "943caa79-3d3e-4859-c6c4-2781d2e001bb"
      },
      "source": [
        "\n",
        "# create example to demonstrate fills\n",
        "s3 = pd.Series(['red', 'green', 'blue'], index=[0, 3, 5])\n",
        "s3"
      ],
      "execution_count": 84,
      "outputs": [
        {
          "output_type": "execute_result",
          "data": {
            "text/plain": [
              "0      red\n",
              "3    green\n",
              "5     blue\n",
              "dtype: object"
            ]
          },
          "metadata": {
            "tags": []
          },
          "execution_count": 84
        }
      ]
    },
    {
      "cell_type": "code",
      "metadata": {
        "id": "xN-Td35sr08O",
        "colab_type": "code",
        "colab": {
          "base_uri": "https://localhost:8080/",
          "height": 153
        },
        "outputId": "52b129ac-b269-4e32-f1d6-4d09715980f7"
      },
      "source": [
        "\n",
        "# forward fill example\n",
        "s3.reindex(np.arange(0,7), method='ffill')"
      ],
      "execution_count": 85,
      "outputs": [
        {
          "output_type": "execute_result",
          "data": {
            "text/plain": [
              "0      red\n",
              "1      red\n",
              "2      red\n",
              "3    green\n",
              "4    green\n",
              "5     blue\n",
              "6     blue\n",
              "dtype: object"
            ]
          },
          "metadata": {
            "tags": []
          },
          "execution_count": 85
        }
      ]
    },
    {
      "cell_type": "code",
      "metadata": {
        "id": "XMIaMFPJr1Dq",
        "colab_type": "code",
        "colab": {
          "base_uri": "https://localhost:8080/",
          "height": 153
        },
        "outputId": "1a7513ed-164d-4e59-b760-a52515b02467"
      },
      "source": [
        "# backwards fill example\n",
        "s3.reindex(np.arange(0,7), method='bfill')"
      ],
      "execution_count": 86,
      "outputs": [
        {
          "output_type": "execute_result",
          "data": {
            "text/plain": [
              "0      red\n",
              "1    green\n",
              "2    green\n",
              "3    green\n",
              "4     blue\n",
              "5     blue\n",
              "6      NaN\n",
              "dtype: object"
            ]
          },
          "metadata": {
            "tags": []
          },
          "execution_count": 86
        }
      ]
    },
    {
      "cell_type": "code",
      "metadata": {
        "id": "Ab6onHdvr1LD",
        "colab_type": "code",
        "colab": {
          "base_uri": "https://localhost:8080/",
          "height": 85
        },
        "outputId": "03367a00-1239-4b88-e3a7-92110114a803"
      },
      "source": [
        "\n",
        "# generate a Series to play with\n",
        "np.random.seed(123456)\n",
        "s = pd.Series(np.random.randn(3), index=['a', 'b', 'c'])\n",
        "s"
      ],
      "execution_count": 87,
      "outputs": [
        {
          "output_type": "execute_result",
          "data": {
            "text/plain": [
              "a    0.469112\n",
              "b   -0.282863\n",
              "c   -1.509059\n",
              "dtype: float64"
            ]
          },
          "metadata": {
            "tags": []
          },
          "execution_count": 87
        }
      ]
    },
    {
      "cell_type": "code",
      "metadata": {
        "id": "CkH9wI5Dr1JV",
        "colab_type": "code",
        "colab": {
          "base_uri": "https://localhost:8080/",
          "height": 102
        },
        "outputId": "ba308bf3-6b5d-4c41-dbba-5a2b79b0240a"
      },
      "source": [
        "# change a value in the Series\n",
        "# this is done in-place\n",
        "# a new Series is not returned that has a modified value\n",
        "s['d'] = 100\n",
        "s"
      ],
      "execution_count": 88,
      "outputs": [
        {
          "output_type": "execute_result",
          "data": {
            "text/plain": [
              "a      0.469112\n",
              "b     -0.282863\n",
              "c     -1.509059\n",
              "d    100.000000\n",
              "dtype: float64"
            ]
          },
          "metadata": {
            "tags": []
          },
          "execution_count": 88
        }
      ]
    },
    {
      "cell_type": "code",
      "metadata": {
        "id": "z0FQwosor1Aq",
        "colab_type": "code",
        "colab": {
          "base_uri": "https://localhost:8080/",
          "height": 102
        },
        "outputId": "162e9dde-6af2-4dae-a653-b17d55e68ef0"
      },
      "source": [
        "# modify the value at 'd' in-place\n",
        "s['d'] = -100\n",
        "s"
      ],
      "execution_count": 89,
      "outputs": [
        {
          "output_type": "execute_result",
          "data": {
            "text/plain": [
              "a      0.469112\n",
              "b     -0.282863\n",
              "c     -1.509059\n",
              "d   -100.000000\n",
              "dtype: float64"
            ]
          },
          "metadata": {
            "tags": []
          },
          "execution_count": 89
        }
      ]
    },
    {
      "cell_type": "code",
      "metadata": {
        "id": "0syP3ODgsBMk",
        "colab_type": "code",
        "colab": {
          "base_uri": "https://localhost:8080/",
          "height": 85
        },
        "outputId": "5d2c383a-abb5-436a-873a-adcbb41e4cdf"
      },
      "source": [
        "# remove a row / item\n",
        "del(s['a'])\n",
        "s"
      ],
      "execution_count": 90,
      "outputs": [
        {
          "output_type": "execute_result",
          "data": {
            "text/plain": [
              "b     -0.282863\n",
              "c     -1.509059\n",
              "d   -100.000000\n",
              "dtype: float64"
            ]
          },
          "metadata": {
            "tags": []
          },
          "execution_count": 90
        }
      ]
    },
    {
      "cell_type": "code",
      "metadata": {
        "id": "q_FYU5R5sBS_",
        "colab_type": "code",
        "colab": {
          "base_uri": "https://localhost:8080/",
          "height": 68
        },
        "outputId": "af23ebb6-b41b-4f8f-bf44-8a98786709b0"
      },
      "source": [
        "copy = s.copy() # preserve s\n",
        "slice = copy[:2] # slice with first two rows\n",
        "slice"
      ],
      "execution_count": 91,
      "outputs": [
        {
          "output_type": "execute_result",
          "data": {
            "text/plain": [
              "b   -0.282863\n",
              "c   -1.509059\n",
              "dtype: float64"
            ]
          },
          "metadata": {
            "tags": []
          },
          "execution_count": 91
        }
      ]
    },
    {
      "cell_type": "code",
      "metadata": {
        "id": "EglWsGffsBZ7",
        "colab_type": "code",
        "colab": {
          "base_uri": "https://localhost:8080/",
          "height": 85
        },
        "outputId": "389c0d83-8dbe-49ee-bdc5-e86e44bb35f0"
      },
      "source": [
        "# change item with label 10 to 1000\n",
        "slice['b'] = 0\n",
        "# and see it in the source\n",
        "copy"
      ],
      "execution_count": 92,
      "outputs": [
        {
          "output_type": "execute_result",
          "data": {
            "text/plain": [
              "b      0.000000\n",
              "c     -1.509059\n",
              "d   -100.000000\n",
              "dtype: float64"
            ]
          },
          "metadata": {
            "tags": []
          },
          "execution_count": 92
        }
      ]
    }
  ]
}